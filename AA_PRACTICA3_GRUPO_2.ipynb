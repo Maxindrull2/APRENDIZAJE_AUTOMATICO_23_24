{
  "nbformat": 4,
  "nbformat_minor": 0,
  "metadata": {
    "colab": {
      "provenance": [],
      "include_colab_link": true
    },
    "kernelspec": {
      "name": "python3",
      "display_name": "Python 3"
    },
    "language_info": {
      "name": "python"
    }
  },
  "cells": [
    {
      "cell_type": "markdown",
      "metadata": {
        "id": "view-in-github",
        "colab_type": "text"
      },
      "source": [
        "<a href=\"https://colab.research.google.com/github/Maxindrull2/APRENDIZAJE_AUTOMATICO_23_24/blob/main/AA_PRACTICA3_GRUPO_2.ipynb\" target=\"_parent\"><img src=\"https://colab.research.google.com/assets/colab-badge.svg\" alt=\"Open In Colab\"/></a>"
      ]
    },
    {
      "cell_type": "markdown",
      "metadata": {
        "id": "HLSDSNBqRf7_"
      },
      "source": [
        "# **Introducción**\n",
        "En esta práctica se tratará de crear un modelo que clasifique una base de datos con la mayor precisión posible. El conjunto de datos con el que se trabajará será **CIFAR-100**, que abarca una amplia representación de clases desde animales hasta personas y objetos diversos entre otras. Está compuesto por un total de 100 clases distintas que contienen 600 imágenes cada una. Dichas imágenes se dividirán en el conjunto de entrenamiento, formado por 500 imágenes, y el conjunto de prueba, con 100 imágenes por clase. Además, las 100 clases del CIFAR-100 se agrupan a la vez en 20 superclases. Cada imagen viene con una etiqueta \"fina\" (la clase a la que pertenece) y una etiqueta \"gruesa\" (la superclase a la que pertenece). La presencia de dos tipos de etiquetas asociadas a cada imagen enriquece aún más el conjunto de datos, permitiendo investigaciones tanto a nivel detallado como a nivel conceptual.\n",
        "\n",
        "Para crear el modelo, se emplearán redes neuronales convolucionales. Esta manera de resolver el problema es una opción buena y efectiva debido a las características particulares de este tipo de datos y la arquitectura de las redes convolucionales. Estas redes proporcionan ventajas como, por ejemplo, las siguientes:\n",
        "\n",
        "1. **Invariancia a desplazamientos:** Las capas convolucionales están diseñadas para ser invariantes a desplazamientos, lo que significa que pueden identificar patrones independientemente de su posición exacta en la imagen. Esta propiedad es crucial cuando se trata de reconocer objetos en diferentes partes de la imagen, como en el caso de CIFAR-100.\n",
        "\n",
        "2. **Reducción de parámetros:** Las redes convolucionales reducen significativamente la cantidad de parámetros en comparación con redes totalmente conectadas. Esto es beneficioso en conjuntos de datos grandes como CIFAR-100, ya que ayuda a evitar el sobreajuste y a mejorar la generalización del modelo.\n",
        "\n",
        "3. **Extracción jerárquica de características:** Las capas convolucionales permiten la extracción jerárquica de características. A medida que avanzas en las capas, la red puede aprender representaciones cada vez más complejas y abstractas de las características presentes en las imágenes, lo que es esencial para la clasificación de objetos en un conjunto de datos diverso como CIFAR-100.\n",
        "\n",
        "\n",
        "Después de procesar y entender la base de datos que se empleará en esta práctica, se explicará en detalle en qué consiste las redes neuronales convolucionales y sus principales características.\n"
      ]
    },
    {
      "cell_type": "code",
      "execution_count": null,
      "metadata": {
        "colab": {
          "base_uri": "https://localhost:8080/"
        },
        "id": "Ii1GMKZQIBse",
        "outputId": "29d02d4c-a78d-458f-b322-28491c363943"
      },
      "outputs": [
        {
          "output_type": "stream",
          "name": "stdout",
          "text": [
            "Colab only includes TensorFlow 2.x; %tensorflow_version has no effect.\n"
          ]
        }
      ],
      "source": [
        "%tensorflow_version 2.x\n",
        "import tensorflow as tf\n",
        "from tensorflow import keras\n",
        "\n",
        "import numpy as np\n",
        "import matplotlib.pyplot as plt\n",
        "from keras.initializers import he_normal"
      ]
    },
    {
      "cell_type": "markdown",
      "source": [
        "Cargamos el dataset desde el fichero\n",
        "(Por facilidad, si se desea, se pueden descomentar la opcion para cargar los datos directamente desde keras mas abajo)"
      ],
      "metadata": {
        "id": "M8FCRcXwQNs_"
      }
    },
    {
      "cell_type": "code",
      "execution_count": null,
      "metadata": {
        "colab": {
          "base_uri": "https://localhost:8080/",
          "height": 73
        },
        "id": "DpQD34ad_aFS",
        "outputId": "d7ffa91b-59f6-4bb5-c322-ed88c7fe4dcc"
      },
      "outputs": [
        {
          "output_type": "display_data",
          "data": {
            "text/plain": [
              "<IPython.core.display.HTML object>"
            ],
            "text/html": [
              "\n",
              "     <input type=\"file\" id=\"files-494fc091-1e63-43ec-9c62-799f0aa6a8c0\" name=\"files[]\" multiple disabled\n",
              "        style=\"border:none\" />\n",
              "     <output id=\"result-494fc091-1e63-43ec-9c62-799f0aa6a8c0\">\n",
              "      Upload widget is only available when the cell has been executed in the\n",
              "      current browser session. Please rerun this cell to enable.\n",
              "      </output>\n",
              "      <script>// Copyright 2017 Google LLC\n",
              "//\n",
              "// Licensed under the Apache License, Version 2.0 (the \"License\");\n",
              "// you may not use this file except in compliance with the License.\n",
              "// You may obtain a copy of the License at\n",
              "//\n",
              "//      http://www.apache.org/licenses/LICENSE-2.0\n",
              "//\n",
              "// Unless required by applicable law or agreed to in writing, software\n",
              "// distributed under the License is distributed on an \"AS IS\" BASIS,\n",
              "// WITHOUT WARRANTIES OR CONDITIONS OF ANY KIND, either express or implied.\n",
              "// See the License for the specific language governing permissions and\n",
              "// limitations under the License.\n",
              "\n",
              "/**\n",
              " * @fileoverview Helpers for google.colab Python module.\n",
              " */\n",
              "(function(scope) {\n",
              "function span(text, styleAttributes = {}) {\n",
              "  const element = document.createElement('span');\n",
              "  element.textContent = text;\n",
              "  for (const key of Object.keys(styleAttributes)) {\n",
              "    element.style[key] = styleAttributes[key];\n",
              "  }\n",
              "  return element;\n",
              "}\n",
              "\n",
              "// Max number of bytes which will be uploaded at a time.\n",
              "const MAX_PAYLOAD_SIZE = 100 * 1024;\n",
              "\n",
              "function _uploadFiles(inputId, outputId) {\n",
              "  const steps = uploadFilesStep(inputId, outputId);\n",
              "  const outputElement = document.getElementById(outputId);\n",
              "  // Cache steps on the outputElement to make it available for the next call\n",
              "  // to uploadFilesContinue from Python.\n",
              "  outputElement.steps = steps;\n",
              "\n",
              "  return _uploadFilesContinue(outputId);\n",
              "}\n",
              "\n",
              "// This is roughly an async generator (not supported in the browser yet),\n",
              "// where there are multiple asynchronous steps and the Python side is going\n",
              "// to poll for completion of each step.\n",
              "// This uses a Promise to block the python side on completion of each step,\n",
              "// then passes the result of the previous step as the input to the next step.\n",
              "function _uploadFilesContinue(outputId) {\n",
              "  const outputElement = document.getElementById(outputId);\n",
              "  const steps = outputElement.steps;\n",
              "\n",
              "  const next = steps.next(outputElement.lastPromiseValue);\n",
              "  return Promise.resolve(next.value.promise).then((value) => {\n",
              "    // Cache the last promise value to make it available to the next\n",
              "    // step of the generator.\n",
              "    outputElement.lastPromiseValue = value;\n",
              "    return next.value.response;\n",
              "  });\n",
              "}\n",
              "\n",
              "/**\n",
              " * Generator function which is called between each async step of the upload\n",
              " * process.\n",
              " * @param {string} inputId Element ID of the input file picker element.\n",
              " * @param {string} outputId Element ID of the output display.\n",
              " * @return {!Iterable<!Object>} Iterable of next steps.\n",
              " */\n",
              "function* uploadFilesStep(inputId, outputId) {\n",
              "  const inputElement = document.getElementById(inputId);\n",
              "  inputElement.disabled = false;\n",
              "\n",
              "  const outputElement = document.getElementById(outputId);\n",
              "  outputElement.innerHTML = '';\n",
              "\n",
              "  const pickedPromise = new Promise((resolve) => {\n",
              "    inputElement.addEventListener('change', (e) => {\n",
              "      resolve(e.target.files);\n",
              "    });\n",
              "  });\n",
              "\n",
              "  const cancel = document.createElement('button');\n",
              "  inputElement.parentElement.appendChild(cancel);\n",
              "  cancel.textContent = 'Cancel upload';\n",
              "  const cancelPromise = new Promise((resolve) => {\n",
              "    cancel.onclick = () => {\n",
              "      resolve(null);\n",
              "    };\n",
              "  });\n",
              "\n",
              "  // Wait for the user to pick the files.\n",
              "  const files = yield {\n",
              "    promise: Promise.race([pickedPromise, cancelPromise]),\n",
              "    response: {\n",
              "      action: 'starting',\n",
              "    }\n",
              "  };\n",
              "\n",
              "  cancel.remove();\n",
              "\n",
              "  // Disable the input element since further picks are not allowed.\n",
              "  inputElement.disabled = true;\n",
              "\n",
              "  if (!files) {\n",
              "    return {\n",
              "      response: {\n",
              "        action: 'complete',\n",
              "      }\n",
              "    };\n",
              "  }\n",
              "\n",
              "  for (const file of files) {\n",
              "    const li = document.createElement('li');\n",
              "    li.append(span(file.name, {fontWeight: 'bold'}));\n",
              "    li.append(span(\n",
              "        `(${file.type || 'n/a'}) - ${file.size} bytes, ` +\n",
              "        `last modified: ${\n",
              "            file.lastModifiedDate ? file.lastModifiedDate.toLocaleDateString() :\n",
              "                                    'n/a'} - `));\n",
              "    const percent = span('0% done');\n",
              "    li.appendChild(percent);\n",
              "\n",
              "    outputElement.appendChild(li);\n",
              "\n",
              "    const fileDataPromise = new Promise((resolve) => {\n",
              "      const reader = new FileReader();\n",
              "      reader.onload = (e) => {\n",
              "        resolve(e.target.result);\n",
              "      };\n",
              "      reader.readAsArrayBuffer(file);\n",
              "    });\n",
              "    // Wait for the data to be ready.\n",
              "    let fileData = yield {\n",
              "      promise: fileDataPromise,\n",
              "      response: {\n",
              "        action: 'continue',\n",
              "      }\n",
              "    };\n",
              "\n",
              "    // Use a chunked sending to avoid message size limits. See b/62115660.\n",
              "    let position = 0;\n",
              "    do {\n",
              "      const length = Math.min(fileData.byteLength - position, MAX_PAYLOAD_SIZE);\n",
              "      const chunk = new Uint8Array(fileData, position, length);\n",
              "      position += length;\n",
              "\n",
              "      const base64 = btoa(String.fromCharCode.apply(null, chunk));\n",
              "      yield {\n",
              "        response: {\n",
              "          action: 'append',\n",
              "          file: file.name,\n",
              "          data: base64,\n",
              "        },\n",
              "      };\n",
              "\n",
              "      let percentDone = fileData.byteLength === 0 ?\n",
              "          100 :\n",
              "          Math.round((position / fileData.byteLength) * 100);\n",
              "      percent.textContent = `${percentDone}% done`;\n",
              "\n",
              "    } while (position < fileData.byteLength);\n",
              "  }\n",
              "\n",
              "  // All done.\n",
              "  yield {\n",
              "    response: {\n",
              "      action: 'complete',\n",
              "    }\n",
              "  };\n",
              "}\n",
              "\n",
              "scope.google = scope.google || {};\n",
              "scope.google.colab = scope.google.colab || {};\n",
              "scope.google.colab._files = {\n",
              "  _uploadFiles,\n",
              "  _uploadFilesContinue,\n",
              "};\n",
              "})(self);\n",
              "</script> "
            ]
          },
          "metadata": {}
        },
        {
          "output_type": "stream",
          "name": "stdout",
          "text": [
            "Saving cifar-100-python.tar.gz to cifar-100-python.tar.gz\n"
          ]
        }
      ],
      "source": [
        "from google.colab import files\n",
        "load = files.upload()"
      ]
    },
    {
      "cell_type": "code",
      "execution_count": null,
      "metadata": {
        "id": "D4mvhPZUBV7e"
      },
      "outputs": [],
      "source": [
        "import pickle\n",
        "import tarfile\n",
        "import pandas as pd\n",
        "\n",
        "file_path = \"cifar-100-python.tar.gz\"\n",
        "with tarfile.open(file_path, \"r:gz\") as tar:\n",
        "    # Extraer el archivo de datos que contiene el conjunto de datos CIFAR-100\n",
        "    tar.extract(\"cifar-100-python/train\")\n",
        "    tar.extract(\"cifar-100-python/test\")\n",
        "\n",
        "train_data = pd.read_pickle(\"cifar-100-python/train\")\n",
        "test_data = pd.read_pickle(\"cifar-100-python/test\")"
      ]
    },
    {
      "cell_type": "code",
      "execution_count": null,
      "metadata": {
        "id": "8QVSAm-WJcSD",
        "colab": {
          "base_uri": "https://localhost:8080/"
        },
        "outputId": "177e7dbd-d86c-4058-ed60-9ee2ee5db1f5"
      },
      "outputs": [
        {
          "output_type": "stream",
          "name": "stdout",
          "text": [
            "(50000, 3072)\n",
            "(10000, 3072)\n"
          ]
        }
      ],
      "source": [
        "from tensorflow.python.ops.gen_array_ops import tensor_scatter_max_eager_fallback\n",
        "# Cargar los datos desde el archivo Pickle\n",
        "with open('cifar-100-python/train', 'rb') as file:\n",
        "    cifar_data_train = pickle.load(file, encoding='bytes')\n",
        "\n",
        "# Cargar los datos desde el archivo Pickle\n",
        "with open('cifar-100-python/test', 'rb') as file:\n",
        "    cifar_data_test = pickle.load(file, encoding='bytes')\n",
        "\n",
        "# Obtener las imágenes y las etiquetas\n",
        "train_images = cifar_data_train[b'data']\n",
        "train_labels = cifar_data_train[b'fine_labels']\n",
        "train_coarse_labels = cifar_data_train[b'coarse_labels']\n",
        "\n",
        "# Obtener las imágenes y las etiquetas\n",
        "test_images = cifar_data_test[b'data']\n",
        "test_labels = cifar_data_test[b'fine_labels']\n",
        "test_coarse_labels = cifar_data_test[b'coarse_labels']\n",
        "\n",
        "# Dividir los datos en conjuntos de entrenamiento y prueba\n",
        "# from sklearn.model_selection import train_test_split\n",
        "\n",
        "print(train_images.shape)\n",
        "print(test_images.shape)"
      ]
    },
    {
      "cell_type": "markdown",
      "source": [
        "Convertimos las imagenes a 32x32x3 considerando los colores, para ello deberemos cambiar las dimensiones y ordenes dados"
      ],
      "metadata": {
        "id": "-dzR-focQgo7"
      }
    },
    {
      "cell_type": "code",
      "source": [
        "import cv2\n",
        "import matplotlib.pyplot as plt\n",
        "from PIL import Image\n",
        "import numpy as np\n",
        "import matplotlib.pyplot as plt\n",
        "\n",
        "train_images = train_images.reshape((50000, 3, 32, 32))\n",
        "train_images = np.transpose(train_images,(0,2,3,1))\n",
        "test_images = test_images.reshape((10000, 3, 32, 32))\n",
        "test_images = np.transpose(test_images,(0,2,3,1))\n",
        "train_labels = np.array(train_labels)\n",
        "test_labels = np.array(test_labels)\n",
        "train_coarse_labels = np.array(train_coarse_labels)\n",
        "test_coarse_labels = np.array(test_coarse_labels)\n",
        "\n"
      ],
      "metadata": {
        "id": "Qmwo-L3zJ6KS"
      },
      "execution_count": null,
      "outputs": []
    },
    {
      "cell_type": "markdown",
      "metadata": {
        "id": "8iimj-Tl12w6"
      },
      "source": [
        "# **Verificación de las dimensiones**\n",
        "\n"
      ]
    },
    {
      "cell_type": "markdown",
      "metadata": {
        "id": "oEo21HjfRuUU"
      },
      "source": [
        "Antes de comenzar, se comprueba que hay 50.000 imagenes de entrenamiento (500 por cada clase) y 10.000 de prueba (100 por cada clase) como se ha explicado previamente.\n",
        "\n",
        "Además, es necesario cargar el conjunto de datos CIFAR-100 con la opción label_mode establecida en 'fine' para obtener las etiquetas específicas de clases y en 'coarse' para obtener las etiquetas de superclases.\n",
        "\n",
        "Al observar las dimensiones que devuelve, además de confirmar las dimensiones de los conjuntos de datos, se vee que los datos son imágenes en color de 32x32 píxeles con 3 canales de color. Es decir, cada píxel en estas imágenes está representado por tres valores numéricos que indican la intensidad de los colores."
      ]
    },
    {
      "cell_type": "code",
      "execution_count": null,
      "metadata": {
        "colab": {
          "base_uri": "https://localhost:8080/"
        },
        "outputId": "eb54bd0f-d95a-40d7-872d-58cbd03e7e49",
        "id": "Z3mOo3Zgyj3S"
      },
      "outputs": [
        {
          "output_type": "stream",
          "name": "stdout",
          "text": [
            "Downloading data from https://www.cs.toronto.edu/~kriz/cifar-100-python.tar.gz\n",
            "169001437/169001437 [==============================] - 2s 0us/step\n",
            "(50000, 32, 32, 3)\n",
            "(10000, 32, 32, 3)\n",
            "(50000, 1)\n",
            "(10000, 1)\n",
            "(50000, 1)\n",
            "(10000, 1)\n"
          ]
        }
      ],
      "source": [
        "from keras.utils import to_categorical\n",
        "import tensorflow as tf\n",
        "from keras.datasets import cifar100\n",
        "import math\n",
        "from keras.preprocessing.image import ImageDataGenerator\n",
        "\n",
        "#(train_images, train_labels), (test_images, test_labels)= cifar100.load_data(label_mode = 'fine')\n",
        "#(_, train_coarse_labels), (_, test_coarse_labels)= cifar100.load_data(label_mode = 'coarse')\n",
        "print(train_images.shape)\n",
        "print(test_images.shape)\n",
        "print(train_labels.shape)\n",
        "print(test_labels.shape)\n",
        "print(train_coarse_labels.shape)\n",
        "print(test_coarse_labels.shape)"
      ]
    },
    {
      "cell_type": "markdown",
      "metadata": {
        "id": "xeHrUy5ER8BL"
      },
      "source": [
        "Se comprueba que los datos tienen 100 categorías"
      ]
    },
    {
      "cell_type": "code",
      "execution_count": null,
      "metadata": {
        "colab": {
          "base_uri": "https://localhost:8080/"
        },
        "outputId": "1e1339be-6c98-4044-8709-8e5108eeda89",
        "id": "_RwpRRspyn6W"
      },
      "outputs": [
        {
          "output_type": "stream",
          "name": "stdout",
          "text": [
            "Número de categorías: 100\n",
            "Categorías únicas: [ 0  1  2  3  4  5  6  7  8  9 10 11 12 13 14 15 16 17 18 19 20 21 22 23\n",
            " 24 25 26 27 28 29 30 31 32 33 34 35 36 37 38 39 40 41 42 43 44 45 46 47\n",
            " 48 49 50 51 52 53 54 55 56 57 58 59 60 61 62 63 64 65 66 67 68 69 70 71\n",
            " 72 73 74 75 76 77 78 79 80 81 82 83 84 85 86 87 88 89 90 91 92 93 94 95\n",
            " 96 97 98 99]\n"
          ]
        }
      ],
      "source": [
        "import numpy as np\n",
        "\n",
        "# Supongamos que y_train contiene las etiquetas\n",
        "categorias_unicas = np.unique(train_labels)\n",
        "numero_de_categorias = len(categorias_unicas)\n",
        "\n",
        "print(f\"Número de categorías: {numero_de_categorias}\")\n",
        "print(\"Categorías únicas:\", categorias_unicas)"
      ]
    },
    {
      "cell_type": "markdown",
      "metadata": {
        "id": "MW7YNneAR-oi"
      },
      "source": [
        "Se comprueba que hay 20 superclases"
      ]
    },
    {
      "cell_type": "code",
      "execution_count": null,
      "metadata": {
        "colab": {
          "base_uri": "https://localhost:8080/"
        },
        "outputId": "3a47b1a5-b6bf-4072-a85e-9fa56b0d08d7",
        "id": "gyjBRkHfyq5M"
      },
      "outputs": [
        {
          "output_type": "stream",
          "name": "stdout",
          "text": [
            "Número de superclases: 20\n",
            "Superategorías únicas: [ 0  1  2  3  4  5  6  7  8  9 10 11 12 13 14 15 16 17 18 19]\n"
          ]
        }
      ],
      "source": [
        "supercategorias_unicas = np.unique(train_coarse_labels)\n",
        "numero_de_superclases = len(supercategorias_unicas)\n",
        "\n",
        "print(f\"Número de superclases: {numero_de_superclases}\")\n",
        "print(\"Superategorías únicas:\", supercategorias_unicas)"
      ]
    },
    {
      "cell_type": "markdown",
      "source": [
        "Se confirma que hay el mismo numero de elementos por categoria"
      ],
      "metadata": {
        "id": "x9FsW50pcb8v"
      }
    },
    {
      "cell_type": "code",
      "source": [
        "# Inicializar un diccionario para contar las imágenes por categoría\n",
        "category_count = {i: 0 for i in range(numero_de_categorias)}\n",
        "\n",
        "# Contar las imágenes por categoría\n",
        "for category in train_labels.flatten():\n",
        "    category_count[category] += 1\n",
        "\n",
        "# Imprimir la cantidad de imágenes por categoría\n",
        "for category, count in category_count.items():\n",
        "    print(f'Categoría {category}: {count} imágenes')"
      ],
      "metadata": {
        "colab": {
          "base_uri": "https://localhost:8080/"
        },
        "outputId": "e2862432-58c6-488e-d216-ce4ea91761e8",
        "id": "RJAShGnGyuLW"
      },
      "execution_count": null,
      "outputs": [
        {
          "output_type": "stream",
          "name": "stdout",
          "text": [
            "Categoría 0: 500 imágenes\n",
            "Categoría 1: 500 imágenes\n",
            "Categoría 2: 500 imágenes\n",
            "Categoría 3: 500 imágenes\n",
            "Categoría 4: 500 imágenes\n",
            "Categoría 5: 500 imágenes\n",
            "Categoría 6: 500 imágenes\n",
            "Categoría 7: 500 imágenes\n",
            "Categoría 8: 500 imágenes\n",
            "Categoría 9: 500 imágenes\n",
            "Categoría 10: 500 imágenes\n",
            "Categoría 11: 500 imágenes\n",
            "Categoría 12: 500 imágenes\n",
            "Categoría 13: 500 imágenes\n",
            "Categoría 14: 500 imágenes\n",
            "Categoría 15: 500 imágenes\n",
            "Categoría 16: 500 imágenes\n",
            "Categoría 17: 500 imágenes\n",
            "Categoría 18: 500 imágenes\n",
            "Categoría 19: 500 imágenes\n",
            "Categoría 20: 500 imágenes\n",
            "Categoría 21: 500 imágenes\n",
            "Categoría 22: 500 imágenes\n",
            "Categoría 23: 500 imágenes\n",
            "Categoría 24: 500 imágenes\n",
            "Categoría 25: 500 imágenes\n",
            "Categoría 26: 500 imágenes\n",
            "Categoría 27: 500 imágenes\n",
            "Categoría 28: 500 imágenes\n",
            "Categoría 29: 500 imágenes\n",
            "Categoría 30: 500 imágenes\n",
            "Categoría 31: 500 imágenes\n",
            "Categoría 32: 500 imágenes\n",
            "Categoría 33: 500 imágenes\n",
            "Categoría 34: 500 imágenes\n",
            "Categoría 35: 500 imágenes\n",
            "Categoría 36: 500 imágenes\n",
            "Categoría 37: 500 imágenes\n",
            "Categoría 38: 500 imágenes\n",
            "Categoría 39: 500 imágenes\n",
            "Categoría 40: 500 imágenes\n",
            "Categoría 41: 500 imágenes\n",
            "Categoría 42: 500 imágenes\n",
            "Categoría 43: 500 imágenes\n",
            "Categoría 44: 500 imágenes\n",
            "Categoría 45: 500 imágenes\n",
            "Categoría 46: 500 imágenes\n",
            "Categoría 47: 500 imágenes\n",
            "Categoría 48: 500 imágenes\n",
            "Categoría 49: 500 imágenes\n",
            "Categoría 50: 500 imágenes\n",
            "Categoría 51: 500 imágenes\n",
            "Categoría 52: 500 imágenes\n",
            "Categoría 53: 500 imágenes\n",
            "Categoría 54: 500 imágenes\n",
            "Categoría 55: 500 imágenes\n",
            "Categoría 56: 500 imágenes\n",
            "Categoría 57: 500 imágenes\n",
            "Categoría 58: 500 imágenes\n",
            "Categoría 59: 500 imágenes\n",
            "Categoría 60: 500 imágenes\n",
            "Categoría 61: 500 imágenes\n",
            "Categoría 62: 500 imágenes\n",
            "Categoría 63: 500 imágenes\n",
            "Categoría 64: 500 imágenes\n",
            "Categoría 65: 500 imágenes\n",
            "Categoría 66: 500 imágenes\n",
            "Categoría 67: 500 imágenes\n",
            "Categoría 68: 500 imágenes\n",
            "Categoría 69: 500 imágenes\n",
            "Categoría 70: 500 imágenes\n",
            "Categoría 71: 500 imágenes\n",
            "Categoría 72: 500 imágenes\n",
            "Categoría 73: 500 imágenes\n",
            "Categoría 74: 500 imágenes\n",
            "Categoría 75: 500 imágenes\n",
            "Categoría 76: 500 imágenes\n",
            "Categoría 77: 500 imágenes\n",
            "Categoría 78: 500 imágenes\n",
            "Categoría 79: 500 imágenes\n",
            "Categoría 80: 500 imágenes\n",
            "Categoría 81: 500 imágenes\n",
            "Categoría 82: 500 imágenes\n",
            "Categoría 83: 500 imágenes\n",
            "Categoría 84: 500 imágenes\n",
            "Categoría 85: 500 imágenes\n",
            "Categoría 86: 500 imágenes\n",
            "Categoría 87: 500 imágenes\n",
            "Categoría 88: 500 imágenes\n",
            "Categoría 89: 500 imágenes\n",
            "Categoría 90: 500 imágenes\n",
            "Categoría 91: 500 imágenes\n",
            "Categoría 92: 500 imágenes\n",
            "Categoría 93: 500 imágenes\n",
            "Categoría 94: 500 imágenes\n",
            "Categoría 95: 500 imágenes\n",
            "Categoría 96: 500 imágenes\n",
            "Categoría 97: 500 imágenes\n",
            "Categoría 98: 500 imágenes\n",
            "Categoría 99: 500 imágenes\n"
          ]
        }
      ]
    },
    {
      "cell_type": "markdown",
      "source": [
        "Vemos que efectivamente hay el mismo numero de elementos. Por lo que el dataset es adecuado. Además, como cada superclase está dividida exactamente en 5 categorías iguales tendremos de igual manera la misma representacion en cada una de las superclases."
      ],
      "metadata": {
        "id": "0sNiUm-rciO7"
      }
    },
    {
      "cell_type": "markdown",
      "source": [
        "Se va a asignar a cada clase su superclase"
      ],
      "metadata": {
        "id": "wufrJIKjNKY0"
      }
    },
    {
      "cell_type": "code",
      "source": [
        "valores_asociados = [0] * 100\n",
        "for i in range(10000):\n",
        "  valores_asociados[int(test_labels[i])] = int(test_coarse_labels[i])\n",
        "\n",
        "print(valores_asociados)"
      ],
      "metadata": {
        "colab": {
          "base_uri": "https://localhost:8080/"
        },
        "outputId": "382f2f41-e619-49ef-9bf9-bb6947273227",
        "id": "PbvU74n5yx24"
      },
      "execution_count": null,
      "outputs": [
        {
          "output_type": "stream",
          "name": "stdout",
          "text": [
            "[4, 1, 14, 8, 0, 6, 7, 7, 18, 3, 3, 14, 9, 18, 7, 11, 3, 9, 7, 11, 6, 11, 5, 10, 7, 6, 13, 15, 3, 15, 0, 11, 1, 10, 12, 14, 16, 9, 11, 5, 5, 19, 8, 8, 15, 13, 14, 17, 18, 10, 16, 4, 17, 4, 2, 0, 17, 4, 18, 17, 10, 3, 2, 12, 12, 16, 12, 1, 9, 19, 2, 10, 0, 1, 16, 12, 9, 13, 15, 13, 16, 19, 2, 4, 6, 19, 5, 5, 8, 19, 18, 1, 2, 15, 6, 0, 17, 8, 14, 13]\n"
          ]
        }
      ]
    },
    {
      "cell_type": "markdown",
      "metadata": {
        "id": "-ab_saAaSGzh"
      },
      "source": [
        "# **Representación**\n",
        "Con el objetivo de familiarizarnos con la forma de los datos, se va a mostrar una de las imágenes. Concretamente, la imagen de la posición 9 en el conjunto de entrenamiento, eliminando las marcas en los ejes para obtener una visualización más limpia de la imagen.\n"
      ]
    },
    {
      "cell_type": "code",
      "execution_count": null,
      "metadata": {
        "colab": {
          "base_uri": "https://localhost:8080/",
          "height": 406
        },
        "outputId": "63c6b4ab-ee36-4c3d-9582-8830fbc1b34d",
        "id": "YRV7k3M-y1rQ"
      },
      "outputs": [
        {
          "output_type": "display_data",
          "data": {
            "text/plain": [
              "<Figure size 640x480 with 1 Axes>"
            ],
            "image/png": "[encoded data removed]"
          },
          "metadata": {}
        }
      ],
      "source": [
        "import cv2\n",
        "import matplotlib.pyplot as plt\n",
        "from PIL import Image\n",
        "import numpy as np\n",
        "import matplotlib.pyplot as plt\n",
        "from skimage.transform import resize\n",
        "from scipy.ndimage import rotate\n",
        "\n",
        "imgRGB = train_images[9]\n",
        "plt.xticks([]), plt.yticks([])\n",
        "plt.imshow(imgRGB)\n",
        "plt.show()"
      ]
    },
    {
      "cell_type": "markdown",
      "source": [
        "Se divide el conjunto de datos de entrenamiento en entrenamiento puro y validación"
      ],
      "metadata": {
        "id": "e4ZRVq0-eIBX"
      }
    },
    {
      "cell_type": "code",
      "source": [
        "train_images_pure = train_images[:40000]\n",
        "train_labels_pure = train_labels[:40000]\n",
        "train_coarse_labels_pure = train_coarse_labels[:40000]\n",
        "validation_images = train_images[40000:]\n",
        "validation_labels = train_labels[40000:]\n",
        "validation_coarse_labels = train_coarse_labels[40000:]"
      ],
      "metadata": {
        "id": "T866lnl-y40G"
      },
      "execution_count": null,
      "outputs": []
    },
    {
      "cell_type": "markdown",
      "source": [
        "# **Transformaciones**\n",
        "\n",
        "**INGENIERÍA DE CARACTERÍSTICAS**\n",
        "\n",
        "La ingeniería de características consiste en aplicar **transformaciones** sobre unos datos con el objetivo de mejorar el rendimiento del modelo. Esta etapa es crucial en el desarrollo de modelos predictivos, ya que la calidad de las características puede tener un impacto significativo en la capacidad del modelo para aprender patrones y realizar predicciones precisas. Si los datos se le presentan al modelo de una forma más fácil de interpretar, le facilitamos el trabajo y converge más rápido. Por lo tanto, la ingeniería de características puede mostrar información latente en los datos que no es evidente en las características originales. Algunas de estas transformaciones pueden ser rotaciones, cambios de escala, traslaciones, reflejos y otras operaciones que mantienen la etiqueta de la clase pero introducen variabilidad en las entradas.\n",
        "\n",
        "En este modelo, se decide **aumentar los datos** mediante una transformación que voltea / le da la vuelta a cada una de las 50,000 imágenes originales, generando así 50,000 imágenes adicionales. Esto crea una versión reflejada horizontalmente de la imagen original. Además, las etiquetas del conjunto de entrenamiento original (train_labels y train_coarse_labels) se duplican para coincidir con el aumento de datos realizado en las imágenes.\n",
        "\n",
        "Por otro lado, se muestran las **dimensiones** del conjunto de entrenamiento **después de la transformación** de aumento de datos para verificar cómo ha cambiado el tamaño del conjunto de entrenamiento (tamaño duplicado). Se ha pasado de (50.000, 32, 32, 3) a (100.000, 32, 32, 3).\n",
        "\n",
        "\n"
      ],
      "metadata": {
        "id": "Z_1wnYJVmRF_"
      }
    },
    {
      "cell_type": "code",
      "source": [
        "augmented_data = []\n",
        "for i in range(40000):\n",
        "  imgRGB = train_images_pure[i]\n",
        "\n",
        "  imgRGB = np.flip(imgRGB, axis=1)\n",
        "\n",
        "  augmented_data.append(imgRGB)"
      ],
      "metadata": {
        "id": "iSv403ley87Y"
      },
      "execution_count": null,
      "outputs": []
    },
    {
      "cell_type": "code",
      "source": [
        "train_images_pure = np.concatenate((train_images_pure, np.array(augmented_data)))\n",
        "train_labels_pure = np.concatenate((train_labels_pure, train_labels_pure))\n",
        "train_coarse_labels_pure = np.concatenate((train_coarse_labels_pure, train_coarse_labels_pure))"
      ],
      "metadata": {
        "id": "2trw7W_Ty87d"
      },
      "execution_count": null,
      "outputs": []
    },
    {
      "cell_type": "code",
      "source": [
        "print(train_images_pure.shape)\n",
        "print(train_labels_pure.shape)\n",
        "print(train_coarse_labels_pure.shape)\n",
        "print(validation_images.shape)\n",
        "print(validation_labels.shape)\n",
        "print(validation_coarse_labels.shape)"
      ],
      "metadata": {
        "colab": {
          "base_uri": "https://localhost:8080/"
        },
        "outputId": "20628be1-3a64-4f83-bbb8-e8e2e141da4a",
        "id": "sVa9pZRvy87e"
      },
      "execution_count": null,
      "outputs": [
        {
          "output_type": "stream",
          "name": "stdout",
          "text": [
            "(80000, 32, 32, 3)\n",
            "(80000, 1)\n",
            "(80000, 1)\n",
            "(10000, 32, 32, 3)\n",
            "(10000, 1)\n",
            "(10000, 1)\n"
          ]
        }
      ]
    },
    {
      "cell_type": "markdown",
      "source": [
        "# **Normalización de los datos**"
      ],
      "metadata": {
        "id": "HT2nv6b69ZoG"
      }
    },
    {
      "cell_type": "markdown",
      "metadata": {
        "id": "YuoFGZwySqCZ"
      },
      "source": [
        "La normalización de los datos previa al entrenamiento ayuda a la red neuronal a estabilizar y acelerar el proceso de entrenamiento, asegurarándose que todas las características contribuyen de manera equitativa al aprendizaje del modelo. Normalizar los datos previene posibles problemas de convergencia lenta o inestabilidad numérica que podrían surgir cuando los datos presentan escalas significativamente diferentes. Asimismo, al disminuir la variabilidad en las escalas de las características, se facilita al modelo aprender relaciones más relevantes entre estas, lo que mejora su capacidad de generalización a datos que no ha visto antes.\n",
        "Se normaliza de forma que transforma las características para que estén en el rango [0,1]. Es decir, que tengan una media de 0 y una desviación estándar de 1.\n",
        "\n",
        "El hecho de dividir entre 255 en el proceso se debe a que los píxeles de las imágenes están entre 0 y 255, representando cada valor de píxel la intensidad de la luz en ese píxel. En el caso de RGB (Rojo, Verde, Azul), un valor de cero representa la ausencia total de dicho color, representándose en color negro. Un valor de 255 repesenta la máxima intensidad del color al que corresponda.\n",
        "\n",
        "Previamente, se probaron otras normalizaciones (como entre -1 y 1), las cuales mejoraban el modelo. Sin embargo, para este modelo concreto, la normalización entre 0 y 1 es la mejor."
      ]
    },
    {
      "cell_type": "code",
      "execution_count": null,
      "metadata": {
        "id": "Xi-dJ7hfzAHd"
      },
      "outputs": [],
      "source": [
        "train_images = train_images.astype('float32')/255\n",
        "train_images_pure = train_images_pure.astype('float32')/255\n",
        "validation_images = validation_images.astype('float32')/255\n",
        "test_images = test_images.astype('float32')/255"
      ]
    },
    {
      "cell_type": "markdown",
      "metadata": {
        "id": "BqX_SCyzSwAs"
      },
      "source": [
        "# **Aleatorización de los datos**\n",
        "Mezclar los datos antes de entrenar un modelo es una buena costumbre debido a varias razones:\n",
        "\n",
        "1. **Evitar el sesgo del orden de los datos:**\n",
        "   - Cuando los datos están ordenados de alguna manera específica (por ejemplo, todas las instancias de una clase juntas), existe el riesgo de que el modelo aprenda patrones asociados con ese orden en particular y que cuando se le presente algo diferentes sufra grandes variaciones.\n",
        "\n",
        "2. **Mejorar la generalización y aumentar la variabilidad del entrenamiento:**\n",
        "   - Mezclar los datos ayuda a garantizar que el modelo no se especialice en patrones específicos de un subconjunto de los datos. Si los datos están organizados de cierta manera, el modelo puede funcionar bien solo para ese orden particular, pero podría tener un rendimiento deficiente en datos que no sigan la misma estructura. Además, la mezcla aleatoria introduce variabilidad en cada lote de entrenamiento, lo que puede ayudar al modelo a generalizar mejor en lugar de memorizar patrones específicos como se ha dicho. Esto es crucial para garantizar que el modelo se desempeñe bien en datos nuevos y no vistos.\n",
        "\n",
        "3. **Facilitar la convergencia del modelo:**\n",
        "   - La mezcla de datos puede ayudar a la convergencia más rápida del modelo durante el entrenamiento. Si los datos están organizados de manera desfavorable, el modelo podría tardar más en aprender los patrones relevantes.\n"
      ]
    },
    {
      "cell_type": "markdown",
      "source": [
        "# **One hot encoding**\n",
        "Se realiza una codificación categórica de las etiquetas utilizando el método conocido como \"one-hot encoding\". Este proceso implica transformar las etiquetas en vectores que contienen tantos ceros como clases existan, y colocar un valor de 1 en la posición correspondiente a la clase a la que pertenece la etiqueta original.\n",
        "\n",
        "En otras palabras, si previamente se tenía una clase con una etiqueta que indicaba que pertenecía a la clase 3, ahora se representará esa etiqueta como un vector en el cual habrá un 1 en la posición correspondiente a la clase 3, mientras que las demás posiciones contendrán ceros.\n",
        "\n",
        "La función ```to_categorical``` se encarga de llevar a cabo esta transformación, convirtiendo los datos al formato de \"one-hot encoding\" y facilitando así el tratamiento de etiquetas categóricas en contextos de aprendizaje automático."
      ],
      "metadata": {
        "id": "iJMFWBUmt_eZ"
      }
    },
    {
      "cell_type": "code",
      "execution_count": null,
      "metadata": {
        "id": "AQ0L2hz8zDno"
      },
      "outputs": [],
      "source": [
        "from keras.utils import to_categorical\n",
        "\n",
        "# Se reordenan los datos manteniendo los pares train_images~train_labels~train_coarse_labels asociados\n",
        "def aleatorio(train_images, train_labels, train_coarse_labels):\n",
        "    ale = list(zip(train_images, train_labels, train_coarse_labels))\n",
        "    np.random.shuffle(ale)\n",
        "    train_images, train_labels, train_coarse_labels = zip(*ale)\n",
        "    return np.array(train_images), np.array(train_labels), np.array(train_coarse_labels)\n",
        "\n",
        "train_images_pure, train_labels_pure, train_coarse_labels = aleatorio(train_images_pure, train_labels_pure, train_coarse_labels_pure)\n",
        "\n",
        "train_labels = to_categorical(train_labels)\n",
        "train_labels_pure = to_categorical(train_labels_pure)\n",
        "validation_labels = to_categorical(validation_labels)\n",
        "test_labels = to_categorical(test_labels)"
      ]
    },
    {
      "cell_type": "markdown",
      "metadata": {
        "id": "6n_E0h3kS1bt"
      },
      "source": [
        "# **Creación del modelo de red neuronal convolucional**"
      ]
    },
    {
      "cell_type": "markdown",
      "source": [
        "Se importan las capas y funciones necesarias de TensorFlow y Keras para construir el modelo de red neuronal convolucional (CNN) con características específicas como, entre otras, capas de convolución, pooling, inicializadores de pesos, capas densas."
      ],
      "metadata": {
        "id": "Nv0eCheNYreb"
      }
    },
    {
      "cell_type": "code",
      "execution_count": null,
      "metadata": {
        "id": "BF2LHK2wzGTb"
      },
      "outputs": [],
      "source": [
        "from tensorflow.keras import Sequential\n",
        "from tensorflow.keras.layers import Conv2D\n",
        "from tensorflow.keras.layers import MaxPooling2D\n",
        "from tensorflow.keras.layers import AveragePooling2D\n",
        "from tensorflow.keras.initializers import HeNormal\n",
        "from tensorflow.keras.layers import Dense\n",
        "from tensorflow.keras.layers import Flatten\n",
        "from tensorflow.keras.layers import Dropout\n",
        "from tensorflow.keras.layers import ZeroPadding2D\n",
        "from tensorflow.keras import regularizers\n",
        "from keras.applications.inception_v3 import preprocess_input\n",
        "from keras.layers import Layer\n",
        "from keras import backend as K\n",
        "from keras.models import Sequential\n",
        "from keras.layers import Conv2D, MaxPooling2D, Flatten, Dense, BatchNormalization, Dropout, LayerNormalization\n",
        "from keras.callbacks import ReduceLROnPlateau\n",
        "from keras.callbacks import EarlyStopping\n",
        "from keras.callbacks import LearningRateScheduler"
      ]
    },
    {
      "cell_type": "markdown",
      "source": [
        "# **Características adicionales / features**\n",
        "\n",
        "Los ```num_features``` son una parte de ingeniería de características que consiste en realizar transformaciones específica a la imagen original para  para mejorar la capacidad del modelo a la hora de predecir al exponerlo a variaciones y patrones diferentes en los datos.. En nuestro modelo, se van a tomar 20 features (características adicionales). Esto significa que el modelo va a generar 20 transformaciones distintas a cada imagen de entrada, en las que en cada una se va a elegir una zona distinta de la imagen en la que se centrará para deducir patrones específicos. Esta zona en la que se enfoca será distinta en cada feature. Además, cada feature no tiene por qué elegir todo en la misma zona, sino que puede juntar distintas.\n",
        "\n",
        "Además, de definir cuántas se usarán, se crea una capa de entrada separada para las características adicionales llamada ```additional_input```\n",
        "\n"
      ],
      "metadata": {
        "id": "5wvZnC4saVYN"
      }
    },
    {
      "cell_type": "code",
      "source": [
        "from keras.models import Sequential\n",
        "from keras.layers import Conv2D, MaxPooling2D, Flatten, Dense, BatchNormalization, Dropout, Input, Concatenate\n",
        "from keras.callbacks import ReduceLROnPlateau\n",
        "import tensorflow as tf\n",
        "import numpy as np\n",
        "\n",
        "# Assuming x1, x2, x1x2, sin_x1, and sin_x2 are your additional features\n",
        "num_features = 20\n",
        "\n",
        "# Create a separate input layer for the additional features\n",
        "additional_input = Input(shape=(num_features,))\n",
        "\n",
        "# Create the image model\n",
        "model = Sequential()"
      ],
      "metadata": {
        "id": "XG2L8fZpTW9t"
      },
      "execution_count": null,
      "outputs": []
    },
    {
      "cell_type": "markdown",
      "source": [
        "# **Redes neuronales convolucionales**\n",
        "\n",
        "Las **redes convolucionales** son un tipo de redes profundas especializadas en procesar datos que tienen una estructura en forma de cuadrícula, siendo muy eficientes en áreas como reconocimiento de imágenes o detección de objetos. Esta es la razón por la cual se emplea esta herramienta para realizar esta práctica. Estas redes aprenden **patrones jerárquicos**. Es decir, aprenderá características más simples o generales las primeras capas (como pueden ser bordes o zonas de brillo en una imagen) y cada vez que se introduzca en una capa más profunda, las características que aprende son más complejas (diferentes niveles de abstracción). Además, la forma en que tiene para realizar las tareas es eficiente, pues asume que las entradas son imágenes y, por tanto, le da unas características que facilita el reconocimiento de ciertos elementos de una imagen. Las redes van a ir identificando líneas, bordes, tamaños relativos y muchos otros factores, que una vez aprendidos pueden reconocer en cualquier imagen, hasta obtener la solución. Además, si la red detecta que hay varios que aprenden lo mismo, lo detecta y se queda solo con uno, dándole menos refuerzo a aquellos que no aporten nada nuevo o útil (**retroalimentación negativa**).\n",
        "\n",
        "Durante el entrenamiento, cada imagen va a pasar por red neuronal y los filtros se aplican sobre ellas. Cada uno de los filtros generará un mapa de características representativa de una parte de ella (**forward propagation**). Los pesos de los filtros se ajustarán para reducir el error al comparar la salida que se obtiene con la esperada. Si el filtro ayuda a detectar la imagen correctamente, su peso se verá reforzado, y sino, se modificará el filtro para que sí aporte información (**backward propagation**).\n",
        "\n",
        "Estas redes se caracterizan por tener una capa de convolución, una **función de activación** para introducir no linealidades en el modelo y aprender patrones complejos, una **capa de pooling**, una de **flatten**, **capas densas** y, por último, la **capa de salida** para clasificar las imágenes por categorías. Un elemento importante que se añade para conseguirlo son los **filtros** (también llamados kernel) que se le van aplicando en la capa convolucional para crear un mapa de características, concepto que se explicará luego.\n",
        "\n",
        "\n",
        "**Función de activación ELU (Exponential Linear Unit)**\n",
        "La función de activación que se usará en este modelo es ELU (Exponential Linear Unit). Esta función proporciona ciertas ventajas:\n",
        "* A diferencia de ReLU, ELU incluye valores negativos, lo que puede ser beneficioso al permitir que la activación sea tanto positiva como negativa. Además, tiene una suavidad en la zona negativa, lo que puede ser útil en problemas donde la suavidad es deseable.\n",
        "\n",
        "* Otra ventaja es que ELU suele tener una menor probabilidad de provocar el problema de gradientes explosivos en comparación con ReLU.\n"
      ],
      "metadata": {
        "id": "4_k3H8KUh9MU"
      }
    },
    {
      "cell_type": "markdown",
      "source": [
        "# **Primeras capas**\n",
        "\n",
        "\n",
        "\n",
        "* **Primera capa convolucional**   \n",
        "    - Se añade una capa convolucional inicialmete con 128 filtros de tamaño (3, 3), especificando el paso de desplazamiento de los filtros durante la convolución como ```strides=(1, 1)```\n",
        "    - Se aplica un relleno de ceros para mantener el tamaño de la salida igual al tamaño de la entrada (```padding='same'```). Se explica más abajo en qué consiste este concepto y por qué se toma esta decisión.\n",
        "    - input_shape=(32, 32, 3) establece la forma de entrada para la primera capa, indicando imágenes de 32x32 píxeles con 3 canales (RGB).\n",
        "    - **Mapa de características**: Los mapas de características son tensores 3D con una altura, ancho y profundidad. Es el resultado que se obtiene al reducir las dimensiones de la capa de entrada. Para ello, se introduce el concepto de stride, que consiste en un valor que es constante a lo largo del proceso de aprendizaje, está asociado a las capas y que representa el paso de avance. Es decir, si se tiene una ventana de 5x5 para recorrer la capa y el stride es 1, entonces esa ventana de 5x5 solo se moverá una posición hacia la derecha. Además, cuanto más alto es el stride, más pequeño será el mapa de características. Esto se debe a que se realizan menos pasos de avances, recorriendo antes toda la capa de entrada. Las dimensiones del mapa de características que se generan en una ventana axa (a es un natural) dimensión de la capa de entrada menos a (tamaño ventana) más 1.Otro efecto de un stride alto es que las imágenes tienen peor calidad, pues se centra más en características globales.  \n",
        "\n",
        "      El **tamaño de nuestros mapas de características generados** son de 30x30, pues teniendo un tamaño de entrada 32x32 con un kernel/filtro con ventana de tamaño 3x3 y con stride 1, entonces tenemos 32-3+1 = 30\n",
        "\n",
        "  **ESTO ES ASÍ ????????????????**\n",
        "\n",
        "**Otros hiperparámetros de la capa convolucional**\n",
        "\n",
        "* Un hiperparámetro de esta capa es el **padding**, que consiste en agregar valores adicionales de ceros alrededor de la entrada antes de aplicar la operación de convolución. Es decir, antes de deslizar la ventana y generar el mapa de características.\n",
        "\n",
        "  Para no inlcuir relleno, se hace ```padding = 'valid'```. En dicho caso, el tamaño del mapa de características resultante es más pequeño que el tamaño de la entrada.\n",
        "\n",
        "  Si queremos añadirle este relleno, se hace ```padding = 'same'```, y rellena los **huecos vacíos con ceros**. Esto quiere decir que se agrega suficiente relleno para mantener el tamaño del mapa de características resultante igual al tamaño de la entrada, de manera que la ventana de convolución pueda recorrer toda la imagen sin salirse de los bordes, pues muchas veces la imagen proporciona información valiosa en los bordes que sin el padding podría no ser capaz de capturar.\n",
        "\n",
        "  Por lo tanto, esto nos perimte conservar el tamaño de las características de forma que el tamaño de los mapas de características no se reduzca demasiado rápido y permita que la red aprenda una variedad más rica y variada de características a diferentes escalas y posiciones. Además, otra ventaja que ofrece está opción es la ayuda para evitar el **sobreentrenamiento**. Esto se debe a que las capas pueden aprender de una cantidad más amplia de características sin centrarse excesivamente en detalles específicos de las imágenes de entrenamiento. Por todas estas razones, se incluye el padding en nuestro modelo.\n",
        "\n",
        "\n",
        "* **Capa de normalización por batches (```BatchNormalization```)**:\n",
        "  - Esta capa normaliza las activaciones de la capa anterior, ayudando a estabilizar y acelerar el entrenamiento. Durante el entrenamiento, para cada mini-batch, se calculan la media y la desviación estándar de las activaciones de cada neurona en el lote. Las activaciones de cada neurona se normalizan restando la media del lote y dividiendo por la desviación estándar del lote. Esta técnica ayuda a evitar problemas como el desvanecimiento del gradiente al mantener las activaciones en rangos más estables. Además, también facilita el entrenamiento, haciéndolo más rápido y estable al normalizar las activaciones y reducir la dependencia de la inicialización de pesos.\n",
        "\n",
        "* Se añade otra capa convolucional con 128 filtros al igual que en la primera capa convolucional, así como otra capa de normalización por batches.\n",
        "\n",
        "* **Capa de max pooling**\n",
        "  - Estas capas sirven para reducir la dimensionalidad espacial de los mapas de características sin perder información importante y proporciona cierta invarianza a la translación y a pequeñas variaciones en la posición de las características, convirtiendo la red más eficiente y menos sensible a las variaciones en la posición de las características en la entrada. Al seleccionar solo el valor máximo en cada región, la operación reduce la dimensionalidad de la entrada. Esto es útil para limitar la cantidad de parámetros y operaciones en capas subsiguientes.\n",
        "\n",
        "  - Estas se aplican inmediatamente después de la capa convolucional para simplificar la información obtenida y crear otra versión pero condensada. Para ello, se toma una ventana de cierto tamaño y se simplifica igual que cuando se simplifica en la capa convolucional. En este caso, hemos elegido una ventana de (2,2). Es decir, que en dicha ventana con cuatro puntos, la capa de pooling solo se quedará con uno de estos cuatro valores. Para decidir cuál se usa, hay varios criterios. En esta práctica se empleará el criterior del máximo, es decir, se queda con el mayor valor de los cuatro\n",
        "\n",
        "* **Capa de dropout**\n",
        "  - La capa de dropout es una técnica de regularización utilizada para prevenir el sobreajuste (overfitting). Durante el entrenamiento, en cada iteración, cada neurona de la capa de dropout tiene una probabilidad de ser \"apagada\" o retirada; es decir, que toma valor cero. Esto se hace seleccionando al azar (de manera estocástica) si la unidad debe ser apagada o no. La probabilidad de retirar un número de características de salida de la capa durante el entrenamiento se controla mediante el parámetro de dropout, que suele ser un valor entre 0.2 y 0.5, representando la fracción de características que se ponen a cero en cada iteración.\n",
        "\n",
        "    Al eliminar aleatoriamente unidades durante el entrenamiento, el modelo se vuelve más robusto y menos propenso a depender fuertemente de ciertas conexiones, lo que puede ayudar a mejorar su capacidad para generalizar, así como prevenir el sobreentrenamiento al forzar a la red a no depender demasiado de características específicas sino más robustas.\n",
        "\n",
        "    En nuestro modelo, se decide darle a dropout un valor de 0,3. Es decir, se van a reducir los resultado en un 30% (la mitad de las características se ponen a cero).\n"
      ],
      "metadata": {
        "id": "qlrwq0gMgGAv"
      }
    },
    {
      "cell_type": "code",
      "source": [
        "# 1º capa convolucional\n",
        "model.add(Conv2D(128, (3, 3), strides=(1, 1), padding='same', input_shape=(32, 32, 3), activation='elu', kernel_initializer=he_normal()))\n",
        "model.add(BatchNormalization())\n",
        "model.add(Conv2D(128, (3, 3), strides=(1, 1), padding='same', activation='elu'))\n",
        "model.add(BatchNormalization())\n",
        "model.add(MaxPooling2D(pool_size=(2, 2)))\n",
        "model.add(Dropout(0.3))"
      ],
      "metadata": {
        "id": "kAx9ktGKidBB"
      },
      "execution_count": null,
      "outputs": []
    },
    {
      "cell_type": "markdown",
      "source": [
        "* **Otras capas de convolución**\n",
        "  - Se crean otras dos capas de convolución, manteniendo las mismas características que la primera, variando solamente el valor del dropout. Esto se debe a que en cada capa, el número de filtros va a ir aumentando, pues a medida que se va profundizando en las capas hacen falta más filtro para reconocer características. Por lo tanto, al igual que aumenta este número, también tendrá que aumentar el número de características que se retiran.\n",
        "\n",
        "* **Ultimas capas**\n",
        "\n",
        " -  Por último, se añade la capa flatten para aplanar el mapa de características y después conectarlas a las capas densas para la clasificación o regresión. También se concatenan las características aplanadas de la imagen con las características adicionales proporcionadas."
      ],
      "metadata": {
        "id": "pGo18SH1dEyR"
      }
    },
    {
      "cell_type": "code",
      "source": [
        "# 2º capa convolucional\n",
        "model.add(Conv2D(256, (3, 3), strides=(1, 1), padding='same', activation='elu'))\n",
        "model.add(BatchNormalization())\n",
        "model.add(Conv2D(256, (3, 3), strides=(1, 1), padding='same', activation='elu'))\n",
        "model.add(BatchNormalization())\n",
        "model.add(MaxPooling2D(pool_size=(2, 2)))\n",
        "model.add(Dropout(0.4))\n",
        "\n",
        "# 3º capa convolucional\n",
        "model.add(Conv2D(512, (3, 3), strides=(1, 1), padding='same', activation='elu'))\n",
        "model.add(BatchNormalization())\n",
        "model.add(Conv2D(512, (3, 3), strides=(1, 1), padding='same', activation='elu'))\n",
        "model.add(BatchNormalization())\n",
        "model.add(MaxPooling2D(pool_size=(2, 2)))\n",
        "model.add(Dropout(0.5))\n",
        "\n",
        "# Capa para aplanar los datos\n",
        "model.add(Flatten())\n",
        "\n",
        "# Concatenación con Características Adicionales\n",
        "combined_model = Concatenate()([model.output, additional_input])"
      ],
      "metadata": {
        "id": "34wmCtbei5ox"
      },
      "execution_count": null,
      "outputs": []
    },
    {
      "cell_type": "markdown",
      "source": [
        "**Capas Completamente Conectadas:**\n",
        "-   Después de las capas convolucionales y de pooling, se introducen capas totalmente conectadas para combinar las características aprendidas y aprender representaciones más abstractas. La elección del número de neuronas es un hiperparámetro que se debe decidir según la complejidad del problema. Luego, se aplica normalización por lotes y un dropout con una tasa del 50% por las razones que ya se han explicado. Similar a la capa anterior, se define una segunda capa totalmente conectada, donde se reduce el número de neuronas ayudando así a concentrar información relevante y reducir la complejidad del modelo.\n",
        "\n",
        "**Capa de Salida:**\n",
        "  - La capa de salida tiene 100 neuronas (correspondientes a las clases en el conjunto de datos CIFAR-100) y utiliza la función de activación 'softmax' para convertir las salidas en probabilidades, permitiendo que el modelo realice una clasificación multiclase."
      ],
      "metadata": {
        "id": "ovP-quYZg4RR"
      }
    },
    {
      "cell_type": "code",
      "source": [
        "# Primera capa totalmente conectada\n",
        "combined_model = Dense(1024, activation='elu')(combined_model)\n",
        "combined_model = BatchNormalization()(combined_model)\n",
        "combined_model = Dropout(0.5)(combined_model)\n",
        "\n",
        "# Segunda capa totalmente conectada\n",
        "combined_model = Dense(512, activation='elu')(combined_model)\n",
        "combined_model = BatchNormalization()(combined_model)\n",
        "combined_model = Dropout(0.5)(combined_model)\n",
        "\n",
        "# Capa de salida\n",
        "combined_model = Dense(100, activation='softmax')(combined_model)\n",
        "\n",
        "# Modelo final: Se junta el modelo original (model) con las características adicionales (additional_input)\n",
        "final_model = tf.keras.Model(inputs=[model.input, additional_input], outputs=combined_model)"
      ],
      "metadata": {
        "id": "3xVT2RSjjzYE"
      },
      "execution_count": null,
      "outputs": []
    },
    {
      "cell_type": "markdown",
      "source": [
        "# **Entrenamiento**\n",
        "A continuación, se detalla el proceso de entrenamiento. Para ello, especificamos primero el optimizador que se va a utilizar. En este caso, se empleará Adam con una tasa de aprendizaje de 0.01.\n",
        "Adam es un optimizador popular que se adapta de manera dinámica durante el entrenamiento, ajustando las tasas de aprendizaje para cada parámetro de la red de manera individual.\n",
        "\n",
        "**Optimizador Adam**\n",
        "-   Adam (Adaptive Moment Estimation) es un algoritmo de optimización que junta los puntos fuertes de los algoritmos RMSprop y del momentum para potenciar el proceso de aprendizaje en un modelo. Similar al momentum, Adam emplea **estimaciones** del **momento** y de la magnitud de los **gradientes** previos para actualizar los parámetros del modelo en cada iteración. No obstante, en lugar de utilizar una tasa de aprendizaje constante para todos los parámetros, Adam ajusta **dinámicamente** la tasa de aprendizaje de cada parámetro individual basándose en sus estimaciones del momento y la magnitud del gradiente. Este enfoque posibilita que el modelo se adapte de manera más eficaz y precisa a los datos de entrenamiento, resultando potencialmente en una mayor precisión de las predicciones en comparación con otros métodos de optimización. Por estas razones, este es el optimizador que se decide usar para nuestro modelo.\n",
        "\n",
        "**La tasa de aprendizaje**\n",
        "-   La tasa de aprendizaje es un hiperparámetro importante que hay que decidir para determinar el tamaño de los pasos que el algoritmo de optimización toma al actualizar los pesos del modelo durante el entrenamiento. Un valor u otro puede afectar al rendimiento del modelo. Por ejemplo, si es muy alto va a converger más rápido al principio, ya que los pesos se actualizan en pasos más grandes. Sin embargo, el riesgo de hacer esto es que puede no converger al oscilar de un punto a otro sin ninguna estabilidad. También podría ser que converga pero se quede en un mínimo que no sea el más óptimo. Por otro lado, si la tasa de aprendizaje es baja, aunque la convergencia sea más lenta, será más segura y generalmente converge a la solución. La desventaja de esto es la cantidad de tiempo que puede llegar a tardar y la posibilidad de quedarse estancado en mínimos locales. En este modelo se opta por usar una tasa del 0.01, que se considera un valor intermedio.\n",
        "\n",
        "\n",
        "**Decisión de hiperparámetro al compilar el modelo**\n",
        "  - Se compila el modelo para definir cómo el modelo debe aprender y evaluar los datos durante el entrenamiento. Se le asigna la **función de pérdida** como 'categorical_crossentropy', pues estamos tratando un problema de clasificación multiclase, y la **métrica de precisión** ('accuracy') para poder ver la precisión del modelo.\n",
        "\n",
        "**Configuración de la Callback ReduceLROnPlateau**\n",
        "-   Se crea un callback de reducción de la tasa de aprendizaje (ReduceLROnPlateau) que ajustará automáticamente la tasa de aprendizaje durante el entrenamiento. La reducción se activará si no hay mejora en la precisión de la validación (val_accuracy) después de una época (patience=1), y reducirá la tasa de aprendizaje multiplicándola por un factor de 0.1. El valor mínimo de la tasa de aprendizaje se establece en 1e-6.\n",
        "\n",
        "\n"
      ],
      "metadata": {
        "id": "AqancyS9lbEq"
      }
    },
    {
      "cell_type": "code",
      "source": [
        "# Decisión del optimizador y tasa de aprendizaje\n",
        "optimizer = tf.keras.optimizers.Adam(learning_rate=0.001)\n",
        "\n",
        "final_model.compile(optimizer=optimizer, loss='categorical_crossentropy', metrics=['accuracy'])\n",
        "\n",
        "# Configuración de la Callback ReduceLROnPlateau:\n",
        "reduce_lr1 = ReduceLROnPlateau(monitor='val_accuracy',\n",
        "                              factor=0.1,\n",
        "                              patience=2,\n",
        "                              min_lr=1e-5)\n",
        "\n",
        "reduce_lr2 = ReduceLROnPlateau(monitor='val_loss',\n",
        "                              factor=0.1,\n",
        "                              patience=2,\n",
        "                              min_lr=1e-5)\n",
        "\n",
        "# Se utiliza para generar matrices de números aleatorios entre 0 y 1. Estos números se utilizan como características adicionales.\n",
        "# Cada fila de estas matrices representa un conjunto de características adicionales para una imagen específica.\n",
        "train_additional_features = np.random.random((len(train_images_pure), num_features))\n",
        "validation_additional_features = np.random.random((len(validation_images), num_features))\n",
        "\n",
        "# Se entrena el modelo con callback ReduceLROnPlateau\n",
        "history2 = final_model.fit([train_images_pure, train_additional_features], train_labels_pure, batch_size=64,\n",
        "                            epochs=30,\n",
        "                            validation_data=([validation_images, validation_additional_features], validation_labels),\n",
        "                            callbacks=[reduce_lr1,reduce_lr2])"
      ],
      "metadata": {
        "colab": {
          "base_uri": "https://localhost:8080/"
        },
        "id": "_Yx25h4q8wbP",
        "outputId": "43f8f4d7-14dd-48f7-92e7-2db70ff5844a"
      },
      "execution_count": null,
      "outputs": [
        {
          "output_type": "stream",
          "name": "stdout",
          "text": [
            "Epoch 1/50\n",
            "1250/1250 [==============================] - 82s 57ms/step - loss: 3.8268 - accuracy: 0.1460 - val_loss: 2.8830 - val_accuracy: 0.2815 - lr: 0.0010\n",
            "Epoch 2/50\n",
            "1250/1250 [==============================] - 71s 57ms/step - loss: 2.5911 - accuracy: 0.3308 - val_loss: 2.2573 - val_accuracy: 0.4151 - lr: 0.0010\n",
            "Epoch 3/50\n",
            "1250/1250 [==============================] - 71s 57ms/step - loss: 2.1006 - accuracy: 0.4326 - val_loss: 1.8333 - val_accuracy: 0.4993 - lr: 0.0010\n",
            "Epoch 4/50\n",
            "1250/1250 [==============================] - 70s 56ms/step - loss: 1.7977 - accuracy: 0.5023 - val_loss: 1.6667 - val_accuracy: 0.5386 - lr: 0.0010\n",
            "Epoch 5/50\n",
            "1250/1250 [==============================] - 70s 56ms/step - loss: 1.5827 - accuracy: 0.5523 - val_loss: 1.5368 - val_accuracy: 0.5742 - lr: 0.0010\n",
            "Epoch 6/50\n",
            "1250/1250 [==============================] - 70s 56ms/step - loss: 1.4064 - accuracy: 0.5957 - val_loss: 1.5412 - val_accuracy: 0.5774 - lr: 0.0010\n",
            "Epoch 7/50\n",
            "1250/1250 [==============================] - 71s 56ms/step - loss: 1.2627 - accuracy: 0.6326 - val_loss: 1.4188 - val_accuracy: 0.6041 - lr: 0.0010\n",
            "Epoch 8/50\n",
            "1250/1250 [==============================] - 70s 56ms/step - loss: 1.1423 - accuracy: 0.6627 - val_loss: 1.3839 - val_accuracy: 0.6134 - lr: 0.0010\n",
            "Epoch 9/50\n",
            "1250/1250 [==============================] - 71s 56ms/step - loss: 1.0437 - accuracy: 0.6890 - val_loss: 1.4046 - val_accuracy: 0.6230 - lr: 0.0010\n",
            "Epoch 10/50\n",
            "1250/1250 [==============================] - 70s 56ms/step - loss: 0.9477 - accuracy: 0.7119 - val_loss: 1.4062 - val_accuracy: 0.6261 - lr: 0.0010\n",
            "Epoch 11/50\n",
            "1250/1250 [==============================] - 70s 56ms/step - loss: 0.8793 - accuracy: 0.7322 - val_loss: 1.3799 - val_accuracy: 0.6351 - lr: 0.0010\n",
            "Epoch 12/50\n",
            "1250/1250 [==============================] - 70s 56ms/step - loss: 0.8076 - accuracy: 0.7523 - val_loss: 1.3939 - val_accuracy: 0.6321 - lr: 0.0010\n",
            "Epoch 13/50\n",
            "1250/1250 [==============================] - 70s 56ms/step - loss: 0.7576 - accuracy: 0.7676 - val_loss: 1.3724 - val_accuracy: 0.6397 - lr: 0.0010\n",
            "Epoch 14/50\n",
            "1250/1250 [==============================] - 70s 56ms/step - loss: 0.7031 - accuracy: 0.7808 - val_loss: 1.4066 - val_accuracy: 0.6420 - lr: 0.0010\n",
            "Epoch 15/50\n",
            "1250/1250 [==============================] - 70s 56ms/step - loss: 0.6546 - accuracy: 0.7948 - val_loss: 1.4651 - val_accuracy: 0.6357 - lr: 0.0010\n",
            "Epoch 16/50\n",
            "1250/1250 [==============================] - 70s 56ms/step - loss: 0.6133 - accuracy: 0.8061 - val_loss: 1.4095 - val_accuracy: 0.6498 - lr: 0.0010\n",
            "Epoch 17/50\n",
            "1250/1250 [==============================] - 70s 56ms/step - loss: 0.5835 - accuracy: 0.8146 - val_loss: 1.4494 - val_accuracy: 0.6522 - lr: 0.0010\n",
            "Epoch 18/50\n",
            "1250/1250 [==============================] - 70s 56ms/step - loss: 0.5560 - accuracy: 0.8238 - val_loss: 1.4478 - val_accuracy: 0.6440 - lr: 0.0010\n",
            "Epoch 19/50\n",
            "1250/1250 [==============================] - 70s 56ms/step - loss: 0.5202 - accuracy: 0.8337 - val_loss: 1.4576 - val_accuracy: 0.6548 - lr: 0.0010\n",
            "Epoch 20/50\n",
            "1250/1250 [==============================] - 70s 56ms/step - loss: 0.4986 - accuracy: 0.8406 - val_loss: 1.4723 - val_accuracy: 0.6517 - lr: 0.0010\n",
            "Epoch 21/50\n",
            "1250/1250 [==============================] - 70s 56ms/step - loss: 0.4696 - accuracy: 0.8479 - val_loss: 1.5169 - val_accuracy: 0.6550 - lr: 0.0010\n",
            "Epoch 22/50\n",
            "1250/1250 [==============================] - 70s 56ms/step - loss: 0.4522 - accuracy: 0.8566 - val_loss: 1.5711 - val_accuracy: 0.6458 - lr: 0.0010\n",
            "Epoch 23/50\n",
            "1250/1250 [==============================] - 70s 56ms/step - loss: 0.4306 - accuracy: 0.8609 - val_loss: 1.5505 - val_accuracy: 0.6503 - lr: 0.0010\n",
            "Epoch 24/50\n",
            "1250/1250 [==============================] - 70s 56ms/step - loss: 0.3238 - accuracy: 0.8949 - val_loss: 1.4248 - val_accuracy: 0.6737 - lr: 2.0000e-04\n",
            "Epoch 25/50\n",
            "1250/1250 [==============================] - 70s 56ms/step - loss: 0.2825 - accuracy: 0.9072 - val_loss: 1.4435 - val_accuracy: 0.6760 - lr: 2.0000e-04\n",
            "Epoch 26/50\n",
            "1250/1250 [==============================] - 70s 56ms/step - loss: 0.2521 - accuracy: 0.9180 - val_loss: 1.4807 - val_accuracy: 0.6747 - lr: 2.0000e-04\n",
            "Epoch 27/50\n",
            "1250/1250 [==============================] - 70s 56ms/step - loss: 0.2374 - accuracy: 0.9220 - val_loss: 1.4939 - val_accuracy: 0.6776 - lr: 2.0000e-04\n",
            "Epoch 28/50\n",
            "1250/1250 [==============================] - 70s 56ms/step - loss: 0.2197 - accuracy: 0.9276 - val_loss: 1.5073 - val_accuracy: 0.6774 - lr: 2.0000e-04\n",
            "Epoch 29/50\n",
            "1250/1250 [==============================] - 70s 56ms/step - loss: 0.2125 - accuracy: 0.9298 - val_loss: 1.5266 - val_accuracy: 0.6776 - lr: 2.0000e-04\n",
            "Epoch 30/50\n",
            "1250/1250 [==============================] - 70s 56ms/step - loss: 0.1875 - accuracy: 0.9384 - val_loss: 1.5247 - val_accuracy: 0.6794 - lr: 4.0000e-05\n",
            "Epoch 31/50\n",
            "1250/1250 [==============================] - 70s 56ms/step - loss: 0.1812 - accuracy: 0.9396 - val_loss: 1.5244 - val_accuracy: 0.6812 - lr: 4.0000e-05\n",
            "Epoch 32/50\n",
            "1250/1250 [==============================] - 70s 56ms/step - loss: 0.1803 - accuracy: 0.9402 - val_loss: 1.5280 - val_accuracy: 0.6808 - lr: 4.0000e-05\n",
            "Epoch 33/50\n",
            "1250/1250 [==============================] - 70s 56ms/step - loss: 0.1789 - accuracy: 0.9399 - val_loss: 1.5321 - val_accuracy: 0.6823 - lr: 4.0000e-05\n",
            "Epoch 34/50\n",
            "1250/1250 [==============================] - 70s 56ms/step - loss: 0.1752 - accuracy: 0.9427 - val_loss: 1.5353 - val_accuracy: 0.6828 - lr: 4.0000e-05\n",
            "Epoch 35/50\n",
            "1250/1250 [==============================] - 70s 56ms/step - loss: 0.1718 - accuracy: 0.9426 - val_loss: 1.5409 - val_accuracy: 0.6821 - lr: 4.0000e-05\n",
            "Epoch 36/50\n",
            "1250/1250 [==============================] - 72s 58ms/step - loss: 0.1707 - accuracy: 0.9437 - val_loss: 1.5472 - val_accuracy: 0.6842 - lr: 4.0000e-05\n",
            "Epoch 37/50\n",
            "1250/1250 [==============================] - 72s 57ms/step - loss: 0.1673 - accuracy: 0.9446 - val_loss: 1.5514 - val_accuracy: 0.6835 - lr: 4.0000e-05\n",
            "Epoch 38/50\n",
            "1250/1250 [==============================] - 72s 58ms/step - loss: 0.1624 - accuracy: 0.9464 - val_loss: 1.5590 - val_accuracy: 0.6833 - lr: 4.0000e-05\n",
            "Epoch 39/50\n",
            "1250/1250 [==============================] - 72s 57ms/step - loss: 0.1637 - accuracy: 0.9467 - val_loss: 1.5565 - val_accuracy: 0.6839 - lr: 1.0000e-05\n",
            "Epoch 40/50\n",
            "1250/1250 [==============================] - 72s 57ms/step - loss: 0.1605 - accuracy: 0.9476 - val_loss: 1.5576 - val_accuracy: 0.6839 - lr: 1.0000e-05\n",
            "Epoch 41/50\n",
            "1250/1250 [==============================] - 73s 58ms/step - loss: 0.1592 - accuracy: 0.9478 - val_loss: 1.5579 - val_accuracy: 0.6852 - lr: 1.0000e-05\n",
            "Epoch 42/50\n",
            "1250/1250 [==============================] - 71s 57ms/step - loss: 0.1559 - accuracy: 0.9478 - val_loss: 1.5566 - val_accuracy: 0.6846 - lr: 1.0000e-05\n",
            "Epoch 43/50\n",
            "1250/1250 [==============================] - 74s 59ms/step - loss: 0.1555 - accuracy: 0.9480 - val_loss: 1.5573 - val_accuracy: 0.6838 - lr: 1.0000e-05\n",
            "Epoch 44/50\n",
            "1250/1250 [==============================] - 71s 57ms/step - loss: 0.1567 - accuracy: 0.9483 - val_loss: 1.5603 - val_accuracy: 0.6834 - lr: 1.0000e-05\n",
            "Epoch 45/50\n",
            "1250/1250 [==============================] - 72s 58ms/step - loss: 0.1600 - accuracy: 0.9474 - val_loss: 1.5619 - val_accuracy: 0.6839 - lr: 1.0000e-05\n",
            "Epoch 46/50\n",
            "1250/1250 [==============================] - 72s 58ms/step - loss: 0.1580 - accuracy: 0.9467 - val_loss: 1.5648 - val_accuracy: 0.6842 - lr: 1.0000e-05\n",
            "Epoch 47/50\n",
            "1250/1250 [==============================] - 72s 58ms/step - loss: 0.1534 - accuracy: 0.9485 - val_loss: 1.5664 - val_accuracy: 0.6833 - lr: 1.0000e-05\n",
            "Epoch 48/50\n",
            "1250/1250 [==============================] - 73s 58ms/step - loss: 0.1541 - accuracy: 0.9485 - val_loss: 1.5628 - val_accuracy: 0.6830 - lr: 1.0000e-05\n",
            "Epoch 49/50\n",
            "1250/1250 [==============================] - 71s 57ms/step - loss: 0.1532 - accuracy: 0.9477 - val_loss: 1.5645 - val_accuracy: 0.6830 - lr: 1.0000e-05\n",
            "Epoch 50/50\n",
            "1250/1250 [==============================] - 72s 57ms/step - loss: 0.1498 - accuracy: 0.9506 - val_loss: 1.5682 - val_accuracy: 0.6835 - lr: 1.0000e-05\n"
          ]
        }
      ]
    },
    {
      "cell_type": "code",
      "source": [
        "import matplotlib.pyplot as plt\n",
        "\n",
        "history_dict = history2.history\n",
        "history_dict.keys()\n",
        "\n",
        "acc = history2.history['accuracy']\n",
        "val_acc = history2.history['val_accuracy']\n",
        "loss = history2.history['loss']\n",
        "val_loss = history2.history['val_loss']\n",
        "\n",
        "epochs = range(1, len(acc) + 1)\n",
        "\n",
        "# \"bo\" es para \"punto azun\"\n",
        "plt.plot(epochs, loss, 'bo', label='Pérdida de Entrenamiento')\n",
        "# \"b\" es para \"linea continua azul\"\n",
        "plt.plot(epochs, val_loss, 'b', label='Pérdida de Validación')\n",
        "plt.title('Pérdida de Entrenamiento y Validación')\n",
        "plt.xlabel('Epochs')\n",
        "plt.ylabel('Loss')\n",
        "plt.legend()\n",
        "\n",
        "plt.show()"
      ],
      "metadata": {
        "colab": {
          "base_uri": "https://localhost:8080/",
          "height": 472
        },
        "outputId": "61915a70-99c5-4b71-8cd0-6b138fdc6b14",
        "id": "NWz5caUM0Ll8"
      },
      "execution_count": null,
      "outputs": [
        {
          "output_type": "display_data",
          "data": {
            "text/plain": [
              "<Figure size 640x480 with 1 Axes>"
            ],
            "image/png": "[encoded data removed]"
          },
          "metadata": {}
        }
      ]
    },
    {
      "cell_type": "code",
      "source": [
        "plt.clf()   # Limpia la figura\n",
        "acc_values = history_dict['accuracy']\n",
        "val_acc_values = history_dict['val_accuracy']\n",
        "\n",
        "plt.plot(epochs, acc, 'bo', label='Precisión de Entrenamiento')\n",
        "plt.plot(epochs, val_acc, 'b', label='Precisión de Validación')\n",
        "plt.title('Precisión de Entrenamiento y Valización')\n",
        "plt.xlabel('Epochs')\n",
        "plt.ylabel('Loss')\n",
        "plt.legend()\n",
        "\n",
        "plt.show()"
      ],
      "metadata": {
        "colab": {
          "base_uri": "https://localhost:8080/",
          "height": 472
        },
        "outputId": "1ce322dc-99ee-4031-c1c2-c50849bfc03d",
        "id": "vuNzPRZe0SLz"
      },
      "execution_count": null,
      "outputs": [
        {
          "output_type": "display_data",
          "data": {
            "text/plain": [
              "<Figure size 640x480 with 1 Axes>"
            ],
            "image/png": "[encoded data removed]"
          },
          "metadata": {}
        }
      ]
    },
    {
      "cell_type": "markdown",
      "source": [
        "Entrenamos de nuevo el modelo con el número óptimo de epocas (15)"
      ],
      "metadata": {
        "id": "D6K4Fecd0eSD"
      }
    },
    {
      "cell_type": "code",
      "source": [
        "augmented_data = []\n",
        "for i in range(50000):\n",
        "  imgRGB = train_images[i]\n",
        "\n",
        "  imgRGB = np.flip(imgRGB, axis=1)\n",
        "\n",
        "  augmented_data.append(imgRGB)"
      ],
      "metadata": {
        "id": "vfmiEvtloI2v"
      },
      "execution_count": null,
      "outputs": []
    },
    {
      "cell_type": "code",
      "source": [
        "train_images = np.concatenate((train_images, np.array(augmented_data)))\n",
        "train_labels = np.concatenate((train_labels, train_labels))\n",
        "train_coarse_labels = np.concatenate((train_coarse_labels, train_coarse_labels))"
      ],
      "metadata": {
        "id": "YoM6xE0foI2w"
      },
      "execution_count": null,
      "outputs": []
    },
    {
      "cell_type": "code",
      "source": [
        "from keras.models import Sequential\n",
        "from keras.layers import Conv2D, MaxPooling2D, Flatten, Dense, BatchNormalization, Dropout, Input, Concatenate\n",
        "from keras.callbacks import ReduceLROnPlateau\n",
        "import tensorflow as tf\n",
        "import numpy as np\n",
        "\n",
        "# Assuming x1, x2, x1x2, sin_x1, and sin_x2 are your additional features\n",
        "num_features = 20\n",
        "\n",
        "# Create a separate input layer for the additional features\n",
        "additional_input = Input(shape=(num_features,))\n",
        "\n",
        "# Create the image model\n",
        "model = Sequential()\n",
        "\n",
        "# Convolutional layer 1\n",
        "model.add(Conv2D(128, (3, 3), strides=(1, 1), padding='same', input_shape=(32, 32, 3), activation='elu', kernel_initializer=he_normal()))\n",
        "model.add(BatchNormalization())\n",
        "model.add(Conv2D(128, (3, 3), strides=(1, 1), padding='same', activation='elu'))\n",
        "model.add(BatchNormalization())\n",
        "model.add(MaxPooling2D(pool_size=(2, 2)))\n",
        "model.add(Dropout(0.3))\n",
        "\n",
        "# Convolutional layer 2\n",
        "model.add(Conv2D(256, (3, 3), strides=(1, 1), padding='same', activation='elu'))\n",
        "model.add(BatchNormalization())\n",
        "model.add(Conv2D(256, (3, 3), strides=(1, 1), padding='same', activation='elu'))\n",
        "model.add(BatchNormalization())\n",
        "model.add(MaxPooling2D(pool_size=(2, 2)))\n",
        "model.add(Dropout(0.4))\n",
        "\n",
        "# Convolutional layer 3\n",
        "model.add(Conv2D(512, (3, 3), strides=(1, 1), padding='same', activation='elu'))\n",
        "model.add(BatchNormalization())\n",
        "model.add(Conv2D(512, (3, 3), strides=(1, 1), padding='same', activation='elu'))\n",
        "model.add(BatchNormalization())\n",
        "model.add(MaxPooling2D(pool_size=(2, 2)))\n",
        "model.add(Dropout(0.5))\n",
        "\n",
        "# Flatten layer\n",
        "model.add(Flatten())\n",
        "\n",
        "# Concatenate the flattened image features with the additional features\n",
        "combined_model = Concatenate()([model.output, additional_input])\n",
        "\n",
        "# Fully-connected layer 1\n",
        "combined_model = Dense(1024, activation='elu')(combined_model)\n",
        "combined_model = BatchNormalization()(combined_model)\n",
        "combined_model = Dropout(0.5)(combined_model)\n",
        "\n",
        "# Fully-connected layer 2\n",
        "combined_model = Dense(512, activation='elu')(combined_model)\n",
        "combined_model = BatchNormalization()(combined_model)\n",
        "combined_model = Dropout(0.5)(combined_model)\n",
        "\n",
        "# Output layer with softmax activation for 100 classes in CIFAR-100\n",
        "combined_model = Dense(100, activation='softmax')(combined_model)\n",
        "\n",
        "# Create the combined model\n",
        "final_model = tf.keras.Model(inputs=[model.input, additional_input], outputs=combined_model)\n",
        "\n",
        "# Configure the optimizer with the learning rate\n",
        "optimizer = tf.keras.optimizers.Adam(learning_rate=0.001)\n",
        "\n",
        "# Compile the model\n",
        "final_model.compile(optimizer=optimizer, loss='categorical_crossentropy', metrics=['accuracy'])\n",
        "\n",
        "def lr_schedule(epoch):\n",
        "    if epoch < 13:\n",
        "        return 0.001\n",
        "    else:\n",
        "        return 0.0001\n",
        "\n",
        "# Assuming you have the additional features in a numpy array called additional_features\n",
        "# Make sure to preprocess them appropriately\n",
        "train_additional_features = np.random.random((len(train_images), num_features))\n",
        "test_additional_features = np.random.random((len(test_images), num_features))\n",
        "\n",
        "# Training the model with the callback ReduceLROnPlateau\n",
        "history2 = final_model.fit([train_images, train_additional_features], train_labels, batch_size=64,\n",
        "                            epochs=15,\n",
        "                            callbacks=[LearningRateScheduler(lr_schedule)])"
      ],
      "metadata": {
        "colab": {
          "base_uri": "https://localhost:8080/"
        },
        "outputId": "cd18e16b-30c5-4dc6-d26b-7889386a1823",
        "id": "iIrAAEl-0eSJ"
      },
      "execution_count": null,
      "outputs": [
        {
          "output_type": "stream",
          "name": "stdout",
          "text": [
            "Epoch 1/15\n",
            "1563/1563 [==============================] - 105s 55ms/step - loss: 3.5929 - accuracy: 0.1779 - lr: 0.0010\n",
            "Epoch 2/15\n",
            "1563/1563 [==============================] - 87s 55ms/step - loss: 2.3534 - accuracy: 0.3795 - lr: 0.0010\n",
            "Epoch 3/15\n",
            "1563/1563 [==============================] - 87s 56ms/step - loss: 1.9072 - accuracy: 0.4781 - lr: 0.0010\n",
            "Epoch 4/15\n",
            "1563/1563 [==============================] - 90s 57ms/step - loss: 1.6430 - accuracy: 0.5399 - lr: 0.0010\n",
            "Epoch 5/15\n",
            "1563/1563 [==============================] - 86s 55ms/step - loss: 1.4432 - accuracy: 0.5894 - lr: 0.0010\n",
            "Epoch 6/15\n",
            "1563/1563 [==============================] - 87s 55ms/step - loss: 1.2838 - accuracy: 0.6287 - lr: 0.0010\n",
            "Epoch 7/15\n",
            "1563/1563 [==============================] - 86s 55ms/step - loss: 1.1577 - accuracy: 0.6619 - lr: 0.0010\n",
            "Epoch 8/15\n",
            "1563/1563 [==============================] - 86s 55ms/step - loss: 1.0645 - accuracy: 0.6833 - lr: 0.0010\n",
            "Epoch 9/15\n",
            "1563/1563 [==============================] - 86s 55ms/step - loss: 0.9723 - accuracy: 0.7088 - lr: 0.0010\n",
            "Epoch 10/15\n",
            "1563/1563 [==============================] - 86s 55ms/step - loss: 0.8940 - accuracy: 0.7294 - lr: 0.0010\n",
            "Epoch 11/15\n",
            "1563/1563 [==============================] - 86s 55ms/step - loss: 0.8324 - accuracy: 0.7459 - lr: 0.0010\n",
            "Epoch 12/15\n",
            "1563/1563 [==============================] - 86s 55ms/step - loss: 0.7698 - accuracy: 0.7630 - lr: 0.0010\n",
            "Epoch 13/15\n",
            "1563/1563 [==============================] - 86s 55ms/step - loss: 0.7275 - accuracy: 0.7742 - lr: 0.0010\n",
            "Epoch 14/15\n",
            "1563/1563 [==============================] - 86s 55ms/step - loss: 0.5634 - accuracy: 0.8218 - lr: 1.0000e-04\n",
            "Epoch 15/15\n",
            "1563/1563 [==============================] - 86s 55ms/step - loss: 0.5075 - accuracy: 0.8378 - lr: 1.0000e-04\n"
          ]
        }
      ]
    },
    {
      "cell_type": "markdown",
      "source": [
        "Para ver la adecuación del modelo la evaluamos en base a datos que no ha visto nunca, estos son, los datos de test."
      ],
      "metadata": {
        "id": "_KaFajHo0eSJ"
      }
    },
    {
      "cell_type": "code",
      "source": [
        "final_model.evaluate([test_images, test_additional_features], test_labels)"
      ],
      "metadata": {
        "colab": {
          "base_uri": "https://localhost:8080/"
        },
        "outputId": "c78cb794-12dd-4a1c-edc4-182d47b02ff9",
        "id": "KCfGlZZ40eSJ"
      },
      "execution_count": null,
      "outputs": [
        {
          "output_type": "stream",
          "name": "stdout",
          "text": [
            "313/313 [==============================] - 3s 10ms/step - loss: 1.1467 - accuracy: 0.6991\n"
          ]
        },
        {
          "output_type": "execute_result",
          "data": {
            "text/plain": [
              "[1.1466730833053589, 0.6991000175476074]"
            ]
          },
          "metadata": {},
          "execution_count": 21
        }
      ]
    },
    {
      "cell_type": "code",
      "source": [
        "predicciones = final_model.predict([test_images, test_additional_features])"
      ],
      "metadata": {
        "colab": {
          "base_uri": "https://localhost:8080/"
        },
        "outputId": "784baa8a-7486-4533-b843-e8db6a6d025b",
        "id": "4t7uzIv90eSJ"
      },
      "execution_count": null,
      "outputs": [
        {
          "output_type": "stream",
          "name": "stdout",
          "text": [
            "313/313 [==============================] - 3s 8ms/step\n"
          ]
        }
      ]
    },
    {
      "cell_type": "markdown",
      "source": [
        "Calculamos la precisión sobre las superclases"
      ],
      "metadata": {
        "id": "dAW3Qo8b0eSJ"
      }
    },
    {
      "cell_type": "code",
      "source": [
        "count = 0\n",
        "for i in range(10000):\n",
        "  if valores_asociados[np.argmax(predicciones[i])]==valores_asociados[np.argmax(test_labels[i])]:\n",
        "    count += 1\n",
        "\n",
        "print(count/100)"
      ],
      "metadata": {
        "colab": {
          "base_uri": "https://localhost:8080/"
        },
        "outputId": "f79dfb85-04c4-4ab5-fc7d-0c580490a070",
        "id": "JgSl5ZBO0eSJ"
      },
      "execution_count": null,
      "outputs": [
        {
          "output_type": "stream",
          "name": "stdout",
          "text": [
            "80.73\n"
          ]
        }
      ]
    },
    {
      "cell_type": "markdown",
      "source": [
        "# **Matriz de confusión**\n",
        "\n",
        "Se genera la matriz de confusión cm usando las etiquetas verdaderas y las etiquetas predichas. El objetivo de la matriz es evaluar el rendimiento de un modelo al comparar las predicciones con los los valores reales. Para ello, se muestra el número de instancias de cada clase que han sido clasificadas correctamente o incorrectamente por el modelo.\n",
        "\n",
        "Se configura el tamaño de la figura de la matriz con plt.figure(figsize=(10, 6)). Además, las etiquetas de los ejes x e y representan las clases predichas y verdaderas, respectivamente."
      ],
      "metadata": {
        "id": "Pjb3NYvRtBuv"
      }
    },
    {
      "cell_type": "code",
      "source": [
        "from sklearn.metrics import confusion_matrix\n",
        "import numpy as np\n",
        "import matplotlib.pyplot as plt\n",
        "import seaborn as sns\n",
        "from tensorflow.keras.models import Sequential\n",
        "from tensorflow.keras.layers import Conv2D, MaxPooling2D, Flatten, Dense\n",
        "from tensorflow.keras.utils import to_categorical\n",
        "\n",
        "# Assuming 'model' is your trained model and 'test_images', 'test_labels' are your test data\n",
        "predictions = predicciones\n",
        "predicted_labels = np.argmax(predictions, axis=1)  # Convert probabilities to class labels\n",
        "\n",
        "# Convert one-hot encoded labels to class labels\n",
        "true_labels = np.argmax(test_labels, axis=1)\n",
        "\n",
        "# Create confusion matrix\n",
        "cm = confusion_matrix(true_labels, predicted_labels)\n",
        "\n",
        "# Plot confusion matrix\n",
        "plt.figure(figsize=(10, 6))\n",
        "sns.heatmap(cm, cmap=\"Blues\")\n",
        "plt.xlabel('Predicted')\n",
        "plt.ylabel('True')\n",
        "plt.title('Confusion Matrix')\n",
        "plt.show()"
      ],
      "metadata": {
        "colab": {
          "base_uri": "https://localhost:8080/",
          "height": 564
        },
        "outputId": "a62362ab-e621-44d3-ac81-5cf559b4ac4a",
        "id": "yvKMH3Fq0lNc"
      },
      "execution_count": null,
      "outputs": [
        {
          "output_type": "display_data",
          "data": {
            "text/plain": [
              "<Figure size 1000x600 with 2 Axes>"
            ],
            "image/png": "[encoded data removed]"
          },
          "metadata": {}
        }
      ]
    },
    {
      "cell_type": "markdown",
      "source": [
        "# Ejemplos gráficos de las predicciones"
      ],
      "metadata": {
        "id": "87IszOeR0udp"
      }
    },
    {
      "cell_type": "markdown",
      "source": [
        "Creamos las funciones que nos lo representen de manera adecuada"
      ],
      "metadata": {
        "id": "jU-SRWvZ0zKM"
      }
    },
    {
      "cell_type": "code",
      "source": [
        "def plot_image(i, predictions_array, true_label, img):\n",
        "  predictions_array, true_label, img = predictions_array, true_label[i], img[i]\n",
        "  plt.grid(False)\n",
        "  plt.xticks([])\n",
        "  plt.yticks([])\n",
        "\n",
        "  #La función ('inshow') de Matplotlib permite mostrar imagenes, en este caso en\n",
        "  # escala de grises, ya que el mapa de color ('cmap') es ('plt.cm.binary'),\n",
        "  # donde 0 es negro y 1 es blaco, utilizando así que las imagenes están en forma\n",
        "  # de porcentajes.\n",
        "  plt.imshow(img, cmap=plt.cm.binary)\n",
        "\n",
        "  # La función ('argmax') de Numpy, devuelve el indice del valor máximo en el array\n",
        "  # , lo que significa que ('predicted_label') ahora contiene la etiqueta predicha.\n",
        "  predicted_label = np.argmax(predictions_array)\n",
        "  if predicted_label.all() == true_label.all():\n",
        "    color = 'blue'\n",
        "  else:\n",
        "    color = 'red'\n",
        "\n",
        "  # La siguinte función de Matplotlib establece la etiqueta del eje X de la imagen,\n",
        "  # la etiqueta consta de tres numeros:\n",
        "  # 1 - Mustra la opción de la etiqueta de la imagen predicha por el modelo\n",
        "  # 2 - Muestra en porcentaje de acierto de la imagen\n",
        "  # 3 - Muestra el numero de la etiqueta correcta\n",
        "  plt.xlabel(\"{} {:2.0f}% ({})\".format(predicted_label,\n",
        "                                100*np.max(predictions_array),\n",
        "                                np.argmax(true_label)),\n",
        "                                color=color)\n",
        "\n",
        "def plot_value_array(i, predictions_array, true_label):\n",
        "  predictions_array, true_label = predictions_array, true_label[i]\n",
        "  plt.grid(False)\n",
        "  plt.xticks(range(100))\n",
        "  plt.yticks([])\n",
        "\n",
        "  # La siguiente función de la biblioteca 'matplotlib' crea un gráfico de barras\n",
        "  # con 10 barras (nº de etiquetas), donde las alturas estan dadas por los\n",
        "  # los valores ('predictions_array'), siendo todas de color verde, menos\n",
        "  # el valor de la etiqueta, que en caso de coincidir con el valro de la prediccion\n",
        "  # es negra, y en caso contrario, la barra de la etiqueta sera negra y la\n",
        "  # predicción roja\n",
        "  thisplot = plt.bar(range(100), predictions_array, color=\"#00FF00\")\n",
        "  # Implementaremos 00FF00 en vez de 777777, para poder visualizar mejor los porcentajes\n",
        "  plt.ylim([0, 1])\n",
        "  predicted_label = np.argmax(predictions_array)\n",
        "\n",
        "  thisplot[predicted_label].set_color('red')\n",
        "  thisplot[np.argmax(true_label)].set_color('black')"
      ],
      "metadata": {
        "id": "DfNOzvz5umZf"
      },
      "execution_count": null,
      "outputs": []
    },
    {
      "cell_type": "markdown",
      "source": [
        "Mostramos las diez primeras imagenes y sus predicciones"
      ],
      "metadata": {
        "id": "Qb6y6we-04Pg"
      }
    },
    {
      "cell_type": "code",
      "source": [
        "import matplotlib.pyplot as plt\n",
        "import matplotlib.image as mpimg\n",
        "\n",
        "for j in range(10)\n",
        "  plt.figure(figsize=(6,3))\n",
        "  plt.subplot(1,2,1)\n",
        "  plot_image(j, predicciones[j], test_labels, test_images)\n",
        "  plt.subplot(1,2,2)\n",
        "  plot_value_array(j, predicciones[j],  test_labels)\n",
        "  plt.show()\n",
        "  plt.clf()"
      ],
      "metadata": {
        "colab": {
          "base_uri": "https://localhost:8080/",
          "height": 291
        },
        "id": "G-c9AbN4tyd-",
        "outputId": "016ca777-4728-4763-fdcb-46fdcd736bea"
      },
      "execution_count": null,
      "outputs": [
        {
          "output_type": "display_data",
          "data": {
            "text/plain": [
              "<Figure size 600x300 with 2 Axes>"
            ],
            "image/png": "[encoded data removed]"
          },
          "metadata": {}
        }
      ]
    },
    {
      "cell_type": "markdown",
      "source": [
        "# Modelos de prueba"
      ],
      "metadata": {
        "id": "MSeC8xQPssck"
      }
    },
    {
      "cell_type": "markdown",
      "source": [
        "Modelo base"
      ],
      "metadata": {
        "id": "gXwm7xUnth5I"
      }
    },
    {
      "cell_type": "markdown",
      "source": [
        "```\n",
        "model = Sequential()\n",
        "model.add(Conv2D(32, (5, 5), activation='relu', input_shape=(32, 32, 3)))\n",
        "model.add(MaxPooling2D((2, 2)))\n",
        "model.add(Conv2D(64, (5, 5), activation='relu'))\n",
        "model.add(MaxPooling2D((2, 2)))\n",
        "model.add(Flatten())\n",
        "model.add(Dense(100, activation='softmax'))\n",
        "\n",
        "\n",
        "model.compile(optimizer='sgd', loss='categorical_crossentropy', metrics=['accuracy'])\n",
        "\n",
        "\n",
        "history = model.fit(train_images_pure, train_labels_pure, batch_size=64,\n",
        "                            epochs=5,\n",
        "                            validation_data=(validation_images, validation_labels))\n",
        "\n",
        "```"
      ],
      "metadata": {
        "id": "IxpVSOCWtYiO"
      }
    },
    {
      "cell_type": "markdown",
      "source": [
        "Aunque los resultados obtenidos son superiores a la aleatoriedad (>0.01) no son los mejores posibles por lo que se prueba a añadir capas buscando la mejora.\n"
      ],
      "metadata": {
        "id": "8ixAN9MDtkyM"
      }
    },
    {
      "cell_type": "markdown",
      "source": [
        "```\n",
        "model = Sequential()\n",
        "model.add(Conv2D(32, (5, 5), activation='relu', input_shape=(32, 32, 3)))\n",
        "model.add(MaxPooling2D((2, 2)))\n",
        "model.add(Conv2D(64, (5, 5), activation='relu'))\n",
        "model.add(MaxPooling2D((2, 2)))\n",
        "model.add(Conv2D(128, (5, 5), activation='relu'))\n",
        "model.add(MaxPooling2D((2, 2)))\n",
        "model.add(Flatten())\n",
        "model.add(Dense(100, activation='softmax'))\n",
        "\n",
        "\n",
        "model.compile(optimizer='sgd', loss='categorical_crossentropy', metrics=['accuracy'])\n",
        "\n",
        "\n",
        "history = model.fit(train_images_pure, train_labels_pure, batch_size=64,\n",
        "                            epochs=5,\n",
        "                            validation_data=(validation_images, validation_labels))\n",
        "\n",
        "```"
      ],
      "metadata": {
        "id": "-xNYFoVjtn_5"
      }
    },
    {
      "cell_type": "markdown",
      "source": [
        "Añadir una tercera capa resulta eficiente, pero una cuarta no. Por lo que seleccionamos que el número óptimo de capas convolucionales son 3. Ahora nos queda determinar cual es el mejor valor de paso del kernel para las capas."
      ],
      "metadata": {
        "id": "d2HDSR9O1Ggi"
      }
    },
    {
      "cell_type": "markdown",
      "source": [
        "```\n",
        "model = Sequential()\n",
        "model.add(Conv2D(32, (3, 3), activation='relu', input_shape=(32, 32, 3)))\n",
        "model.add(MaxPooling2D((2, 2)))\n",
        "model.add(Conv2D(64, (3, 3), activation='relu'))\n",
        "model.add(MaxPooling2D((2, 2)))\n",
        "model.add(Conv2D(128, (3, 3), activation='relu'))\n",
        "model.add(MaxPooling2D((3, 3)))\n",
        "model.add(Flatten())\n",
        "model.add(Dense(100, activation='softmax'))\n",
        "\n",
        "\n",
        "model.compile(optimizer='sgd', loss='categorical_crossentropy', metrics=['accuracy'])\n",
        "\n",
        "\n",
        "history = model.fit(train_images_pure, train_labels_pure, batch_size=64,\n",
        "                            epochs=5,\n",
        "                            validation_data=(validation_images, validation_labels))\n",
        "\n",
        "```"
      ],
      "metadata": {
        "id": "jyg8K2Lh1Huj"
      }
    },
    {
      "cell_type": "markdown",
      "source": [
        "3x3 resulta ser la dimensión que mejor aprende. Ahora se prueban con otros optimizadores que no sean sgd, como son adam y rmsprop"
      ],
      "metadata": {
        "id": "RSbdItVV1LX3"
      }
    },
    {
      "cell_type": "markdown",
      "source": [
        "```\n",
        "model = Sequential()\n",
        "model.add(Conv2D(32, (3, 3), activation='relu', input_shape=(32, 32, 3)))\n",
        "model.add(MaxPooling2D((2, 2)))\n",
        "model.add(Conv2D(64, (3, 3), activation='relu'))\n",
        "model.add(MaxPooling2D((2, 2)))\n",
        "model.add(Conv2D(128, (3, 3), activation='relu'))\n",
        "model.add(MaxPooling2D((3, 3)))\n",
        "model.add(Flatten())\n",
        "model.add(Dense(100, activation='softmax'))\n",
        "\n",
        "\n",
        "model.compile(optimizer='Adam', loss='categorical_crossentropy', metrics=['accuracy'])\n",
        "\n",
        "\n",
        "history = model.fit(train_images_pure, train_labels_pure, batch_size=64,\n",
        "                            epochs=5,\n",
        "                            validation_data=(validation_images, validation_labels))\n",
        "\n",
        "```"
      ],
      "metadata": {
        "id": "EtlELt411M_U"
      }
    },
    {
      "cell_type": "markdown",
      "source": [
        "Adam resulta ser el optimizador que mejor funciona. Ahora se prueba a añadir una capa dense mas buscando buscar mayor profundidad. Además, para un mayor analisis de los resultados, ampliamos el numero de épocas.\n"
      ],
      "metadata": {
        "id": "RcvMUWlo1Yvt"
      }
    },
    {
      "cell_type": "markdown",
      "source": [
        "```\n",
        "model = Sequential()\n",
        "model.add(Conv2D(32, (3, 3), activation='relu', input_shape=(32, 32, 3)))\n",
        "model.add(MaxPooling2D((2, 2)))\n",
        "model.add(Conv2D(64, (3, 3), activation='relu'))\n",
        "model.add(MaxPooling2D((2, 2)))\n",
        "model.add(Conv2D(128, (3, 3), activation='relu'))\n",
        "model.add(MaxPooling2D((3, 3)))\n",
        "model.add(Flatten())\n",
        "model.add(Dense(128, activation='relu'))\n",
        "model.add(Dense(100, activation='softmax'))\n",
        "\n",
        "\n",
        "model.compile(optimizer='Adam', loss='categorical_crossentropy', metrics=['accuracy'])\n",
        "\n",
        "\n",
        "history = model.fit(train_images_pure, train_labels_pure, batch_size=64,\n",
        "                            epochs=15,\n",
        "                            validation_data=(validation_images, validation_labels))\n",
        "\n",
        "```"
      ],
      "metadata": {
        "id": "st6pEb9Z1ali"
      }
    },
    {
      "cell_type": "markdown",
      "source": [
        "Añadir una capa dense extra resulta mejorar el modelo, por lo que se prueba a añadir aun mas capas de este tipo. Determinamos que el número optimo de estas capas anterior a la capa de salida es de 2."
      ],
      "metadata": {
        "id": "HU7YB5BQ1g-t"
      }
    },
    {
      "cell_type": "markdown",
      "source": [
        "```\n",
        "model = Sequential()\n",
        "model.add(Conv2D(32, (3, 3), activation='relu', input_shape=(32, 32, 3)))\n",
        "model.add(MaxPooling2D((2, 2)))\n",
        "model.add(Conv2D(64, (3, 3), activation='relu'))\n",
        "model.add(MaxPooling2D((2, 2)))\n",
        "model.add(Conv2D(128, (3, 3), activation='relu'))\n",
        "model.add(MaxPooling2D((3, 3)))\n",
        "model.add(Flatten())\n",
        "model.add(Dense(256, activation='relu'))\n",
        "model.add(Dense(128, activation='relu'))\n",
        "model.add(Dense(100, activation='softmax'))\n",
        "\n",
        "\n",
        "model.compile(optimizer='Adam', loss='categorical_crossentropy', metrics=['accuracy'])\n",
        "\n",
        "\n",
        "history = model.fit(train_images_pure, train_labels_pure, batch_size=64,\n",
        "                            epochs=15,\n",
        "                            validation_data=(validation_images, validation_labels))\n",
        "```"
      ],
      "metadata": {
        "id": "0g6NEgf61jM5"
      }
    },
    {
      "cell_type": "markdown",
      "source": [
        "Ahora buscamos crear un modelo aun mas complejo para ver si su funcionamiento es mejor. Para ello empezaremos añadiendo mas capas convolucionales, pero esta vez de manera paralela. El crecimiento del validation accuracy se amplia de nuevo, por lo que requerimos mas épocas para el análisis.\n"
      ],
      "metadata": {
        "id": "7Ou9g4mo1lPR"
      }
    },
    {
      "cell_type": "markdown",
      "source": [
        "```\n",
        "model = Sequential()\n",
        "model.add(Conv2D(32, (3, 3), activation='relu', input_shape=(32, 32, 3)))\n",
        "model.add(Conv2D(32, (3, 3), activation='relu'))\n",
        "model.add(MaxPooling2D((2, 2)))\n",
        "model.add(Conv2D(64, (3, 3), activation='relu'))\n",
        "model.add(Conv2D(64, (3, 3), activation='relu'))\n",
        "model.add(MaxPooling2D((2, 2)))\n",
        "model.add(Conv2D(128, (3, 3), activation='relu'))\n",
        "model.add(Conv2D(128, (3, 3), activation='relu'))\n",
        "model.add(MaxPooling2D((3, 3)))\n",
        "model.add(Flatten())\n",
        "model.add(Dense(256, activation='relu'))\n",
        "model.add(Dense(128, activation='relu'))\n",
        "model.add(Dense(100, activation='softmax'))\n",
        "\n",
        "\n",
        "model.compile(optimizer='Adam', loss='categorical_crossentropy', metrics=['accuracy'])\n",
        "\n",
        "\n",
        "history = model.fit(train_images_pure, train_labels_pure, batch_size=64,\n",
        "                            epochs=50,\n",
        "                            validation_data=(validation_images, validation_labels))\n",
        "```"
      ],
      "metadata": {
        "id": "yCHI_d9x1n5w"
      }
    },
    {
      "cell_type": "markdown",
      "source": [
        "Al añadir el paralelismo el modelo funciona de manera contundente, ante la mejora se prueba a añadir aun mas paralelismos pero el modelo no mejora, por lo que se emplea solamente paralelismo entre dos capas.\n",
        "\n",
        "La siguiente prueba a realizar para hacer mas complejo el modelo es evitar el sobreentrenamiento, para ello se prueba a aplicar l1, l2, l1_l2 y dropout.\n"
      ],
      "metadata": {
        "id": "AyRuZH_J14i-"
      }
    },
    {
      "cell_type": "markdown",
      "source": [
        "```\n",
        "model = Sequential()\n",
        "model.add(Conv2D(32, (3, 3), activation='relu', input_shape=(32, 32, 3)))\n",
        "model.add(Conv2D(32, (3, 3), activation='relu'))\n",
        "model.add(MaxPooling2D((2, 2)))\n",
        "model.add(Dropout(0.3))\n",
        "model.add(Conv2D(64, (3, 3), activation='relu'))\n",
        "model.add(Conv2D(64, (3, 3), activation='relu'))\n",
        "model.add(MaxPooling2D((2, 2)))\n",
        "model.add(Dropout(0.4))\n",
        "model.add(Conv2D(128, (3, 3), activation='relu'))\n",
        "model.add(Conv2D(128, (3, 3), activation='relu'))\n",
        "model.add(MaxPooling2D((3, 3)))\n",
        "model.add(Dropout(0.5))\n",
        "model.add(Flatten())\n",
        "model.add(Dense(256, activation='relu'))\n",
        "model.add(Dropout(0.5))\n",
        "model.add(Dense(128, activation='relu'))\n",
        "model.add(Dropout(0.5))\n",
        "model.add(Dense(100, activation='softmax'))\n",
        "\n",
        "\n",
        "model.compile(optimizer='Adam', loss='categorical_crossentropy', metrics=['accuracy'])\n",
        "\n",
        "\n",
        "history = model.fit(train_images_pure, train_labels_pure, batch_size=64,\n",
        "                            epochs=50,\n",
        "                            validation_data=(validation_images, validation_labels))\n",
        "```"
      ],
      "metadata": {
        "id": "6_WsrBaX15L4"
      }
    },
    {
      "cell_type": "markdown",
      "source": [
        "El dropout resulta ser el que mejor funciona y ademas mejora el modelo por lo que se emplea. Ahora se busca realizar una normalización de los datos despues de las capas, para ello se prueban la BatchNormalization, LayerNormalization, UnitNormalization y GroupNormalization.\n"
      ],
      "metadata": {
        "id": "ctpj5Fu818n_"
      }
    },
    {
      "cell_type": "markdown",
      "source": [
        "```\n",
        "model = Sequential()\n",
        "model.add(Conv2D(32, (3, 3), activation='relu', input_shape=(32, 32, 3)))\n",
        "model.add(BatchNormalization())\n",
        "model.add(Conv2D(32, (3, 3), activation='relu'))\n",
        "model.add(BatchNormalization())\n",
        "model.add(MaxPooling2D((2, 2)))\n",
        "model.add(Dropout(0.3))\n",
        "model.add(Conv2D(64, (3, 3), activation='relu'))\n",
        "model.add(BatchNormalization())\n",
        "model.add(Conv2D(64, (3, 3), activation='relu'))\n",
        "model.add(BatchNormalization())\n",
        "model.add(MaxPooling2D((2, 2)))\n",
        "model.add(Dropout(0.4))\n",
        "model.add(Conv2D(128, (3, 3), activation='relu'))\n",
        "model.add(BatchNormalization())\n",
        "model.add(Conv2D(128, (3, 3), activation='relu'))\n",
        "model.add(BatchNormalization())\n",
        "model.add(MaxPooling2D((3, 3)))\n",
        "model.add(Dropout(0.5))\n",
        "model.add(Flatten())\n",
        "model.add(Dense(256, activation='relu'))\n",
        "model.add(BatchNormalization())\n",
        "model.add(Dropout(0.5))\n",
        "model.add(Dense(128, activation='relu'))\n",
        "model.add(BatchNormalization())\n",
        "model.add(Dropout(0.5))\n",
        "model.add(Dense(100, activation='softmax'))\n",
        "\n",
        "\n",
        "model.compile(optimizer='Adam', loss='categorical_crossentropy', metrics=['accuracy'])\n",
        "\n",
        "\n",
        "history = model.fit(train_images_pure, train_labels_pure, batch_size=64,\n",
        "                            epochs=50,\n",
        "                            validation_data=(validation_images, validation_labels))\n",
        "```"
      ],
      "metadata": {
        "id": "7mbBwjE11-Jw"
      }
    },
    {
      "cell_type": "markdown",
      "source": [
        "BatchNormalization resulta ser el que mejor funciona.\n",
        "\n",
        "Una vez habiendo realizado un aumento de la complejidad del modelo que conlleve una mejora significativa probamos a modificar los hiperparametros, para ello modificaremos el learning rate haciendolo reducir su valor segun la conveniencia de la época."
      ],
      "metadata": {
        "id": "gcLnK_2t2BG_"
      }
    },
    {
      "cell_type": "markdown",
      "source": [
        "```\n",
        "model = Sequential()\n",
        "model.add(Conv2D(32, (3, 3), activation='relu', input_shape=(32, 32, 3)))\n",
        "model.add(BatchNormalization())\n",
        "model.add(Conv2D(32, (3, 3), activation='relu'))\n",
        "model.add(BatchNormalization())\n",
        "model.add(MaxPooling2D((2, 2)))\n",
        "model.add(Dropout(0.3))\n",
        "model.add(Conv2D(64, (3, 3), activation='relu'))\n",
        "model.add(BatchNormalization())\n",
        "model.add(Conv2D(64, (3, 3), activation='relu'))\n",
        "model.add(BatchNormalization())\n",
        "model.add(MaxPooling2D((2, 2)))\n",
        "model.add(Dropout(0.4))\n",
        "model.add(Conv2D(128, (3, 3), activation='relu'))\n",
        "model.add(BatchNormalization())\n",
        "model.add(Conv2D(128, (3, 3), activation='relu'))\n",
        "model.add(BatchNormalization())\n",
        "model.add(MaxPooling2D((3, 3)))\n",
        "model.add(Dropout(0.5))\n",
        "model.add(Flatten())\n",
        "model.add(Dense(256, activation='relu'))\n",
        "model.add(BatchNormalization())\n",
        "model.add(Dropout(0.5))\n",
        "model.add(Dense(128, activation='relu'))\n",
        "model.add(BatchNormalization())\n",
        "model.add(Dropout(0.5))\n",
        "model.add(Dense(100, activation='softmax'))\n",
        "\n",
        "\n",
        "optimizer = tf.keras.optimizers.Adam(learning_rate=0.001)\n",
        "model.compile(optimizer=optimizer, loss='categorical_crossentropy', metrics=['accuracy'])\n",
        "reduce_lr = ReduceLROnPlateau(monitor='val_accuracy',\n",
        "                              factor=0.2,\n",
        "                              patience=2,\n",
        "                              min_lr=1e-5)\n",
        "\n",
        "\n",
        "history = model.fit(train_images_pure, train_labels_pure, batch_size=64,\n",
        "                            epochs=50,\n",
        "                            validation_data=(validation_images, validation_labels),\n",
        "                            callbacks=[reduce_lr])\n",
        "```"
      ],
      "metadata": {
        "id": "tNFNSRcV2CiQ"
      }
    },
    {
      "cell_type": "markdown",
      "source": [
        "Tras numerosas pruebas se determina que el learning rate de inicio debe ser de 0.001, con un descenso al 20% cada vez que las epocas empeoren 2 veces seguidas.\n",
        "\n",
        "Ahora trabajaremos con los inputs que tenemos. Para ello aplicaremos features(caracteristicas) sobre las imagenes.\n"
      ],
      "metadata": {
        "id": "1y2kyBfC2F2U"
      }
    },
    {
      "cell_type": "markdown",
      "source": [
        "```\n",
        "num_features = 20\n",
        "\n",
        "\n",
        "# Create a separate input layer for the additional features\n",
        "additional_input = Input(shape=(num_features,))\n",
        "\n",
        "\n",
        "# Create the image model\n",
        "model = Sequential()\n",
        "\n",
        "\n",
        "# Convolutional layer 1\n",
        "model.add(Conv2D(128, (3, 3), strides=(1, 1), padding='same', input_shape=(32, 32, 3), activation='elu'))\n",
        "model.add(BatchNormalization())\n",
        "model.add(Conv2D(128, (3, 3), strides=(1, 1), padding='same', activation='elu'))\n",
        "model.add(BatchNormalization())\n",
        "model.add(MaxPooling2D(pool_size=(2, 2)))\n",
        "model.add(Dropout(0.3))\n",
        "\n",
        "\n",
        "# Convolutional layer 2\n",
        "model.add(Conv2D(256, (3, 3), strides=(1, 1), padding='same', activation='elu'))\n",
        "model.add(BatchNormalization())\n",
        "model.add(Conv2D(256, (3, 3), strides=(1, 1), padding='same', activation='elu'))\n",
        "model.add(BatchNormalization())\n",
        "model.add(MaxPooling2D(pool_size=(2, 2)))\n",
        "model.add(Dropout(0.4))\n",
        "\n",
        "\n",
        "# Convolutional layer 3\n",
        "model.add(Conv2D(512, (3, 3), strides=(1, 1), padding='same', activation='elu'))\n",
        "model.add(BatchNormalization())\n",
        "model.add(Conv2D(512, (3, 3), strides=(1, 1), padding='same', activation='elu'))\n",
        "model.add(BatchNormalization())\n",
        "model.add(MaxPooling2D(pool_size=(2, 2)))\n",
        "model.add(Dropout(0.5))\n",
        "\n",
        "\n",
        "# Flatten layer\n",
        "model.add(Flatten())\n",
        "\n",
        "\n",
        "# Concatenate the flattened image features with the additional features\n",
        "combined_model = Concatenate()([model.output, additional_input])\n",
        "\n",
        "\n",
        "# Fully-connected layer 1\n",
        "combined_model = Dense(1024, activation='elu')(combined_model)\n",
        "combined_model = BatchNormalization()(combined_model)\n",
        "combined_model = Dropout(0.5)(combined_model)\n",
        "\n",
        "\n",
        "# Fully-connected layer 2\n",
        "combined_model = Dense(512, activation='elu')(combined_model)\n",
        "combined_model = BatchNormalization()(combined_model)\n",
        "combined_model = Dropout(0.5)(combined_model)\n",
        "\n",
        "\n",
        "# Output layer with softmax activation for 100 classes in CIFAR-100\n",
        "combined_model = Dense(100, activation='softmax')(combined_model)\n",
        "\n",
        "\n",
        "# Create the combined model\n",
        "final_model = tf.keras.Model(inputs=[model.input, additional_input], outputs=combined_model)\n",
        "\n",
        "\n",
        "# Configure the optimizer with the learning rate\n",
        "optimizer = tf.keras.optimizers.Adam(learning_rate=0.001)\n",
        "\n",
        "\n",
        "# Compile the model\n",
        "final_model.compile(optimizer=optimizer, loss='categorical_crossentropy', metrics=['accuracy'])\n",
        "\n",
        "\n",
        "# Configure the ReduceLROnPlateau callback\n",
        "reduce_lr = ReduceLROnPlateau(monitor='val_accuracy',\n",
        "                              factor=0.2,\n",
        "                              patience=2,\n",
        "                              min_lr=1e-5)\n",
        "\n",
        "\n",
        "# Assuming you have the additional features in a numpy array called additional_features\n",
        "# Make sure to preprocess them appropriately\n",
        "train_additional_features = np.random.random((len(train_images), num_features))\n",
        "test_additional_features = np.random.random((len(test_images), num_features))\n",
        "\n",
        "\n",
        "# Training the model with the callback ReduceLROnPlateau\n",
        "history2 = final_model.fit([train_images, train_additional_features], train_labels, batch_size=64,\n",
        "                            epochs=50,\n",
        "                            validation_data=([test_images, test_additional_features], test_labels),\n",
        "                            callbacks=[reduce_lr])\n",
        "```"
      ],
      "metadata": {
        "id": "cJtJgr0n2Hig"
      }
    },
    {
      "cell_type": "markdown",
      "source": [
        "Tras numerosas pruebas determinamos que el numero optimo de features es de 20. Esto nos da la oportunidad de ir mucho mas rápido durante las primeras épocas.\n",
        "\n",
        "Este ya es nuestro modelo final."
      ],
      "metadata": {
        "id": "tsHcmC70dLSH"
      }
    }
  ]
}