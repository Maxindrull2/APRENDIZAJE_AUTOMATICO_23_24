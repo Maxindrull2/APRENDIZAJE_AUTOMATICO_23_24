{
  "nbformat": 4,
  "nbformat_minor": 0,
  "metadata": {
    "colab": {
      "provenance": [],
      "gpuType": "T4",
      "include_colab_link": true
    },
    "kernelspec": {
      "name": "python3",
      "display_name": "Python 3"
    },
    "language_info": {
      "name": "python"
    },
    "accelerator": "GPU"
  },
  "cells": [
    {
      "cell_type": "markdown",
      "metadata": {
        "id": "view-in-github",
        "colab_type": "text"
      },
      "source": [
        "<a href=\"https://colab.research.google.com/github/Maxindrull2/APRENDIZAJE_AUTOMATICO_23_24/blob/main/AA_PRACTICA3_GRUPO_2.ipynb\" target=\"_parent\"><img src=\"https://colab.research.google.com/assets/colab-badge.svg\" alt=\"Open In Colab\"/></a>"
      ]
    },
    {
      "cell_type": "markdown",
      "metadata": {
        "id": "DCdAVs9t7KME"
      },
      "source": [
        "# **Diseño y entrenamiento de un sistema de redes de neuronas artificiales**\n",
        "\n",
        "Asignatura: Aprendizaje Automático\n",
        "\n",
        "Profesor: Carlos Emilio Rabazo Márquez\n",
        "\n",
        "Grupo: A02\n",
        "\n",
        "Integrantes: Natalia Iglesias, Sandra Millán y Ángel Pardo\n",
        "\n"
      ]
    },
    {
      "cell_type": "markdown",
      "source": [
        "***Librerias usadas:***"
      ],
      "metadata": {
        "id": "kNWHJEloQhC0"
      }
    },
    {
      "cell_type": "code",
      "source": [
        "%tensorflow_version 2.x\n",
        "import tensorflow as tf\n",
        "from tensorflow import keras\n",
        "import numpy as np\n",
        "import matplotlib.pyplot as plt\n",
        "from keras.initializers import he_normal\n",
        "from google.colab import files\n",
        "import pickle\n",
        "import tarfile\n",
        "import pandas as pd\n",
        "from tensorflow.python.ops.gen_array_ops import tensor_scatter_max_eager_fallback\n",
        "import cv2\n",
        "from PIL import Image\n",
        "from keras.utils import to_categorical\n",
        "from keras.datasets import cifar100\n",
        "import math\n",
        "from keras.preprocessing.image import ImageDataGenerator\n",
        "import numpy as np\n",
        "from skimage.transform import resize\n",
        "from scipy.ndimage import rotate\n",
        "from tensorflow.keras import Sequential\n",
        "from tensorflow.keras.layers import Conv2D\n",
        "from tensorflow.keras.layers import MaxPooling2D\n",
        "from tensorflow.keras.layers import AveragePooling2D\n",
        "from tensorflow.keras.initializers import HeNormal\n",
        "from tensorflow.keras.layers import Dense\n",
        "from tensorflow.keras.layers import Flatten\n",
        "from tensorflow.keras.layers import Dropout\n",
        "from tensorflow.keras.layers import ZeroPadding2D\n",
        "from tensorflow.keras import regularizers\n",
        "from keras.applications.inception_v3 import preprocess_input\n",
        "from keras.layers import Layer\n",
        "from keras import backend as K\n",
        "from keras.models import Sequential\n",
        "from keras.layers import Conv2D, MaxPooling2D, Flatten, Dense, BatchNormalization, Dropout, LayerNormalization\n",
        "from keras.callbacks import ReduceLROnPlateau\n",
        "from keras.callbacks import EarlyStopping\n",
        "from keras.callbacks import LearningRateScheduler\n",
        "from keras.layers import Concatenate\n",
        "from keras.layers import Input\n",
        "from sklearn.metrics import confusion_matrix\n",
        "import seaborn as sns\n",
        "import matplotlib.image as mpimg"
      ],
      "metadata": {
        "id": "-g6JfADDQixo"
      },
      "execution_count": null,
      "outputs": []
    },
    {
      "cell_type": "markdown",
      "metadata": {
        "id": "HLSDSNBqRf7_"
      },
      "source": [
        "# **Introducción**\n",
        "En esta práctica se tratará de crear un modelo que clasifique una base de datos con la mayor precisión posible. El conjunto de datos con el que se trabajará será **CIFAR-100**, que abarca una amplia representación de clases desde animales hasta personas y objetos diversos entre otras. Está compuesto por un total de 100 clases distintas que contienen 600 imágenes cada una. Dichas imágenes se dividirán en el conjunto de entrenamiento, formado por 500 imágenes, y el conjunto de prueba, con 100 imágenes por clase. Además, las 100 clases del CIFAR-100 se agrupan a la vez en 20 superclases. Cada imagen viene con una etiqueta \"fina\" (la clase a la que pertenece) y una etiqueta \"gruesa\" (la superclase a la que pertenece). La presencia de dos tipos de etiquetas asociadas a cada imagen enriquece aún más el conjunto de datos, permitiendo investigaciones tanto a nivel detallado como a nivel conceptual.\n",
        "\n",
        "Para crear el modelo, se emplearán redes neuronales convolucionales. Esta manera de resolver el problema es una opción buena y efectiva debido a las características particulares de este tipo de datos y la arquitectura de las redes convolucionales. Estas redes proporcionan ventajas como, por ejemplo, las siguientes:\n",
        "\n",
        "1. **Invariancia a desplazamientos:** Las capas convolucionales están diseñadas para ser invariantes a desplazamientos, lo que significa que pueden identificar patrones independientemente de su posición exacta en la imagen. Esta propiedad es crucial cuando se trata de reconocer objetos en diferentes partes de la imagen, como en el caso de CIFAR-100.\n",
        "\n",
        "2. **Reducción de parámetros:** Las redes convolucionales reducen significativamente la cantidad de parámetros en comparación con redes totalmente conectadas. Esto es beneficioso en conjuntos de datos grandes como CIFAR-100, ya que ayuda a evitar el sobreajuste y a mejorar la generalización del modelo.\n",
        "\n",
        "3. **Extracción jerárquica de características:** Las capas convolucionales permiten la extracción jerárquica de características. A medida que avanzas en las capas, la red puede aprender representaciones cada vez más complejas y abstractas de las características presentes en las imágenes, lo que es esencial para la clasificación de objetos en un conjunto de datos diverso como CIFAR-100.\n",
        "\n",
        "\n",
        "Después de procesar y entender la base de datos que se empleará en esta práctica, se explicará en detalle en qué consiste las redes neuronales convolucionales y sus principales características.\n"
      ]
    },
    {
      "cell_type": "markdown",
      "source": [
        "Cargamos el dataset desde el fichero\n",
        "(Por facilidad, si se desea, se pueden descomentar la opcion para cargar los datos directamente desde keras mas abajo)"
      ],
      "metadata": {
        "id": "M8FCRcXwQNs_"
      }
    },
    {
      "cell_type": "code",
      "execution_count": null,
      "metadata": {
        "colab": {
          "base_uri": "https://localhost:8080/",
          "height": 73
        },
        "id": "DpQD34ad_aFS",
        "outputId": "a3a42e69-7550-4c9b-90c5-457bca693392"
      },
      "outputs": [
        {
          "output_type": "display_data",
          "data": {
            "text/plain": [
              "<IPython.core.display.HTML object>"
            ],
            "text/html": [
              "\n",
              "     <input type=\"file\" id=\"files-b3512fa1-cce9-4705-a5c9-712608a74320\" name=\"files[]\" multiple disabled\n",
              "        style=\"border:none\" />\n",
              "     <output id=\"result-b3512fa1-cce9-4705-a5c9-712608a74320\">\n",
              "      Upload widget is only available when the cell has been executed in the\n",
              "      current browser session. Please rerun this cell to enable.\n",
              "      </output>\n",
              "      <script>// Copyright 2017 Google LLC\n",
              "//\n",
              "// Licensed under the Apache License, Version 2.0 (the \"License\");\n",
              "// you may not use this file except in compliance with the License.\n",
              "// You may obtain a copy of the License at\n",
              "//\n",
              "//      http://www.apache.org/licenses/LICENSE-2.0\n",
              "//\n",
              "// Unless required by applicable law or agreed to in writing, software\n",
              "// distributed under the License is distributed on an \"AS IS\" BASIS,\n",
              "// WITHOUT WARRANTIES OR CONDITIONS OF ANY KIND, either express or implied.\n",
              "// See the License for the specific language governing permissions and\n",
              "// limitations under the License.\n",
              "\n",
              "/**\n",
              " * @fileoverview Helpers for google.colab Python module.\n",
              " */\n",
              "(function(scope) {\n",
              "function span(text, styleAttributes = {}) {\n",
              "  const element = document.createElement('span');\n",
              "  element.textContent = text;\n",
              "  for (const key of Object.keys(styleAttributes)) {\n",
              "    element.style[key] = styleAttributes[key];\n",
              "  }\n",
              "  return element;\n",
              "}\n",
              "\n",
              "// Max number of bytes which will be uploaded at a time.\n",
              "const MAX_PAYLOAD_SIZE = 100 * 1024;\n",
              "\n",
              "function _uploadFiles(inputId, outputId) {\n",
              "  const steps = uploadFilesStep(inputId, outputId);\n",
              "  const outputElement = document.getElementById(outputId);\n",
              "  // Cache steps on the outputElement to make it available for the next call\n",
              "  // to uploadFilesContinue from Python.\n",
              "  outputElement.steps = steps;\n",
              "\n",
              "  return _uploadFilesContinue(outputId);\n",
              "}\n",
              "\n",
              "// This is roughly an async generator (not supported in the browser yet),\n",
              "// where there are multiple asynchronous steps and the Python side is going\n",
              "// to poll for completion of each step.\n",
              "// This uses a Promise to block the python side on completion of each step,\n",
              "// then passes the result of the previous step as the input to the next step.\n",
              "function _uploadFilesContinue(outputId) {\n",
              "  const outputElement = document.getElementById(outputId);\n",
              "  const steps = outputElement.steps;\n",
              "\n",
              "  const next = steps.next(outputElement.lastPromiseValue);\n",
              "  return Promise.resolve(next.value.promise).then((value) => {\n",
              "    // Cache the last promise value to make it available to the next\n",
              "    // step of the generator.\n",
              "    outputElement.lastPromiseValue = value;\n",
              "    return next.value.response;\n",
              "  });\n",
              "}\n",
              "\n",
              "/**\n",
              " * Generator function which is called between each async step of the upload\n",
              " * process.\n",
              " * @param {string} inputId Element ID of the input file picker element.\n",
              " * @param {string} outputId Element ID of the output display.\n",
              " * @return {!Iterable<!Object>} Iterable of next steps.\n",
              " */\n",
              "function* uploadFilesStep(inputId, outputId) {\n",
              "  const inputElement = document.getElementById(inputId);\n",
              "  inputElement.disabled = false;\n",
              "\n",
              "  const outputElement = document.getElementById(outputId);\n",
              "  outputElement.innerHTML = '';\n",
              "\n",
              "  const pickedPromise = new Promise((resolve) => {\n",
              "    inputElement.addEventListener('change', (e) => {\n",
              "      resolve(e.target.files);\n",
              "    });\n",
              "  });\n",
              "\n",
              "  const cancel = document.createElement('button');\n",
              "  inputElement.parentElement.appendChild(cancel);\n",
              "  cancel.textContent = 'Cancel upload';\n",
              "  const cancelPromise = new Promise((resolve) => {\n",
              "    cancel.onclick = () => {\n",
              "      resolve(null);\n",
              "    };\n",
              "  });\n",
              "\n",
              "  // Wait for the user to pick the files.\n",
              "  const files = yield {\n",
              "    promise: Promise.race([pickedPromise, cancelPromise]),\n",
              "    response: {\n",
              "      action: 'starting',\n",
              "    }\n",
              "  };\n",
              "\n",
              "  cancel.remove();\n",
              "\n",
              "  // Disable the input element since further picks are not allowed.\n",
              "  inputElement.disabled = true;\n",
              "\n",
              "  if (!files) {\n",
              "    return {\n",
              "      response: {\n",
              "        action: 'complete',\n",
              "      }\n",
              "    };\n",
              "  }\n",
              "\n",
              "  for (const file of files) {\n",
              "    const li = document.createElement('li');\n",
              "    li.append(span(file.name, {fontWeight: 'bold'}));\n",
              "    li.append(span(\n",
              "        `(${file.type || 'n/a'}) - ${file.size} bytes, ` +\n",
              "        `last modified: ${\n",
              "            file.lastModifiedDate ? file.lastModifiedDate.toLocaleDateString() :\n",
              "                                    'n/a'} - `));\n",
              "    const percent = span('0% done');\n",
              "    li.appendChild(percent);\n",
              "\n",
              "    outputElement.appendChild(li);\n",
              "\n",
              "    const fileDataPromise = new Promise((resolve) => {\n",
              "      const reader = new FileReader();\n",
              "      reader.onload = (e) => {\n",
              "        resolve(e.target.result);\n",
              "      };\n",
              "      reader.readAsArrayBuffer(file);\n",
              "    });\n",
              "    // Wait for the data to be ready.\n",
              "    let fileData = yield {\n",
              "      promise: fileDataPromise,\n",
              "      response: {\n",
              "        action: 'continue',\n",
              "      }\n",
              "    };\n",
              "\n",
              "    // Use a chunked sending to avoid message size limits. See b/62115660.\n",
              "    let position = 0;\n",
              "    do {\n",
              "      const length = Math.min(fileData.byteLength - position, MAX_PAYLOAD_SIZE);\n",
              "      const chunk = new Uint8Array(fileData, position, length);\n",
              "      position += length;\n",
              "\n",
              "      const base64 = btoa(String.fromCharCode.apply(null, chunk));\n",
              "      yield {\n",
              "        response: {\n",
              "          action: 'append',\n",
              "          file: file.name,\n",
              "          data: base64,\n",
              "        },\n",
              "      };\n",
              "\n",
              "      let percentDone = fileData.byteLength === 0 ?\n",
              "          100 :\n",
              "          Math.round((position / fileData.byteLength) * 100);\n",
              "      percent.textContent = `${percentDone}% done`;\n",
              "\n",
              "    } while (position < fileData.byteLength);\n",
              "  }\n",
              "\n",
              "  // All done.\n",
              "  yield {\n",
              "    response: {\n",
              "      action: 'complete',\n",
              "    }\n",
              "  };\n",
              "}\n",
              "\n",
              "scope.google = scope.google || {};\n",
              "scope.google.colab = scope.google.colab || {};\n",
              "scope.google.colab._files = {\n",
              "  _uploadFiles,\n",
              "  _uploadFilesContinue,\n",
              "};\n",
              "})(self);\n",
              "</script> "
            ]
          },
          "metadata": {}
        },
        {
          "output_type": "stream",
          "name": "stdout",
          "text": [
            "Saving cifar-100-python.tar.gz to cifar-100-python.tar.gz\n"
          ]
        }
      ],
      "source": [
        "load = files.upload()"
      ]
    },
    {
      "cell_type": "code",
      "execution_count": null,
      "metadata": {
        "id": "D4mvhPZUBV7e"
      },
      "outputs": [],
      "source": [
        "file_path = \"cifar-100-python.tar.gz\"\n",
        "with tarfile.open(file_path, \"r:gz\") as tar:\n",
        "    # Extraer el archivo de datos que contiene el conjunto de datos CIFAR-100\n",
        "    tar.extract(\"cifar-100-python/train\")\n",
        "    tar.extract(\"cifar-100-python/test\")\n",
        "\n",
        "train_data = pd.read_pickle(\"cifar-100-python/train\")\n",
        "test_data = pd.read_pickle(\"cifar-100-python/test\")"
      ]
    },
    {
      "cell_type": "code",
      "execution_count": null,
      "metadata": {
        "id": "8QVSAm-WJcSD",
        "colab": {
          "base_uri": "https://localhost:8080/"
        },
        "outputId": "ed9f96ad-bde4-4c42-bbd1-7743eefc2fc9"
      },
      "outputs": [
        {
          "output_type": "stream",
          "name": "stdout",
          "text": [
            "(50000, 3072)\n",
            "(10000, 3072)\n"
          ]
        }
      ],
      "source": [
        "# Cargar los datos desde el archivo Pickle\n",
        "with open('cifar-100-python/train', 'rb') as file:\n",
        "    cifar_data_train = pickle.load(file, encoding='bytes')\n",
        "\n",
        "# Cargar los datos desde el archivo Pickle\n",
        "with open('cifar-100-python/test', 'rb') as file:\n",
        "    cifar_data_test = pickle.load(file, encoding='bytes')\n",
        "\n",
        "# Obtener las imágenes y las etiquetas\n",
        "train_images = cifar_data_train[b'data']\n",
        "train_labels = cifar_data_train[b'fine_labels']\n",
        "train_coarse_labels = cifar_data_train[b'coarse_labels']\n",
        "\n",
        "# Obtener las imágenes y las etiquetas\n",
        "test_images = cifar_data_test[b'data']\n",
        "test_labels = cifar_data_test[b'fine_labels']\n",
        "test_coarse_labels = cifar_data_test[b'coarse_labels']\n",
        "\n",
        "# Dividir los datos en conjuntos de entrenamiento y prueba\n",
        "# from sklearn.model_selection import train_test_split\n",
        "\n",
        "print(train_images.shape)\n",
        "print(test_images.shape)"
      ]
    },
    {
      "cell_type": "markdown",
      "source": [
        "Convertimos las imagenes a 32x32x3 considerando los colores, para ello deberemos cambiar las dimensiones y ordenes dados"
      ],
      "metadata": {
        "id": "-dzR-focQgo7"
      }
    },
    {
      "cell_type": "code",
      "source": [
        "train_images = train_images.reshape((50000, 3, 32, 32))\n",
        "train_images = np.transpose(train_images,(0,2,3,1))\n",
        "test_images = test_images.reshape((10000, 3, 32, 32))\n",
        "test_images = np.transpose(test_images,(0,2,3,1))\n",
        "train_labels = np.array(train_labels)\n",
        "test_labels = np.array(test_labels)\n",
        "train_coarse_labels = np.array(train_coarse_labels)\n",
        "test_coarse_labels = np.array(test_coarse_labels)\n",
        "\n"
      ],
      "metadata": {
        "id": "Qmwo-L3zJ6KS"
      },
      "execution_count": null,
      "outputs": []
    },
    {
      "cell_type": "markdown",
      "metadata": {
        "id": "8iimj-Tl12w6"
      },
      "source": [
        "# **Verificación de las dimensiones**\n",
        "\n"
      ]
    },
    {
      "cell_type": "markdown",
      "metadata": {
        "id": "oEo21HjfRuUU"
      },
      "source": [
        "Antes de comenzar, se comprueba que hay 50.000 imagenes de entrenamiento (500 por cada clase) y 10.000 de prueba (100 por cada clase) como se ha explicado previamente.\n",
        "\n",
        "Además, es necesario cargar el conjunto de datos CIFAR-100 con la opción label_mode establecida en 'fine' para obtener las etiquetas específicas de clases y en 'coarse' para obtener las etiquetas de superclases.\n",
        "\n",
        "Al observar las dimensiones que devuelve, además de confirmar las dimensiones de los conjuntos de datos, se vee que los datos son imágenes en color de 32x32 píxeles con 3 canales de color. Es decir, cada píxel en estas imágenes está representado por tres valores numéricos que indican la intensidad de los colores."
      ]
    },
    {
      "cell_type": "code",
      "execution_count": null,
      "metadata": {
        "colab": {
          "base_uri": "https://localhost:8080/"
        },
        "outputId": "f4cf6f4a-5b38-48c4-95cc-0617c6455319",
        "id": "Z3mOo3Zgyj3S"
      },
      "outputs": [
        {
          "output_type": "stream",
          "name": "stdout",
          "text": [
            "(50000, 32, 32, 3)\n",
            "(10000, 32, 32, 3)\n",
            "(50000,)\n",
            "(10000,)\n",
            "(50000,)\n",
            "(10000,)\n"
          ]
        }
      ],
      "source": [
        "#(train_images, train_labels), (test_images, test_labels)= cifar100.load_data(label_mode = 'fine')\n",
        "#(_, train_coarse_labels), (_, test_coarse_labels)= cifar100.load_data(label_mode = 'coarse')\n",
        "print(train_images.shape)\n",
        "print(test_images.shape)\n",
        "print(train_labels.shape)\n",
        "print(test_labels.shape)\n",
        "print(train_coarse_labels.shape)\n",
        "print(test_coarse_labels.shape)"
      ]
    },
    {
      "cell_type": "markdown",
      "metadata": {
        "id": "xeHrUy5ER8BL"
      },
      "source": [
        "Se comprueba que los datos tienen 100 categorías"
      ]
    },
    {
      "cell_type": "code",
      "execution_count": null,
      "metadata": {
        "colab": {
          "base_uri": "https://localhost:8080/"
        },
        "outputId": "031ad88f-e882-4eaa-c373-2664ddd381f6",
        "id": "_RwpRRspyn6W"
      },
      "outputs": [
        {
          "output_type": "stream",
          "name": "stdout",
          "text": [
            "Número de categorías: 100\n",
            "Categorías únicas: [ 0  1  2  3  4  5  6  7  8  9 10 11 12 13 14 15 16 17 18 19 20 21 22 23\n",
            " 24 25 26 27 28 29 30 31 32 33 34 35 36 37 38 39 40 41 42 43 44 45 46 47\n",
            " 48 49 50 51 52 53 54 55 56 57 58 59 60 61 62 63 64 65 66 67 68 69 70 71\n",
            " 72 73 74 75 76 77 78 79 80 81 82 83 84 85 86 87 88 89 90 91 92 93 94 95\n",
            " 96 97 98 99]\n"
          ]
        }
      ],
      "source": [
        "# Supongamos que y_train contiene las etiquetas\n",
        "categorias_unicas = np.unique(train_labels)\n",
        "numero_de_categorias = len(categorias_unicas)\n",
        "\n",
        "print(f\"Número de categorías: {numero_de_categorias}\")\n",
        "print(\"Categorías únicas:\", categorias_unicas)"
      ]
    },
    {
      "cell_type": "markdown",
      "metadata": {
        "id": "MW7YNneAR-oi"
      },
      "source": [
        "Se comprueba que hay 20 superclases"
      ]
    },
    {
      "cell_type": "code",
      "execution_count": null,
      "metadata": {
        "colab": {
          "base_uri": "https://localhost:8080/"
        },
        "outputId": "ddbe2128-1fb5-40ca-a673-9ed379f2f3c6",
        "id": "gyjBRkHfyq5M"
      },
      "outputs": [
        {
          "output_type": "stream",
          "name": "stdout",
          "text": [
            "Número de superclases: 20\n",
            "Superategorías únicas: [ 0  1  2  3  4  5  6  7  8  9 10 11 12 13 14 15 16 17 18 19]\n"
          ]
        }
      ],
      "source": [
        "supercategorias_unicas = np.unique(train_coarse_labels)\n",
        "numero_de_superclases = len(supercategorias_unicas)\n",
        "\n",
        "print(f\"Número de superclases: {numero_de_superclases}\")\n",
        "print(\"Superategorías únicas:\", supercategorias_unicas)"
      ]
    },
    {
      "cell_type": "markdown",
      "source": [
        "Se confirma que hay el mismo numero de elementos por categoria"
      ],
      "metadata": {
        "id": "x9FsW50pcb8v"
      }
    },
    {
      "cell_type": "code",
      "source": [
        "# Inicializar un diccionario para contar las imágenes por categoría\n",
        "category_count = {i: 0 for i in range(numero_de_categorias)}\n",
        "\n",
        "# Contar las imágenes por categoría\n",
        "for category in train_labels.flatten():\n",
        "    category_count[category] += 1\n",
        "\n",
        "# Imprimir la cantidad de imágenes por categoría\n",
        "for category, count in category_count.items():\n",
        "    print(f'Categoría {category}: {count} imágenes')"
      ],
      "metadata": {
        "colab": {
          "base_uri": "https://localhost:8080/"
        },
        "outputId": "f5fa6869-f6ab-4512-9de8-c7b968f264c1",
        "id": "RJAShGnGyuLW"
      },
      "execution_count": null,
      "outputs": [
        {
          "output_type": "stream",
          "name": "stdout",
          "text": [
            "Categoría 0: 500 imágenes\n",
            "Categoría 1: 500 imágenes\n",
            "Categoría 2: 500 imágenes\n",
            "Categoría 3: 500 imágenes\n",
            "Categoría 4: 500 imágenes\n",
            "Categoría 5: 500 imágenes\n",
            "Categoría 6: 500 imágenes\n",
            "Categoría 7: 500 imágenes\n",
            "Categoría 8: 500 imágenes\n",
            "Categoría 9: 500 imágenes\n",
            "Categoría 10: 500 imágenes\n",
            "Categoría 11: 500 imágenes\n",
            "Categoría 12: 500 imágenes\n",
            "Categoría 13: 500 imágenes\n",
            "Categoría 14: 500 imágenes\n",
            "Categoría 15: 500 imágenes\n",
            "Categoría 16: 500 imágenes\n",
            "Categoría 17: 500 imágenes\n",
            "Categoría 18: 500 imágenes\n",
            "Categoría 19: 500 imágenes\n",
            "Categoría 20: 500 imágenes\n",
            "Categoría 21: 500 imágenes\n",
            "Categoría 22: 500 imágenes\n",
            "Categoría 23: 500 imágenes\n",
            "Categoría 24: 500 imágenes\n",
            "Categoría 25: 500 imágenes\n",
            "Categoría 26: 500 imágenes\n",
            "Categoría 27: 500 imágenes\n",
            "Categoría 28: 500 imágenes\n",
            "Categoría 29: 500 imágenes\n",
            "Categoría 30: 500 imágenes\n",
            "Categoría 31: 500 imágenes\n",
            "Categoría 32: 500 imágenes\n",
            "Categoría 33: 500 imágenes\n",
            "Categoría 34: 500 imágenes\n",
            "Categoría 35: 500 imágenes\n",
            "Categoría 36: 500 imágenes\n",
            "Categoría 37: 500 imágenes\n",
            "Categoría 38: 500 imágenes\n",
            "Categoría 39: 500 imágenes\n",
            "Categoría 40: 500 imágenes\n",
            "Categoría 41: 500 imágenes\n",
            "Categoría 42: 500 imágenes\n",
            "Categoría 43: 500 imágenes\n",
            "Categoría 44: 500 imágenes\n",
            "Categoría 45: 500 imágenes\n",
            "Categoría 46: 500 imágenes\n",
            "Categoría 47: 500 imágenes\n",
            "Categoría 48: 500 imágenes\n",
            "Categoría 49: 500 imágenes\n",
            "Categoría 50: 500 imágenes\n",
            "Categoría 51: 500 imágenes\n",
            "Categoría 52: 500 imágenes\n",
            "Categoría 53: 500 imágenes\n",
            "Categoría 54: 500 imágenes\n",
            "Categoría 55: 500 imágenes\n",
            "Categoría 56: 500 imágenes\n",
            "Categoría 57: 500 imágenes\n",
            "Categoría 58: 500 imágenes\n",
            "Categoría 59: 500 imágenes\n",
            "Categoría 60: 500 imágenes\n",
            "Categoría 61: 500 imágenes\n",
            "Categoría 62: 500 imágenes\n",
            "Categoría 63: 500 imágenes\n",
            "Categoría 64: 500 imágenes\n",
            "Categoría 65: 500 imágenes\n",
            "Categoría 66: 500 imágenes\n",
            "Categoría 67: 500 imágenes\n",
            "Categoría 68: 500 imágenes\n",
            "Categoría 69: 500 imágenes\n",
            "Categoría 70: 500 imágenes\n",
            "Categoría 71: 500 imágenes\n",
            "Categoría 72: 500 imágenes\n",
            "Categoría 73: 500 imágenes\n",
            "Categoría 74: 500 imágenes\n",
            "Categoría 75: 500 imágenes\n",
            "Categoría 76: 500 imágenes\n",
            "Categoría 77: 500 imágenes\n",
            "Categoría 78: 500 imágenes\n",
            "Categoría 79: 500 imágenes\n",
            "Categoría 80: 500 imágenes\n",
            "Categoría 81: 500 imágenes\n",
            "Categoría 82: 500 imágenes\n",
            "Categoría 83: 500 imágenes\n",
            "Categoría 84: 500 imágenes\n",
            "Categoría 85: 500 imágenes\n",
            "Categoría 86: 500 imágenes\n",
            "Categoría 87: 500 imágenes\n",
            "Categoría 88: 500 imágenes\n",
            "Categoría 89: 500 imágenes\n",
            "Categoría 90: 500 imágenes\n",
            "Categoría 91: 500 imágenes\n",
            "Categoría 92: 500 imágenes\n",
            "Categoría 93: 500 imágenes\n",
            "Categoría 94: 500 imágenes\n",
            "Categoría 95: 500 imágenes\n",
            "Categoría 96: 500 imágenes\n",
            "Categoría 97: 500 imágenes\n",
            "Categoría 98: 500 imágenes\n",
            "Categoría 99: 500 imágenes\n"
          ]
        }
      ]
    },
    {
      "cell_type": "markdown",
      "source": [
        "Vemos que efectivamente hay el mismo numero de elementos. Por lo que el dataset es adecuado. Además, como cada superclase está dividida exactamente en 5 categorías iguales tendremos de igual manera la misma representacion en cada una de las superclases."
      ],
      "metadata": {
        "id": "0sNiUm-rciO7"
      }
    },
    {
      "cell_type": "markdown",
      "source": [
        "Se va a asignar a cada clase su superclase"
      ],
      "metadata": {
        "id": "wufrJIKjNKY0"
      }
    },
    {
      "cell_type": "code",
      "source": [
        "valores_asociados = [0] * 100\n",
        "for i in range(10000):\n",
        "  valores_asociados[int(test_labels[i])] = int(test_coarse_labels[i])\n",
        "\n",
        "print(valores_asociados)"
      ],
      "metadata": {
        "colab": {
          "base_uri": "https://localhost:8080/"
        },
        "outputId": "7fb25455-c393-4caf-db81-3c535c2f5699",
        "id": "PbvU74n5yx24"
      },
      "execution_count": null,
      "outputs": [
        {
          "output_type": "stream",
          "name": "stdout",
          "text": [
            "[4, 1, 14, 8, 0, 6, 7, 7, 18, 3, 3, 14, 9, 18, 7, 11, 3, 9, 7, 11, 6, 11, 5, 10, 7, 6, 13, 15, 3, 15, 0, 11, 1, 10, 12, 14, 16, 9, 11, 5, 5, 19, 8, 8, 15, 13, 14, 17, 18, 10, 16, 4, 17, 4, 2, 0, 17, 4, 18, 17, 10, 3, 2, 12, 12, 16, 12, 1, 9, 19, 2, 10, 0, 1, 16, 12, 9, 13, 15, 13, 16, 19, 2, 4, 6, 19, 5, 5, 8, 19, 18, 1, 2, 15, 6, 0, 17, 8, 14, 13]\n"
          ]
        }
      ]
    },
    {
      "cell_type": "markdown",
      "metadata": {
        "id": "-ab_saAaSGzh"
      },
      "source": [
        "# **Representación**\n",
        "Con el objetivo de familiarizarnos con la forma de los datos, se va a mostrar una de las imágenes. Concretamente, la imagen de la posición 9 en el conjunto de entrenamiento, eliminando las marcas en los ejes para obtener una visualización más limpia de la imagen.\n"
      ]
    },
    {
      "cell_type": "code",
      "execution_count": null,
      "metadata": {
        "colab": {
          "base_uri": "https://localhost:8080/",
          "height": 406
        },
        "outputId": "1711e50d-db4d-44fa-fb69-d0d15d38c4db",
        "id": "YRV7k3M-y1rQ"
      },
      "outputs": [
        {
          "output_type": "display_data",
          "data": {
            "text/plain": [
              "<Figure size 640x480 with 1 Axes>"
            ],
            "image/png": "[encoded data removed]"
          },
          "metadata": {}
        }
      ],
      "source": [
        "imgRGB = train_images[9]\n",
        "plt.xticks([]), plt.yticks([])\n",
        "plt.imshow(imgRGB)\n",
        "plt.show()"
      ]
    },
    {
      "cell_type": "markdown",
      "source": [
        "Se divide el conjunto de datos de entrenamiento en entrenamiento puro y validación"
      ],
      "metadata": {
        "id": "e4ZRVq0-eIBX"
      }
    },
    {
      "cell_type": "code",
      "source": [
        "train_images_pure = train_images[:40000]\n",
        "train_labels_pure = train_labels[:40000]\n",
        "train_coarse_labels_pure = train_coarse_labels[:40000]\n",
        "validation_images = train_images[40000:]\n",
        "validation_labels = train_labels[40000:]\n",
        "validation_coarse_labels = train_coarse_labels[40000:]"
      ],
      "metadata": {
        "id": "T866lnl-y40G"
      },
      "execution_count": null,
      "outputs": []
    },
    {
      "cell_type": "markdown",
      "source": [
        "# **Transformaciones**\n",
        "\n",
        "**INGENIERÍA DE CARACTERÍSTICAS**\n",
        "\n",
        "La ingeniería de características consiste en aplicar **transformaciones** sobre unos datos con el objetivo de mejorar el rendimiento del modelo. Esta etapa es crucial en el desarrollo de modelos predictivos, ya que la calidad de las características puede tener un impacto significativo en la capacidad del modelo para aprender patrones y realizar predicciones precisas. Si los datos se le presentan al modelo de una forma más fácil de interpretar, le facilitamos el trabajo y converge más rápido. Por lo tanto, la ingeniería de características puede mostrar información latente en los datos que no es evidente en las características originales. Algunas de estas transformaciones pueden ser rotaciones, cambios de escala, traslaciones, reflejos y otras operaciones que mantienen la etiqueta de la clase pero introducen variabilidad en las entradas.\n",
        "\n",
        "En este modelo, se decide **aumentar los datos** mediante una transformación que voltea / le da la vuelta a cada una de las 50,000 imágenes originales, generando así 50,000 imágenes adicionales. Esto crea una versión reflejada horizontalmente de la imagen original. Además, las etiquetas del conjunto de entrenamiento original (train_labels y train_coarse_labels) se duplican para coincidir con el aumento de datos realizado en las imágenes.\n",
        "\n",
        "Por otro lado, se muestran las **dimensiones** del conjunto de entrenamiento **después de la transformación** de aumento de datos para verificar cómo ha cambiado el tamaño del conjunto de entrenamiento (tamaño duplicado). Se ha pasado de (50.000, 32, 32, 3) a (100.000, 32, 32, 3).\n",
        "\n",
        "\n"
      ],
      "metadata": {
        "id": "Z_1wnYJVmRF_"
      }
    },
    {
      "cell_type": "code",
      "source": [
        "augmented_data = []\n",
        "for i in range(40000):\n",
        "  imgRGB = train_images_pure[i]\n",
        "\n",
        "  imgRGB = np.flip(imgRGB, axis=1)\n",
        "\n",
        "  augmented_data.append(imgRGB)"
      ],
      "metadata": {
        "id": "iSv403ley87Y"
      },
      "execution_count": null,
      "outputs": []
    },
    {
      "cell_type": "code",
      "source": [
        "train_images_pure = np.concatenate((train_images_pure, np.array(augmented_data)))\n",
        "train_labels_pure = np.concatenate((train_labels_pure, train_labels_pure))\n",
        "train_coarse_labels_pure = np.concatenate((train_coarse_labels_pure, train_coarse_labels_pure))"
      ],
      "metadata": {
        "id": "2trw7W_Ty87d"
      },
      "execution_count": null,
      "outputs": []
    },
    {
      "cell_type": "code",
      "source": [
        "print(train_images_pure.shape)\n",
        "print(train_labels_pure.shape)\n",
        "print(train_coarse_labels_pure.shape)\n",
        "print(validation_images.shape)\n",
        "print(validation_labels.shape)\n",
        "print(validation_coarse_labels.shape)"
      ],
      "metadata": {
        "colab": {
          "base_uri": "https://localhost:8080/"
        },
        "outputId": "cd3e1cb1-db32-40cd-b6ca-2176ea48da3e",
        "id": "sVa9pZRvy87e"
      },
      "execution_count": null,
      "outputs": [
        {
          "output_type": "stream",
          "name": "stdout",
          "text": [
            "(80000, 32, 32, 3)\n",
            "(80000,)\n",
            "(80000,)\n",
            "(10000, 32, 32, 3)\n",
            "(10000,)\n",
            "(10000,)\n"
          ]
        }
      ]
    },
    {
      "cell_type": "markdown",
      "source": [
        "# **Normalización de los datos**"
      ],
      "metadata": {
        "id": "HT2nv6b69ZoG"
      }
    },
    {
      "cell_type": "markdown",
      "metadata": {
        "id": "YuoFGZwySqCZ"
      },
      "source": [
        "La normalización de los datos previa al entrenamiento ayuda a la red neuronal a estabilizar y acelerar el proceso de entrenamiento, asegurarándose que todas las características contribuyen de manera equitativa al aprendizaje del modelo. Normalizar los datos previene posibles problemas de convergencia lenta o inestabilidad numérica que podrían surgir cuando los datos presentan escalas significativamente diferentes. Asimismo, al disminuir la variabilidad en las escalas de las características, se facilita al modelo aprender relaciones más relevantes entre estas, lo que mejora su capacidad de generalización a datos que no ha visto antes.\n",
        "Se normaliza de forma que transforma las características para que estén en el rango [0,1]. Es decir, que tengan una media de 0 y una desviación estándar de 1.\n",
        "\n",
        "El hecho de dividir entre 255 en el proceso se debe a que los píxeles de las imágenes están entre 0 y 255, representando cada valor de píxel la intensidad de la luz en ese píxel. En el caso de RGB (Rojo, Verde, Azul), un valor de cero representa la ausencia total de dicho color, representándose en color negro. Un valor de 255 repesenta la máxima intensidad del color al que corresponda.\n",
        "\n",
        "Previamente, se probaron otras normalizaciones (como entre -1 y 1), las cuales mejoraban el modelo. Sin embargo, para este modelo concreto, la normalización entre 0 y 1 es la mejor."
      ]
    },
    {
      "cell_type": "code",
      "execution_count": null,
      "metadata": {
        "id": "Xi-dJ7hfzAHd"
      },
      "outputs": [],
      "source": [
        "train_images = train_images.astype('float32')/255\n",
        "train_images_pure = train_images_pure.astype('float32')/255\n",
        "validation_images = validation_images.astype('float32')/255\n",
        "test_images = test_images.astype('float32')/255"
      ]
    },
    {
      "cell_type": "markdown",
      "metadata": {
        "id": "BqX_SCyzSwAs"
      },
      "source": [
        "# **Aleatorización de los datos**\n",
        "Mezclar los datos antes de entrenar un modelo es una buena costumbre debido a varias razones:\n",
        "\n",
        "1. **Evitar el sesgo del orden de los datos:**\n",
        "   - Cuando los datos están ordenados de alguna manera específica (por ejemplo, todas las instancias de una clase juntas), existe el riesgo de que el modelo aprenda patrones asociados con ese orden en particular y que cuando se le presente algo diferentes sufra grandes variaciones.\n",
        "\n",
        "2. **Mejorar la generalización y aumentar la variabilidad del entrenamiento:**\n",
        "   - Mezclar los datos ayuda a garantizar que el modelo no se especialice en patrones específicos de un subconjunto de los datos. Si los datos están organizados de cierta manera, el modelo puede funcionar bien solo para ese orden particular, pero podría tener un rendimiento deficiente en datos que no sigan la misma estructura. Además, la mezcla aleatoria introduce variabilidad en cada lote de entrenamiento, lo que puede ayudar al modelo a generalizar mejor en lugar de memorizar patrones específicos como se ha dicho. Esto es crucial para garantizar que el modelo se desempeñe bien en datos nuevos y no vistos.\n",
        "\n",
        "3. **Facilitar la convergencia del modelo:**\n",
        "   - La mezcla de datos puede ayudar a la convergencia más rápida del modelo durante el entrenamiento. Si los datos están organizados de manera desfavorable, el modelo podría tardar más en aprender los patrones relevantes.\n"
      ]
    },
    {
      "cell_type": "markdown",
      "source": [
        "# **One hot encoding**\n",
        "Se realiza una codificación categórica de las etiquetas utilizando el método conocido como \"one-hot encoding\". Este proceso implica transformar las etiquetas en vectores que contienen tantos ceros como clases existan, y colocar un valor de 1 en la posición correspondiente a la clase a la que pertenece la etiqueta original.\n",
        "\n",
        "En otras palabras, si previamente se tenía una clase con una etiqueta que indicaba que pertenecía a la clase 3, ahora se representará esa etiqueta como un vector en el cual habrá un 1 en la posición correspondiente a la clase 3, mientras que las demás posiciones contendrán ceros.\n",
        "\n",
        "La función ```to_categorical``` se encarga de llevar a cabo esta transformación, convirtiendo los datos al formato de \"one-hot encoding\" y facilitando así el tratamiento de etiquetas categóricas en contextos de aprendizaje automático."
      ],
      "metadata": {
        "id": "iJMFWBUmt_eZ"
      }
    },
    {
      "cell_type": "code",
      "execution_count": null,
      "metadata": {
        "id": "AQ0L2hz8zDno"
      },
      "outputs": [],
      "source": [
        "from keras.utils import to_categorical\n",
        "\n",
        "# Se reordenan los datos manteniendo los pares train_images~train_labels~train_coarse_labels asociados\n",
        "def aleatorio(train_images, train_labels, train_coarse_labels):\n",
        "    ale = list(zip(train_images, train_labels, train_coarse_labels))\n",
        "    np.random.shuffle(ale)\n",
        "    train_images, train_labels, train_coarse_labels = zip(*ale)\n",
        "    return np.array(train_images), np.array(train_labels), np.array(train_coarse_labels)\n",
        "\n",
        "train_images_pure, train_labels_pure, train_coarse_labels = aleatorio(train_images_pure, train_labels_pure, train_coarse_labels_pure)\n",
        "\n",
        "train_labels = to_categorical(train_labels)\n",
        "train_labels_pure = to_categorical(train_labels_pure)\n",
        "validation_labels = to_categorical(validation_labels)\n",
        "test_labels = to_categorical(test_labels)"
      ]
    },
    {
      "cell_type": "markdown",
      "metadata": {
        "id": "6n_E0h3kS1bt"
      },
      "source": [
        "# **Creación del modelo de red neuronal convolucional**"
      ]
    },
    {
      "cell_type": "markdown",
      "source": [
        "Se importan las capas y funciones necesarias de TensorFlow y Keras para construir el modelo de red neuronal convolucional (CNN) con características específicas como, entre otras, capas de convolución, pooling, inicializadores de pesos, capas densas."
      ],
      "metadata": {
        "id": "Nv0eCheNYreb"
      }
    },
    {
      "cell_type": "markdown",
      "source": [
        "# **Características adicionales / features**\n",
        "\n",
        "Los ```num_features``` son una parte de ingeniería de características que consiste en realizar transformaciones específica a la imagen original para  para mejorar la capacidad del modelo a la hora de predecir al exponerlo a variaciones y patrones diferentes en los datos.. En nuestro modelo, se van a tomar 20 features (características adicionales). Esto significa que el modelo va a generar 20 transformaciones distintas a cada imagen de entrada, en las que en cada una se va a elegir una zona distinta de la imagen en la que se centrará para deducir patrones específicos. Esta zona en la que se enfoca será distinta en cada feature. Además, cada feature no tiene por qué elegir todo en la misma zona, sino que puede juntar distintas.\n",
        "\n",
        "Además, de definir cuántas se usarán, se crea una capa de entrada separada para las características adicionales llamada ```additional_input```\n",
        "\n"
      ],
      "metadata": {
        "id": "5wvZnC4saVYN"
      }
    },
    {
      "cell_type": "code",
      "source": [
        "# Assuming x1, x2, x1x2, sin_x1, and sin_x2 are your additional features\n",
        "num_features = 20\n",
        "\n",
        "# Create a separate input layer for the additional features\n",
        "additional_input = Input(shape=(num_features,))\n",
        "\n",
        "# Create the image model\n",
        "model = Sequential()"
      ],
      "metadata": {
        "id": "XG2L8fZpTW9t"
      },
      "execution_count": null,
      "outputs": []
    },
    {
      "cell_type": "markdown",
      "source": [
        "# **Redes neuronales convolucionales**\n",
        "\n",
        "Las **redes convolucionales** son un tipo de redes profundas especializadas en procesar datos que tienen una estructura en forma de cuadrícula, siendo muy eficientes en áreas como reconocimiento de imágenes o detección de objetos. Esta es la razón por la cual se emplea esta herramienta para realizar esta práctica. Estas redes aprenden **patrones jerárquicos**. Es decir, aprenderá características más simples o generales las primeras capas (como pueden ser bordes o zonas de brillo en una imagen) y cada vez que se introduzca en una capa más profunda, las características que aprende son más complejas (diferentes niveles de abstracción). Además, la forma en que tiene para realizar las tareas es eficiente, pues asume que las entradas son imágenes y, por tanto, le da unas características que facilita el reconocimiento de ciertos elementos de una imagen. Las redes van a ir identificando líneas, bordes, tamaños relativos y muchos otros factores, que una vez aprendidos pueden reconocer en cualquier imagen, hasta obtener la solución. Además, si la red detecta que hay varios que aprenden lo mismo, lo detecta y se queda solo con uno, dándole menos refuerzo a aquellos que no aporten nada nuevo o útil (**retroalimentación negativa**).\n",
        "\n",
        "Durante el entrenamiento, cada imagen va a pasar por red neuronal y los filtros se aplican sobre ellas. Cada uno de los filtros generará un mapa de características representativa de una parte de ella (**forward propagation**). Los pesos de los filtros se ajustarán para reducir el error al comparar la salida que se obtiene con la esperada. Si el filtro ayuda a detectar la imagen correctamente, su peso se verá reforzado, y sino, se modificará el filtro para que sí aporte información (**backward propagation**).\n",
        "\n",
        "Estas redes se caracterizan por tener una capa de convolución, una **función de activación** para introducir no linealidades en el modelo y aprender patrones complejos, una **capa de pooling**, una de **flatten**, **capas densas** y, por último, la **capa de salida** para clasificar las imágenes por categorías. Un elemento importante que se añade para conseguirlo son los **filtros** (también llamados kernel) que se le van aplicando en la capa convolucional para crear un mapa de características, concepto que se explicará luego.\n",
        "\n",
        "\n",
        "**Función de activación ELU (Exponential Linear Unit)**\n",
        "La función de activación que se usará en este modelo es ELU (Exponential Linear Unit). Esta función proporciona ciertas ventajas:\n",
        "* A diferencia de ReLU, ELU incluye valores negativos, lo que puede ser beneficioso al permitir que la activación sea tanto positiva como negativa. Además, tiene una suavidad en la zona negativa, lo que puede ser útil en problemas donde la suavidad es deseable.\n",
        "\n",
        "* Otra ventaja es que ELU suele tener una menor probabilidad de provocar el problema de gradientes explosivos en comparación con ReLU.\n"
      ],
      "metadata": {
        "id": "4_k3H8KUh9MU"
      }
    },
    {
      "cell_type": "markdown",
      "source": [
        "# **Primeras capas**\n",
        "\n",
        "\n",
        "\n",
        "* **Primera capa convolucional**   \n",
        "    - Se añade una capa convolucional inicialmete con 128 filtros de tamaño (3, 3), especificando el paso de desplazamiento de los filtros durante la convolución como ```strides=(1, 1)```\n",
        "    - Se aplica un relleno de ceros para mantener el tamaño de la salida igual al tamaño de la entrada (```padding='same'```). Se explica más abajo en qué consiste este concepto y por qué se toma esta decisión.\n",
        "    - input_shape=(32, 32, 3) establece la forma de entrada para la primera capa, indicando imágenes de 32x32 píxeles con 3 canales (RGB).\n",
        "    - **Mapa de características**: Los mapas de características son tensores 3D con una altura, ancho y profundidad. Es el resultado que se obtiene al reducir las dimensiones de la capa de entrada. Para ello, se introduce el concepto de stride, que consiste en un valor que es constante a lo largo del proceso de aprendizaje, está asociado a las capas y que representa el paso de avance. Es decir, si se tiene una ventana de 5x5 para recorrer la capa y el stride es 1, entonces esa ventana de 5x5 solo se moverá una posición hacia la derecha. Además, cuanto más alto es el stride, más pequeño será el mapa de características. Esto se debe a que se realizan menos pasos de avances, recorriendo antes toda la capa de entrada. Las dimensiones del mapa de características que se generan en una ventana axa (a es un natural) dimensión de la capa de entrada menos a (tamaño ventana) más 1.Otro efecto de un stride alto es que las imágenes tienen peor calidad, pues se centra más en características globales.  \n",
        "\n",
        "**Otros hiperparámetros de la capa convolucional**\n",
        "\n",
        "* Un hiperparámetro de esta capa es el **padding**, que consiste en agregar valores adicionales de ceros alrededor de la entrada antes de aplicar la operación de convolución. Es decir, antes de deslizar la ventana y generar el mapa de características.\n",
        "\n",
        "  Para no inlcuir relleno, se hace ```padding = 'valid'```. En dicho caso, el tamaño del mapa de características resultante es más pequeño que el tamaño de la entrada.\n",
        "\n",
        "  Si queremos añadirle este relleno, se hace ```padding = 'same'```, y rellena los **huecos vacíos con ceros**. Esto quiere decir que se agrega suficiente relleno para mantener el tamaño del mapa de características resultante igual al tamaño de la entrada, de manera que la ventana de convolución pueda recorrer toda la imagen sin salirse de los bordes, pues muchas veces la imagen proporciona información valiosa en los bordes que sin el padding podría no ser capaz de capturar.\n",
        "\n",
        "  Por lo tanto, esto nos perimte conservar el tamaño de las características de forma que el tamaño de los mapas de características no se reduzca demasiado rápido y permita que la red aprenda una variedad más rica y variada de características a diferentes escalas y posiciones. Además, otra ventaja que ofrece está opción es la ayuda para evitar el **sobreentrenamiento**. Esto se debe a que las capas pueden aprender de una cantidad más amplia de características sin centrarse excesivamente en detalles específicos de las imágenes de entrenamiento. Por todas estas razones, se incluye el padding en nuestro modelo.\n",
        "\n",
        "\n",
        "* **Capa de normalización por batches (```BatchNormalization```)**:\n",
        "  - Esta capa normaliza las activaciones de la capa anterior, ayudando a estabilizar y acelerar el entrenamiento. Durante el entrenamiento, para cada mini-batch, se calculan la media y la desviación estándar de las activaciones de cada neurona en el lote. Las activaciones de cada neurona se normalizan restando la media del lote y dividiendo por la desviación estándar del lote. Esta técnica ayuda a evitar problemas como el desvanecimiento del gradiente al mantener las activaciones en rangos más estables. Además, también facilita el entrenamiento, haciéndolo más rápido y estable al normalizar las activaciones y reducir la dependencia de la inicialización de pesos.\n",
        "\n",
        "* Se añade otra capa convolucional con 128 filtros al igual que en la primera capa convolucional, así como otra capa de normalización por batches.\n",
        "\n",
        "* **Capa de max pooling**\n",
        "  - Estas capas sirven para reducir la dimensionalidad espacial de los mapas de características sin perder información importante y proporciona cierta invarianza a la translación y a pequeñas variaciones en la posición de las características, convirtiendo la red más eficiente y menos sensible a las variaciones en la posición de las características en la entrada. Al seleccionar solo el valor máximo en cada región, la operación reduce la dimensionalidad de la entrada. Esto es útil para limitar la cantidad de parámetros y operaciones en capas subsiguientes.\n",
        "\n",
        "  - Estas se aplican inmediatamente después de la capa convolucional para simplificar la información obtenida y crear otra versión pero condensada. Para ello, se toma una ventana de cierto tamaño y se simplifica igual que cuando se simplifica en la capa convolucional. En este caso, hemos elegido una ventana de (2,2). Es decir, que en dicha ventana con cuatro puntos, la capa de pooling solo se quedará con uno de estos cuatro valores. Para decidir cuál se usa, hay varios criterios. En esta práctica se empleará el criterior del máximo, es decir, se queda con el mayor valor de los cuatro\n",
        "\n",
        "* **Capa de dropout**\n",
        "  - La capa de dropout es una técnica de regularización utilizada para prevenir el sobreajuste (overfitting). Durante el entrenamiento, en cada iteración, cada neurona de la capa de dropout tiene una probabilidad de ser \"apagada\" o retirada; es decir, que toma valor cero. Esto se hace seleccionando al azar (de manera estocástica) si la unidad debe ser apagada o no. La probabilidad de retirar un número de características de salida de la capa durante el entrenamiento se controla mediante el parámetro de dropout, que suele ser un valor entre 0.2 y 0.5, representando la fracción de características que se ponen a cero en cada iteración.\n",
        "\n",
        "    Al eliminar aleatoriamente unidades durante el entrenamiento, el modelo se vuelve más robusto y menos propenso a depender fuertemente de ciertas conexiones, lo que puede ayudar a mejorar su capacidad para generalizar, así como prevenir el sobreentrenamiento al forzar a la red a no depender demasiado de características específicas sino más robustas.\n",
        "\n",
        "    En nuestro modelo, se decide darle a dropout un valor de 0,3. Es decir, se van a reducir los resultado en un 30% (la mitad de las características se ponen a cero).\n"
      ],
      "metadata": {
        "id": "qlrwq0gMgGAv"
      }
    },
    {
      "cell_type": "code",
      "source": [
        "# 1º capa convolucional\n",
        "model.add(Conv2D(128, (3, 3), strides=(1, 1), padding='same', input_shape=(32, 32, 3), activation='elu', kernel_initializer=he_normal()))\n",
        "model.add(BatchNormalization())\n",
        "model.add(Conv2D(128, (3, 3), strides=(1, 1), padding='same', activation='elu'))\n",
        "model.add(BatchNormalization())\n",
        "model.add(MaxPooling2D(pool_size=(2, 2)))\n",
        "model.add(Dropout(0.3))"
      ],
      "metadata": {
        "id": "kAx9ktGKidBB"
      },
      "execution_count": null,
      "outputs": []
    },
    {
      "cell_type": "markdown",
      "source": [
        "* **Otras capas de convolución**\n",
        "  - Se crean otras dos capas de convolución, manteniendo las mismas características que la primera, variando solamente el valor del dropout. Esto se debe a que en cada capa, el número de filtros va a ir aumentando, pues a medida que se va profundizando en las capas hacen falta más filtro para reconocer características. Por lo tanto, al igual que aumenta este número, también tendrá que aumentar el número de características que se retiran.\n",
        "\n",
        "* **Ultimas capas**\n",
        "\n",
        " -  Por último, se añade la capa flatten para aplanar el mapa de características y después conectarlas a las capas densas para la clasificación o regresión. También se concatenan las características aplanadas de la imagen con las características adicionales proporcionadas."
      ],
      "metadata": {
        "id": "pGo18SH1dEyR"
      }
    },
    {
      "cell_type": "code",
      "source": [
        "# 2º capa convolucional\n",
        "model.add(Conv2D(256, (3, 3), strides=(1, 1), padding='same', activation='elu'))\n",
        "model.add(BatchNormalization())\n",
        "model.add(Conv2D(256, (3, 3), strides=(1, 1), padding='same', activation='elu'))\n",
        "model.add(BatchNormalization())\n",
        "model.add(MaxPooling2D(pool_size=(2, 2)))\n",
        "model.add(Dropout(0.4))\n",
        "\n",
        "# 3º capa convolucional\n",
        "model.add(Conv2D(512, (3, 3), strides=(1, 1), padding='same', activation='elu'))\n",
        "model.add(BatchNormalization())\n",
        "model.add(Conv2D(512, (3, 3), strides=(1, 1), padding='same', activation='elu'))\n",
        "model.add(BatchNormalization())\n",
        "model.add(MaxPooling2D(pool_size=(2, 2)))\n",
        "model.add(Dropout(0.5))\n",
        "\n",
        "# Capa para aplanar los datos\n",
        "model.add(Flatten())\n",
        "\n",
        "# Concatenación con Características Adicionales\n",
        "combined_model = Concatenate()([model.output, additional_input])"
      ],
      "metadata": {
        "id": "34wmCtbei5ox"
      },
      "execution_count": null,
      "outputs": []
    },
    {
      "cell_type": "markdown",
      "source": [
        "**Capas Completamente Conectadas:**\n",
        "-   Después de las capas convolucionales y de pooling, se introducen capas totalmente conectadas para combinar las características aprendidas y aprender representaciones más abstractas. La elección del número de neuronas es un hiperparámetro que se debe decidir según la complejidad del problema. Luego, se aplica normalización por lotes y un dropout con una tasa del 50% por las razones que ya se han explicado. Similar a la capa anterior, se define una segunda capa totalmente conectada, donde se reduce el número de neuronas ayudando así a concentrar información relevante y reducir la complejidad del modelo.\n",
        "\n",
        "**Capa de Salida:**\n",
        "  - La capa de salida tiene 100 neuronas (correspondientes a las clases en el conjunto de datos CIFAR-100) y utiliza la función de activación 'softmax' para convertir las salidas en probabilidades, permitiendo que el modelo realice una clasificación multiclase."
      ],
      "metadata": {
        "id": "ovP-quYZg4RR"
      }
    },
    {
      "cell_type": "code",
      "source": [
        "# Primera capa totalmente conectada\n",
        "combined_model = Dense(1024, activation='elu')(combined_model)\n",
        "combined_model = BatchNormalization()(combined_model)\n",
        "combined_model = Dropout(0.5)(combined_model)\n",
        "\n",
        "# Segunda capa totalmente conectada\n",
        "combined_model = Dense(512, activation='elu')(combined_model)\n",
        "combined_model = BatchNormalization()(combined_model)\n",
        "combined_model = Dropout(0.5)(combined_model)\n",
        "\n",
        "# Capa de salida\n",
        "combined_model = Dense(100, activation='softmax')(combined_model)\n",
        "\n",
        "# Modelo final: Se junta el modelo original (model) con las características adicionales (additional_input)\n",
        "final_model = tf.keras.Model(inputs=[model.input, additional_input], outputs=combined_model)"
      ],
      "metadata": {
        "id": "3xVT2RSjjzYE"
      },
      "execution_count": null,
      "outputs": []
    },
    {
      "cell_type": "markdown",
      "source": [
        "# **Entrenamiento**\n",
        "A continuación, se detalla el proceso de entrenamiento. Para ello, especificamos primero el optimizador que se va a utilizar. En este caso, se empleará Adam con una tasa de aprendizaje de 0.01.\n",
        "Adam es un optimizador popular que se adapta de manera dinámica durante el entrenamiento, ajustando las tasas de aprendizaje para cada parámetro de la red de manera individual.\n",
        "\n",
        "**Optimizador Adam**\n",
        "-   Adam (Adaptive Moment Estimation) es un algoritmo de optimización que junta los puntos fuertes de los algoritmos RMSprop y del momentum para potenciar el proceso de aprendizaje en un modelo. Similar al momentum, Adam emplea **estimaciones** del **momento** y de la magnitud de los **gradientes** previos para actualizar los parámetros del modelo en cada iteración. No obstante, en lugar de utilizar una tasa de aprendizaje constante para todos los parámetros, Adam ajusta **dinámicamente** la tasa de aprendizaje de cada parámetro individual basándose en sus estimaciones del momento y la magnitud del gradiente. Este enfoque posibilita que el modelo se adapte de manera más eficaz y precisa a los datos de entrenamiento, resultando potencialmente en una mayor precisión de las predicciones en comparación con otros métodos de optimización. Por estas razones, este es el optimizador que se decide usar para nuestro modelo.\n",
        "\n",
        "**La tasa de aprendizaje**\n",
        "-   La tasa de aprendizaje es un hiperparámetro importante que hay que decidir para determinar el tamaño de los pasos que el algoritmo de optimización toma al actualizar los pesos del modelo durante el entrenamiento. Un valor u otro puede afectar al rendimiento del modelo. Por ejemplo, si es muy alto va a converger más rápido al principio, ya que los pesos se actualizan en pasos más grandes. Sin embargo, el riesgo de hacer esto es que puede no converger al oscilar de un punto a otro sin ninguna estabilidad. También podría ser que converga pero se quede en un mínimo que no sea el más óptimo. Por otro lado, si la tasa de aprendizaje es baja, aunque la convergencia sea más lenta, será más segura y generalmente converge a la solución. La desventaja de esto es la cantidad de tiempo que puede llegar a tardar y la posibilidad de quedarse estancado en mínimos locales. En este modelo se opta por usar una tasa del 0.01, que se considera un valor intermedio.\n",
        "\n",
        "\n",
        "**Decisión de hiperparámetro al compilar el modelo**\n",
        "  - Se compila el modelo para definir cómo el modelo debe aprender y evaluar los datos durante el entrenamiento. Se le asigna la **función de pérdida** como 'categorical_crossentropy', pues estamos tratando un problema de clasificación multiclase, y la **métrica de precisión** ('accuracy') para poder ver la precisión del modelo.\n",
        "\n",
        "**Configuración de la Callback ReduceLROnPlateau**\n",
        "-   Se crea un callback de reducción de la tasa de aprendizaje (ReduceLROnPlateau) que ajustará automáticamente la tasa de aprendizaje durante el entrenamiento. La reducción se activará si no hay mejora en la precisión de la validación (val_accuracy) o en el valor de la perdida de validación (val_loss) después de dos épocas (patience=1), y reducirá la tasa de aprendizaje multiplicándola por un factor de 0.1. El valor mínimo de la tasa de aprendizaje se establece en 1e-5.\n",
        "\n",
        "\n"
      ],
      "metadata": {
        "id": "AqancyS9lbEq"
      }
    },
    {
      "cell_type": "code",
      "source": [
        "# Decisión del optimizador y tasa de aprendizaje\n",
        "optimizer = tf.keras.optimizers.Adam(learning_rate=0.001)\n",
        "\n",
        "final_model.compile(optimizer=optimizer, loss='categorical_crossentropy', metrics=['accuracy'])\n",
        "\n",
        "# Configuración de la Callback ReduceLROnPlateau:\n",
        "reduce_lr1 = ReduceLROnPlateau(monitor='val_accuracy',\n",
        "                              factor=0.1,\n",
        "                              patience=2,\n",
        "                              min_lr=1e-5)\n",
        "\n",
        "reduce_lr2 = ReduceLROnPlateau(monitor='val_loss',\n",
        "                              factor=0.1,\n",
        "                              patience=2,\n",
        "                              min_lr=1e-5)\n",
        "\n",
        "# Se utiliza para generar matrices de números aleatorios entre 0 y 1. Estos números se utilizan como características adicionales.\n",
        "# Cada fila de estas matrices representa un conjunto de características adicionales para una imagen específica.\n",
        "train_additional_features = np.random.random((len(train_images_pure), num_features))\n",
        "validation_additional_features = np.random.random((len(validation_images), num_features))\n",
        "\n",
        "# Se entrena el modelo con callback ReduceLROnPlateau\n",
        "history2 = final_model.fit([train_images_pure, train_additional_features], train_labels_pure, batch_size=64,\n",
        "                            epochs=30,\n",
        "                            validation_data=([validation_images, validation_additional_features], validation_labels),\n",
        "                            callbacks=[reduce_lr1,reduce_lr2])"
      ],
      "metadata": {
        "colab": {
          "base_uri": "https://localhost:8080/"
        },
        "outputId": "c0098aac-40f9-4def-d716-8ff5bc995cc5",
        "id": "JIpSky-c7Nas"
      },
      "execution_count": null,
      "outputs": [
        {
          "output_type": "stream",
          "name": "stdout",
          "text": [
            "Epoch 1/30\n",
            "1250/1250 [==============================] - 86s 55ms/step - loss: 3.7923 - accuracy: 0.1488 - val_loss: 2.8822 - val_accuracy: 0.2765 - lr: 0.0010\n",
            "Epoch 2/30\n",
            "1250/1250 [==============================] - 70s 56ms/step - loss: 2.5601 - accuracy: 0.3367 - val_loss: 2.1613 - val_accuracy: 0.4212 - lr: 0.0010\n",
            "Epoch 3/30\n",
            "1250/1250 [==============================] - 71s 57ms/step - loss: 2.0743 - accuracy: 0.4380 - val_loss: 1.9253 - val_accuracy: 0.4735 - lr: 0.0010\n",
            "Epoch 4/30\n",
            "1250/1250 [==============================] - 70s 56ms/step - loss: 1.7879 - accuracy: 0.5046 - val_loss: 1.6602 - val_accuracy: 0.5365 - lr: 0.0010\n",
            "Epoch 5/30\n",
            "1250/1250 [==============================] - 71s 57ms/step - loss: 1.5524 - accuracy: 0.5624 - val_loss: 1.6706 - val_accuracy: 0.5447 - lr: 0.0010\n",
            "Epoch 6/30\n",
            "1250/1250 [==============================] - 70s 56ms/step - loss: 1.3888 - accuracy: 0.6031 - val_loss: 1.4562 - val_accuracy: 0.5931 - lr: 0.0010\n",
            "Epoch 7/30\n",
            "1250/1250 [==============================] - 70s 56ms/step - loss: 1.2434 - accuracy: 0.6404 - val_loss: 1.4459 - val_accuracy: 0.5985 - lr: 0.0010\n",
            "Epoch 8/30\n",
            "1250/1250 [==============================] - 72s 58ms/step - loss: 1.1256 - accuracy: 0.6675 - val_loss: 1.3892 - val_accuracy: 0.6178 - lr: 0.0010\n",
            "Epoch 9/30\n",
            "1250/1250 [==============================] - 70s 56ms/step - loss: 1.0150 - accuracy: 0.6956 - val_loss: 1.3544 - val_accuracy: 0.6320 - lr: 0.0010\n",
            "Epoch 10/30\n",
            "1250/1250 [==============================] - 70s 56ms/step - loss: 0.9407 - accuracy: 0.7150 - val_loss: 1.3609 - val_accuracy: 0.6308 - lr: 0.0010\n",
            "Epoch 11/30\n",
            "1250/1250 [==============================] - 71s 57ms/step - loss: 0.8613 - accuracy: 0.7368 - val_loss: 1.3596 - val_accuracy: 0.6371 - lr: 0.0010\n",
            "Epoch 12/30\n",
            "1250/1250 [==============================] - 71s 57ms/step - loss: 0.6619 - accuracy: 0.7946 - val_loss: 1.2511 - val_accuracy: 0.6647 - lr: 1.0000e-04\n",
            "Epoch 13/30\n",
            "1250/1250 [==============================] - 72s 57ms/step - loss: 0.5942 - accuracy: 0.8141 - val_loss: 1.2501 - val_accuracy: 0.6676 - lr: 1.0000e-04\n",
            "Epoch 14/30\n",
            "1250/1250 [==============================] - 70s 56ms/step - loss: 0.5530 - accuracy: 0.8234 - val_loss: 1.2588 - val_accuracy: 0.6685 - lr: 1.0000e-04\n",
            "Epoch 15/30\n",
            "1250/1250 [==============================] - 70s 56ms/step - loss: 0.5212 - accuracy: 0.8347 - val_loss: 1.2670 - val_accuracy: 0.6698 - lr: 1.0000e-04\n",
            "Epoch 16/30\n",
            "1250/1250 [==============================] - 71s 56ms/step - loss: 0.4901 - accuracy: 0.8435 - val_loss: 1.2672 - val_accuracy: 0.6715 - lr: 1.0000e-05\n",
            "Epoch 17/30\n",
            "1250/1250 [==============================] - 70s 56ms/step - loss: 0.4837 - accuracy: 0.8463 - val_loss: 1.2650 - val_accuracy: 0.6715 - lr: 1.0000e-05\n",
            "Epoch 18/30\n",
            "1250/1250 [==============================] - 70s 56ms/step - loss: 0.4815 - accuracy: 0.8458 - val_loss: 1.2685 - val_accuracy: 0.6735 - lr: 1.0000e-05\n",
            "Epoch 19/30\n",
            "1250/1250 [==============================] - 70s 56ms/step - loss: 0.4789 - accuracy: 0.8457 - val_loss: 1.2699 - val_accuracy: 0.6720 - lr: 1.0000e-05\n",
            "Epoch 20/30\n",
            "1250/1250 [==============================] - 71s 57ms/step - loss: 0.4760 - accuracy: 0.8482 - val_loss: 1.2708 - val_accuracy: 0.6718 - lr: 1.0000e-05\n",
            "Epoch 21/30\n",
            "1250/1250 [==============================] - 70s 56ms/step - loss: 0.4693 - accuracy: 0.8509 - val_loss: 1.2696 - val_accuracy: 0.6742 - lr: 1.0000e-05\n",
            "Epoch 22/30\n",
            "1250/1250 [==============================] - 70s 56ms/step - loss: 0.4686 - accuracy: 0.8505 - val_loss: 1.2695 - val_accuracy: 0.6741 - lr: 1.0000e-05\n",
            "Epoch 23/30\n",
            "1250/1250 [==============================] - 70s 56ms/step - loss: 0.4646 - accuracy: 0.8521 - val_loss: 1.2714 - val_accuracy: 0.6732 - lr: 1.0000e-05\n",
            "Epoch 24/30\n",
            "1250/1250 [==============================] - 70s 56ms/step - loss: 0.4639 - accuracy: 0.8520 - val_loss: 1.2743 - val_accuracy: 0.6741 - lr: 1.0000e-05\n",
            "Epoch 25/30\n",
            "1250/1250 [==============================] - 70s 56ms/step - loss: 0.4605 - accuracy: 0.8514 - val_loss: 1.2722 - val_accuracy: 0.6742 - lr: 1.0000e-05\n",
            "Epoch 26/30\n",
            "1250/1250 [==============================] - 70s 56ms/step - loss: 0.4616 - accuracy: 0.8538 - val_loss: 1.2753 - val_accuracy: 0.6754 - lr: 1.0000e-05\n",
            "Epoch 27/30\n",
            "1250/1250 [==============================] - 70s 56ms/step - loss: 0.4538 - accuracy: 0.8532 - val_loss: 1.2746 - val_accuracy: 0.6754 - lr: 1.0000e-05\n",
            "Epoch 28/30\n",
            "1250/1250 [==============================] - 70s 56ms/step - loss: 0.4541 - accuracy: 0.8554 - val_loss: 1.2761 - val_accuracy: 0.6750 - lr: 1.0000e-05\n",
            "Epoch 29/30\n",
            "1250/1250 [==============================] - 70s 56ms/step - loss: 0.4511 - accuracy: 0.8559 - val_loss: 1.2762 - val_accuracy: 0.6758 - lr: 1.0000e-05\n",
            "Epoch 30/30\n",
            "1250/1250 [==============================] - 70s 56ms/step - loss: 0.4483 - accuracy: 0.8560 - val_loss: 1.2774 - val_accuracy: 0.6754 - lr: 1.0000e-05\n"
          ]
        }
      ]
    },
    {
      "cell_type": "code",
      "source": [
        "history_dict = history2.history\n",
        "history_dict.keys()\n",
        "\n",
        "acc = history2.history['accuracy']\n",
        "val_acc = history2.history['val_accuracy']\n",
        "loss = history2.history['loss']\n",
        "val_loss = history2.history['val_loss']\n",
        "\n",
        "epochs = range(1, len(acc) + 1)\n",
        "\n",
        "# \"bo\" es para \"punto azun\"\n",
        "plt.plot(epochs, loss, 'bo', label='Pérdida de Entrenamiento')\n",
        "# \"b\" es para \"linea continua azul\"\n",
        "plt.plot(epochs, val_loss, 'b', label='Pérdida de Validación')\n",
        "plt.title('Pérdida de Entrenamiento y Validación')\n",
        "plt.xlabel('Epochs')\n",
        "plt.ylabel('Loss')\n",
        "plt.legend()\n",
        "\n",
        "plt.show()"
      ],
      "metadata": {
        "colab": {
          "base_uri": "https://localhost:8080/",
          "height": 472
        },
        "outputId": "370dc90f-154c-42c7-f815-b9f41c3e523f",
        "id": "NWz5caUM0Ll8"
      },
      "execution_count": null,
      "outputs": [
        {
          "output_type": "display_data",
          "data": {
            "text/plain": [
              "<Figure size 640x480 with 1 Axes>"
            ],
            "image/png": "[encoded data removed]"
          },
          "metadata": {}
        }
      ]
    },
    {
      "cell_type": "code",
      "source": [
        "plt.clf()   # Limpia la figura\n",
        "acc_values = history_dict['accuracy']\n",
        "val_acc_values = history_dict['val_accuracy']\n",
        "\n",
        "plt.plot(epochs, acc, 'bo', label='Precisión de Entrenamiento')\n",
        "plt.plot(epochs, val_acc, 'b', label='Precisión de Validación')\n",
        "plt.title('Precisión de Entrenamiento y Valización')\n",
        "plt.xlabel('Epochs')\n",
        "plt.ylabel('Loss')\n",
        "plt.legend()\n",
        "\n",
        "plt.show()"
      ],
      "metadata": {
        "colab": {
          "base_uri": "https://localhost:8080/",
          "height": 472
        },
        "outputId": "57917cd5-9f91-4d60-b101-40f2c9d28a6d",
        "id": "vuNzPRZe0SLz"
      },
      "execution_count": null,
      "outputs": [
        {
          "output_type": "display_data",
          "data": {
            "text/plain": [
              "<Figure size 640x480 with 1 Axes>"
            ],
            "image/png": "[encoded data removed]"
          },
          "metadata": {}
        }
      ]
    },
    {
      "cell_type": "markdown",
      "source": [
        "Acorde a estas dos ultimas gráficas podemos seleccionar cual es el número óptimo de epocas a entrenar nuestro modelo. Esto lo podemos deducir viendo a partir de que época la precisión y la perdida de nuestros datos de validación dejan de mejorar, en nuestro caso, la época 15."
      ],
      "metadata": {
        "id": "D6K4Fecd0eSD"
      }
    },
    {
      "cell_type": "markdown",
      "source": [
        "**Entrenamiento ultimo**\n",
        "Del modelo anterior sacamos que el número optimo de épocas a emplear es de 15, pero además tambien obtenemos el mejor learning rate a emplear en cada época, aplicandose de 0.001 en las 13 primeras y de 0.0001 en las 2 siguientes.\n",
        "\n",
        "Conociendo estos datos no nos es necesario emplear un conjunto de validación, por lo que procederemos a emplear todos los datos de entrenamiento para nuestro modelo final."
      ],
      "metadata": {
        "id": "vVU7ZYJ88prv"
      }
    },
    {
      "cell_type": "markdown",
      "source": [
        "Añadimos las imagenes simétricas"
      ],
      "metadata": {
        "id": "cw6cD2ok9HsP"
      }
    },
    {
      "cell_type": "code",
      "source": [
        "augmented_data = []\n",
        "for i in range(50000):\n",
        "  imgRGB = train_images[i]\n",
        "\n",
        "  imgRGB = np.flip(imgRGB, axis=1)\n",
        "\n",
        "  augmented_data.append(imgRGB)"
      ],
      "metadata": {
        "id": "vfmiEvtloI2v"
      },
      "execution_count": null,
      "outputs": []
    },
    {
      "cell_type": "code",
      "source": [
        "train_images = np.concatenate((train_images, np.array(augmented_data)))\n",
        "train_labels = np.concatenate((train_labels, train_labels))\n",
        "train_coarse_labels = np.concatenate((train_coarse_labels, train_coarse_labels))"
      ],
      "metadata": {
        "id": "YoM6xE0foI2w"
      },
      "execution_count": null,
      "outputs": []
    },
    {
      "cell_type": "code",
      "source": [
        "train_images_pure, train_labels_pure, train_coarse_labels = aleatorio(train_images_pure, train_labels_pure, train_coarse_labels_pure)\n"
      ],
      "metadata": {
        "id": "LvNfe6vJffQc"
      },
      "execution_count": null,
      "outputs": []
    },
    {
      "cell_type": "markdown",
      "source": [
        "Entrenamos de nuevo nuestro modelo añadiendo un LearningRateScheduler que determina el learning rate segun la época en la que se este"
      ],
      "metadata": {
        "id": "h3gruFpu9L5L"
      }
    },
    {
      "cell_type": "code",
      "source": [
        "# Assuming x1, x2, x1x2, sin_x1, and sin_x2 are your additional features\n",
        "num_features = 20\n",
        "\n",
        "# Create a separate input layer for the additional features\n",
        "additional_input = Input(shape=(num_features,))\n",
        "\n",
        "# Create the image model\n",
        "model = Sequential()\n",
        "\n",
        "# Convolutional layer 1\n",
        "model.add(Conv2D(128, (3, 3), strides=(1, 1), padding='same', input_shape=(32, 32, 3), activation='elu', kernel_initializer=he_normal()))\n",
        "model.add(BatchNormalization())\n",
        "model.add(Conv2D(128, (3, 3), strides=(1, 1), padding='same', activation='elu'))\n",
        "model.add(BatchNormalization())\n",
        "model.add(MaxPooling2D(pool_size=(2, 2)))\n",
        "model.add(Dropout(0.3))\n",
        "\n",
        "# Convolutional layer 2\n",
        "model.add(Conv2D(256, (3, 3), strides=(1, 1), padding='same', activation='elu'))\n",
        "model.add(BatchNormalization())\n",
        "model.add(Conv2D(256, (3, 3), strides=(1, 1), padding='same', activation='elu'))\n",
        "model.add(BatchNormalization())\n",
        "model.add(MaxPooling2D(pool_size=(2, 2)))\n",
        "model.add(Dropout(0.4))\n",
        "\n",
        "# Convolutional layer 3\n",
        "model.add(Conv2D(512, (3, 3), strides=(1, 1), padding='same', activation='elu'))\n",
        "model.add(BatchNormalization())\n",
        "model.add(Conv2D(512, (3, 3), strides=(1, 1), padding='same', activation='elu'))\n",
        "model.add(BatchNormalization())\n",
        "model.add(MaxPooling2D(pool_size=(2, 2)))\n",
        "model.add(Dropout(0.5))\n",
        "\n",
        "# Flatten layer\n",
        "model.add(Flatten())\n",
        "\n",
        "# Concatenate the flattened image features with the additional features\n",
        "combined_model = Concatenate()([model.output, additional_input])\n",
        "\n",
        "# Fully-connected layer 1\n",
        "combined_model = Dense(1024, activation='elu')(combined_model)\n",
        "combined_model = BatchNormalization()(combined_model)\n",
        "combined_model = Dropout(0.5)(combined_model)\n",
        "\n",
        "# Fully-connected layer 2\n",
        "combined_model = Dense(512, activation='elu')(combined_model)\n",
        "combined_model = BatchNormalization()(combined_model)\n",
        "combined_model = Dropout(0.5)(combined_model)\n",
        "\n",
        "# Output layer with softmax activation for 100 classes in CIFAR-100\n",
        "combined_model = Dense(100, activation='softmax')(combined_model)\n",
        "\n",
        "# Create the combined model\n",
        "final_model = tf.keras.Model(inputs=[model.input, additional_input], outputs=combined_model)\n",
        "\n",
        "# Configure the optimizer with the learning rate\n",
        "optimizer = tf.keras.optimizers.Adam(learning_rate=0.001)\n",
        "\n",
        "# Compile the model\n",
        "final_model.compile(optimizer=optimizer, loss='categorical_crossentropy', metrics=['accuracy'])\n",
        "\n",
        "def lr_schedule(epoch):\n",
        "    if epoch < 13:\n",
        "        return 0.001\n",
        "    else:\n",
        "        return 0.0001\n",
        "\n",
        "# Assuming you have the additional features in a numpy array called additional_features\n",
        "# Make sure to preprocess them appropriately\n",
        "train_additional_features = np.random.random((len(train_images), num_features))\n",
        "test_additional_features = np.random.random((len(test_images), num_features))\n",
        "\n",
        "# Training the model with the callback ReduceLROnPlateau\n",
        "history2 = final_model.fit([train_images, train_additional_features], train_labels, batch_size=64,\n",
        "                            epochs=15,\n",
        "                            callbacks=[LearningRateScheduler(lr_schedule)])"
      ],
      "metadata": {
        "colab": {
          "base_uri": "https://localhost:8080/"
        },
        "outputId": "bff60ec2-977c-4dc8-8d63-78d31c12bd8d",
        "id": "iIrAAEl-0eSJ"
      },
      "execution_count": null,
      "outputs": [
        {
          "output_type": "stream",
          "name": "stdout",
          "text": [
            "Epoch 1/15\n",
            "1563/1563 [==============================] - 92s 56ms/step - loss: 3.5400 - accuracy: 0.1886 - lr: 0.0010\n",
            "Epoch 2/15\n",
            "1563/1563 [==============================] - 87s 56ms/step - loss: 2.3461 - accuracy: 0.3812 - lr: 0.0010\n",
            "Epoch 3/15\n",
            "1563/1563 [==============================] - 86s 55ms/step - loss: 1.9071 - accuracy: 0.4774 - lr: 0.0010\n",
            "Epoch 4/15\n",
            "1563/1563 [==============================] - 86s 55ms/step - loss: 1.6341 - accuracy: 0.5433 - lr: 0.0010\n",
            "Epoch 5/15\n",
            "1563/1563 [==============================] - 87s 56ms/step - loss: 1.4397 - accuracy: 0.5891 - lr: 0.0010\n",
            "Epoch 6/15\n",
            "1563/1563 [==============================] - 87s 55ms/step - loss: 1.2861 - accuracy: 0.6281 - lr: 0.0010\n",
            "Epoch 7/15\n",
            "1563/1563 [==============================] - 88s 56ms/step - loss: 1.1629 - accuracy: 0.6587 - lr: 0.0010\n",
            "Epoch 8/15\n",
            "1563/1563 [==============================] - 88s 56ms/step - loss: 1.0556 - accuracy: 0.6875 - lr: 0.0010\n",
            "Epoch 9/15\n",
            "1563/1563 [==============================] - 87s 56ms/step - loss: 0.9675 - accuracy: 0.7105 - lr: 0.0010\n",
            "Epoch 10/15\n",
            "1563/1563 [==============================] - 88s 56ms/step - loss: 0.8912 - accuracy: 0.7302 - lr: 0.0010\n",
            "Epoch 11/15\n",
            "1563/1563 [==============================] - 86s 55ms/step - loss: 0.8301 - accuracy: 0.7460 - lr: 0.0010\n",
            "Epoch 12/15\n",
            "1563/1563 [==============================] - 87s 56ms/step - loss: 0.7743 - accuracy: 0.7592 - lr: 0.0010\n",
            "Epoch 13/15\n",
            "1563/1563 [==============================] - 87s 55ms/step - loss: 0.7201 - accuracy: 0.7773 - lr: 0.0010\n",
            "Epoch 14/15\n",
            "1563/1563 [==============================] - 86s 55ms/step - loss: 0.5615 - accuracy: 0.8234 - lr: 1.0000e-04\n",
            "Epoch 15/15\n",
            "1563/1563 [==============================] - 86s 55ms/step - loss: 0.5065 - accuracy: 0.8398 - lr: 1.0000e-04\n"
          ]
        }
      ]
    },
    {
      "cell_type": "markdown",
      "source": [
        "Para ver la adecuación del modelo la evaluamos en base a datos que no ha visto nunca, estos son, los datos de test."
      ],
      "metadata": {
        "id": "_KaFajHo0eSJ"
      }
    },
    {
      "cell_type": "code",
      "source": [
        "final_model.evaluate([test_images, test_additional_features], test_labels)"
      ],
      "metadata": {
        "colab": {
          "base_uri": "https://localhost:8080/"
        },
        "outputId": "9180f22d-2441-45f2-c407-5f02e422d098",
        "id": "KCfGlZZ40eSJ"
      },
      "execution_count": null,
      "outputs": [
        {
          "output_type": "stream",
          "name": "stdout",
          "text": [
            "313/313 [==============================] - 3s 9ms/step - loss: 1.1696 - accuracy: 0.6990\n"
          ]
        },
        {
          "output_type": "execute_result",
          "data": {
            "text/plain": [
              "[1.169616460800171, 0.6990000009536743]"
            ]
          },
          "metadata": {},
          "execution_count": 29
        }
      ]
    },
    {
      "cell_type": "markdown",
      "source": [
        "Se ha obtenido un 70% de acierto sobre los datos de test, lo cual significa que nuestro modelo es capaz de acertar bastantes clases."
      ],
      "metadata": {
        "id": "bgz-AKfb9X2i"
      }
    },
    {
      "cell_type": "markdown",
      "source": [
        "Sin embargo, tambien tenemos las superclases, por lo que procederemos a ver cuantas se han acertado mediante los valores asociados a las subclases"
      ],
      "metadata": {
        "id": "dAW3Qo8b0eSJ"
      }
    },
    {
      "cell_type": "code",
      "source": [
        "predicciones = final_model.predict([test_images, test_additional_features])"
      ],
      "metadata": {
        "colab": {
          "base_uri": "https://localhost:8080/"
        },
        "outputId": "340c6fce-5e58-4319-c868-5a975300f6c2",
        "id": "4t7uzIv90eSJ"
      },
      "execution_count": null,
      "outputs": [
        {
          "output_type": "stream",
          "name": "stdout",
          "text": [
            "313/313 [==============================] - 3s 8ms/step\n"
          ]
        }
      ]
    },
    {
      "cell_type": "code",
      "source": [
        "count = 0\n",
        "for i in range(10000):\n",
        "  if valores_asociados[np.argmax(predicciones[i])]==valores_asociados[np.argmax(test_labels[i])]:\n",
        "    count += 1\n",
        "\n",
        "print(count/100)"
      ],
      "metadata": {
        "colab": {
          "base_uri": "https://localhost:8080/"
        },
        "outputId": "d3cc6c66-0be1-44c6-d926-6c79f0705206",
        "id": "JgSl5ZBO0eSJ"
      },
      "execution_count": null,
      "outputs": [
        {
          "output_type": "stream",
          "name": "stdout",
          "text": [
            "80.35\n"
          ]
        }
      ]
    },
    {
      "cell_type": "markdown",
      "source": [
        "Se aciertan un 80% de las superclases, lo cual indica que nuestro modelo es bastante acertado en esta característica"
      ],
      "metadata": {
        "id": "BpopRk8D97AU"
      }
    },
    {
      "cell_type": "markdown",
      "source": [
        "# **Matriz de confusión**\n",
        "\n",
        "Se genera la matriz de confusión cm usando las etiquetas verdaderas y las etiquetas predichas. El objetivo de la matriz es evaluar el rendimiento de un modelo al comparar las predicciones con los los valores reales. Para ello, se muestra el número de instancias de cada clase que han sido clasificadas correctamente o incorrectamente por el modelo.\n",
        "\n",
        "Se configura el tamaño de la figura de la matriz con plt.figure(figsize=(10, 6)). Además, las etiquetas de los ejes x e y representan las clases predichas y verdaderas, respectivamente."
      ],
      "metadata": {
        "id": "Pjb3NYvRtBuv"
      }
    },
    {
      "cell_type": "code",
      "source": [
        "# Assuming 'model' is your trained model and 'test_images', 'test_labels' are your test data\n",
        "predictions = predicciones\n",
        "predicted_labels = np.argmax(predictions, axis=1)  # Convert probabilities to class labels\n",
        "\n",
        "# Convert one-hot encoded labels to class labels\n",
        "true_labels = np.argmax(test_labels, axis=1)\n",
        "\n",
        "# Create confusion matrix\n",
        "cm = confusion_matrix(true_labels, predicted_labels)\n",
        "\n",
        "# Plot confusion matrix\n",
        "plt.figure(figsize=(10, 6))\n",
        "sns.heatmap(cm, cmap=\"Blues\")\n",
        "plt.xlabel('Predicted')\n",
        "plt.ylabel('True')\n",
        "plt.title('Confusion Matrix')\n",
        "plt.show()"
      ],
      "metadata": {
        "colab": {
          "base_uri": "https://localhost:8080/",
          "height": 564
        },
        "outputId": "2dd501b6-9d6f-42d4-af48-0329776a6172",
        "id": "yvKMH3Fq0lNc"
      },
      "execution_count": null,
      "outputs": [
        {
          "output_type": "display_data",
          "data": {
            "text/plain": [
              "<Figure size 1000x600 with 2 Axes>"
            ],
            "image/png": "[encoded data removed]"
          },
          "metadata": {}
        }
      ]
    },
    {
      "cell_type": "markdown",
      "source": [
        "La matríz de confusión nos ayuda a ver que el modelo tiene la capacidad de predecir todas las clases, esto lo sabemos debido a que toda la diagonal, que son los aciertos, esta en un color oscuro, lo cual significa que hay un número contundente de aciertos."
      ],
      "metadata": {
        "id": "E-ZxjcIg-HGB"
      }
    },
    {
      "cell_type": "markdown",
      "source": [
        "# Ejemplos gráficos de las predicciones"
      ],
      "metadata": {
        "id": "87IszOeR0udp"
      }
    },
    {
      "cell_type": "markdown",
      "source": [
        "Creamos las funciones que nos lo representen de manera adecuada"
      ],
      "metadata": {
        "id": "jU-SRWvZ0zKM"
      }
    },
    {
      "cell_type": "code",
      "source": [
        "def plot_image(i, predictions_array, true_label, img):\n",
        "  predictions_array, true_label, img = predictions_array, true_label[i], img[i]\n",
        "  plt.grid(False)\n",
        "  plt.xticks([])\n",
        "  plt.yticks([])\n",
        "\n",
        "  #La función ('inshow') de Matplotlib permite mostrar imagenes, en este caso en\n",
        "  # escala de grises, ya que el mapa de color ('cmap') es ('plt.cm.binary'),\n",
        "  # donde 0 es negro y 1 es blaco, utilizando así que las imagenes están en forma\n",
        "  # de porcentajes.\n",
        "  plt.imshow(img, cmap=plt.cm.binary)\n",
        "\n",
        "  # La función ('argmax') de Numpy, devuelve el indice del valor máximo en el array\n",
        "  # , lo que significa que ('predicted_label') ahora contiene la etiqueta predicha.\n",
        "  predicted_label = np.argmax(predictions_array)\n",
        "  if predicted_label == np.argmax(true_label):\n",
        "    color = 'blue'\n",
        "  else:\n",
        "    color = 'red'\n",
        "\n",
        "  # La siguinte función de Matplotlib establece la etiqueta del eje X de la imagen,\n",
        "  # la etiqueta consta de tres numeros:\n",
        "  # 1 - Mustra la opción de la etiqueta de la imagen predicha por el modelo\n",
        "  # 2 - Muestra en porcentaje de acierto de la imagen\n",
        "  # 3 - Muestra el numero de la etiqueta correcta\n",
        "  plt.xlabel(\"{} {:2.0f}% ({})\".format(predicted_label,\n",
        "                                100*np.max(predictions_array),\n",
        "                                np.argmax(true_label)),\n",
        "                                color=color)\n",
        "\n",
        "def plot_value_array(i, predictions_array, true_label):\n",
        "  predictions_array, true_label = predictions_array, true_label[i]\n",
        "  plt.grid(False)\n",
        "  plt.xticks(range(100))\n",
        "  plt.yticks([])\n",
        "\n",
        "  # La siguiente función de la biblioteca 'matplotlib' crea un gráfico de barras\n",
        "  # con 10 barras (nº de etiquetas), donde las alturas estan dadas por los\n",
        "  # los valores ('predictions_array'), siendo todas de color verde, menos\n",
        "  # el valor de la etiqueta, que en caso de coincidir con el valro de la prediccion\n",
        "  # es negra, y en caso contrario, la barra de la etiqueta sera negra y la\n",
        "  # predicción roja\n",
        "  thisplot = plt.bar(range(100), predictions_array, color=\"#00FF00\")\n",
        "  # Implementaremos 00FF00 en vez de 777777, para poder visualizar mejor los porcentajes\n",
        "  plt.ylim([0, 1])\n",
        "  predicted_label = np.argmax(predictions_array)\n",
        "\n",
        "  thisplot[predicted_label].set_color('red')\n",
        "  thisplot[np.argmax(true_label)].set_color('black')"
      ],
      "metadata": {
        "id": "DfNOzvz5umZf"
      },
      "execution_count": null,
      "outputs": []
    },
    {
      "cell_type": "markdown",
      "source": [
        "Mostramos las diez primeras imagenes y sus predicciones"
      ],
      "metadata": {
        "id": "Qb6y6we-04Pg"
      }
    },
    {
      "cell_type": "code",
      "source": [
        "for j in range(10):\n",
        "  plt.figure(figsize=(6,3))\n",
        "  plt.subplot(1,2,1)\n",
        "  plot_image(j, predicciones[j], test_labels, test_images)\n",
        "  plt.subplot(1,2,2)\n",
        "  plot_value_array(j, predicciones[j],  test_labels)\n",
        "  plt.show()\n",
        "  plt.clf()"
      ],
      "metadata": {
        "colab": {
          "base_uri": "https://localhost:8080/",
          "height": 1000
        },
        "outputId": "6f93f057-aa47-4f75-b92d-fd20a6f73f59",
        "id": "Lh1vipwBW99c"
      },
      "execution_count": null,
      "outputs": [
        {
          "output_type": "display_data",
          "data": {
            "text/plain": [
              "<Figure size 600x300 with 2 Axes>"
            ],
            "image/png": "[encoded data removed]"
          },
          "metadata": {}
        },
        {
          "output_type": "display_data",
          "data": {
            "text/plain": [
              "<Figure size 640x480 with 0 Axes>"
            ]
          },
          "metadata": {}
        },
        {
          "output_type": "display_data",
          "data": {
            "text/plain": [
              "<Figure size 600x300 with 2 Axes>"
            ],
            "image/png": "[encoded data removed]"
          },
          "metadata": {}
        },
        {
          "output_type": "display_data",
          "data": {
            "text/plain": [
              "<Figure size 640x480 with 0 Axes>"
            ]
          },
          "metadata": {}
        },
        {
          "output_type": "display_data",
          "data": {
            "text/plain": [
              "<Figure size 600x300 with 2 Axes>"
            ],
            "image/png": "[encoded data removed]"
          },
          "metadata": {}
        },
        {
          "output_type": "display_data",
          "data": {
            "text/plain": [
              "<Figure size 640x480 with 0 Axes>"
            ]
          },
          "metadata": {}
        },
        {
          "output_type": "display_data",
          "data": {
            "text/plain": [
              "<Figure size 600x300 with 2 Axes>"
            ],
            "image/png": "[encoded data removed]"
          },
          "metadata": {}
        },
        {
          "output_type": "display_data",
          "data": {
            "text/plain": [
              "<Figure size 640x480 with 0 Axes>"
            ]
          },
          "metadata": {}
        },
        {
          "output_type": "display_data",
          "data": {
            "text/plain": [
              "<Figure size 600x300 with 2 Axes>"
            ],
            "image/png": "[encoded data removed]"
          },
          "metadata": {}
        },
        {
          "output_type": "display_data",
          "data": {
            "text/plain": [
              "<Figure size 640x480 with 0 Axes>"
            ]
          },
          "metadata": {}
        },
        {
          "output_type": "display_data",
          "data": {
            "text/plain": [
              "<Figure size 600x300 with 2 Axes>"
            ],
            "image/png": "[encoded data removed]"
          },
          "metadata": {}
        },
        {
          "output_type": "display_data",
          "data": {
            "text/plain": [
              "<Figure size 640x480 with 0 Axes>"
            ]
          },
          "metadata": {}
        },
        {
          "output_type": "display_data",
          "data": {
            "text/plain": [
              "<Figure size 600x300 with 2 Axes>"
            ],
            "image/png": "[encoded data removed]"
          },
          "metadata": {}
        },
        {
          "output_type": "display_data",
          "data": {
            "text/plain": [
              "<Figure size 640x480 with 0 Axes>"
            ]
          },
          "metadata": {}
        },
        {
          "output_type": "display_data",
          "data": {
            "text/plain": [
              "<Figure size 600x300 with 2 Axes>"
            ],
            "image/png": "[encoded data removed]"
          },
          "metadata": {}
        },
        {
          "output_type": "display_data",
          "data": {
            "text/plain": [
              "<Figure size 640x480 with 0 Axes>"
            ]
          },
          "metadata": {}
        },
        {
          "output_type": "display_data",
          "data": {
            "text/plain": [
              "<Figure size 600x300 with 2 Axes>"
            ],
            "image/png": "[encoded data removed]"
          },
          "metadata": {}
        },
        {
          "output_type": "display_data",
          "data": {
            "text/plain": [
              "<Figure size 640x480 with 0 Axes>"
            ]
          },
          "metadata": {}
        },
        {
          "output_type": "display_data",
          "data": {
            "text/plain": [
              "<Figure size 600x300 with 2 Axes>"
            ],
            "image/png": "[encoded data removed]"
          },
          "metadata": {}
        },
        {
          "output_type": "display_data",
          "data": {
            "text/plain": [
              "<Figure size 640x480 with 0 Axes>"
            ]
          },
          "metadata": {}
        }
      ]
    },
    {
      "cell_type": "markdown",
      "source": [
        "# **NÚMERO DE PARÁMETROS**\n",
        "\n",
        "Se ha creado un modelo para el conjunto de datos CIFAR-100, que demuestra una capacidad considerable para aprender y representar patrones complejos en las imágenes. Con tres capas convolucionales, una capa de aplanamiento, una concatenación con 20 características y dos capas densas, el modelo tiene un total de 13,569,252 parámetros entrenables. Esta cantidad de parámetros indica una red neuronal relativamente grande y poderosa que puede capturar características detalladas y relaciones en los datos de entrada.\n",
        "\n",
        "Además, no solo consideramos el crecimiento horizontal, que se refiere al aumento en el número de neuronas en cada capa, sino también el crecimiento vertical de la red. El crecimiento horizontal se relaciona con la complejidad y la capacidad de cada capa para aprender patrones específicos, mientras que el crecimiento vertical se refiere a la profundidad de la red, es decir, el número total de capas.\n",
        "\n",
        "La presencia de tres capas convolucionales seguidas de una capa de aplanamiento y una concatenación con 20 características ilustra el crecimiento vertical del modelo. Estas capas convolucionales permiten la extracción de características espaciales en las imágenes, y la concatenación agrega una dimensión adicional a la representación de los datos.\n",
        "\n",
        "Posteriormente, con dos capas densas, la red realiza operaciones más abstractas y busca correlaciones entre las características aprendidas en las capas anteriores. Este crecimiento vertical contribuye a la capacidad del modelo para entender relaciones complejas y realizar tareas de clasificación en el conjunto de datos CIFAR-100."
      ],
      "metadata": {
        "id": "wRQNT3oQZiFH"
      }
    },
    {
      "cell_type": "code",
      "source": [
        "final_model.summary()"
      ],
      "metadata": {
        "colab": {
          "base_uri": "https://localhost:8080/"
        },
        "id": "Z4DyPWeiZaLn",
        "outputId": "71813544-673b-43ac-e8d8-1bf4419058dd"
      },
      "execution_count": null,
      "outputs": [
        {
          "output_type": "stream",
          "name": "stdout",
          "text": [
            "Model: \"model_1\"\n",
            "__________________________________________________________________________________________________\n",
            " Layer (type)                Output Shape                 Param #   Connected to                  \n",
            "==================================================================================================\n",
            " conv2d_6_input (InputLayer  [(None, 32, 32, 3)]          0         []                            \n",
            " )                                                                                                \n",
            "                                                                                                  \n",
            " conv2d_6 (Conv2D)           (None, 32, 32, 128)          3584      ['conv2d_6_input[0][0]']      \n",
            "                                                                                                  \n",
            " batch_normalization_8 (Bat  (None, 32, 32, 128)          512       ['conv2d_6[0][0]']            \n",
            " chNormalization)                                                                                 \n",
            "                                                                                                  \n",
            " conv2d_7 (Conv2D)           (None, 32, 32, 128)          147584    ['batch_normalization_8[0][0]'\n",
            "                                                                    ]                             \n",
            "                                                                                                  \n",
            " batch_normalization_9 (Bat  (None, 32, 32, 128)          512       ['conv2d_7[0][0]']            \n",
            " chNormalization)                                                                                 \n",
            "                                                                                                  \n",
            " max_pooling2d_3 (MaxPoolin  (None, 16, 16, 128)          0         ['batch_normalization_9[0][0]'\n",
            " g2D)                                                               ]                             \n",
            "                                                                                                  \n",
            " dropout_5 (Dropout)         (None, 16, 16, 128)          0         ['max_pooling2d_3[0][0]']     \n",
            "                                                                                                  \n",
            " conv2d_8 (Conv2D)           (None, 16, 16, 256)          295168    ['dropout_5[0][0]']           \n",
            "                                                                                                  \n",
            " batch_normalization_10 (Ba  (None, 16, 16, 256)          1024      ['conv2d_8[0][0]']            \n",
            " tchNormalization)                                                                                \n",
            "                                                                                                  \n",
            " conv2d_9 (Conv2D)           (None, 16, 16, 256)          590080    ['batch_normalization_10[0][0]\n",
            "                                                                    ']                            \n",
            "                                                                                                  \n",
            " batch_normalization_11 (Ba  (None, 16, 16, 256)          1024      ['conv2d_9[0][0]']            \n",
            " tchNormalization)                                                                                \n",
            "                                                                                                  \n",
            " max_pooling2d_4 (MaxPoolin  (None, 8, 8, 256)            0         ['batch_normalization_11[0][0]\n",
            " g2D)                                                               ']                            \n",
            "                                                                                                  \n",
            " dropout_6 (Dropout)         (None, 8, 8, 256)            0         ['max_pooling2d_4[0][0]']     \n",
            "                                                                                                  \n",
            " conv2d_10 (Conv2D)          (None, 8, 8, 512)            1180160   ['dropout_6[0][0]']           \n",
            "                                                                                                  \n",
            " batch_normalization_12 (Ba  (None, 8, 8, 512)            2048      ['conv2d_10[0][0]']           \n",
            " tchNormalization)                                                                                \n",
            "                                                                                                  \n",
            " conv2d_11 (Conv2D)          (None, 8, 8, 512)            2359808   ['batch_normalization_12[0][0]\n",
            "                                                                    ']                            \n",
            "                                                                                                  \n",
            " batch_normalization_13 (Ba  (None, 8, 8, 512)            2048      ['conv2d_11[0][0]']           \n",
            " tchNormalization)                                                                                \n",
            "                                                                                                  \n",
            " max_pooling2d_5 (MaxPoolin  (None, 4, 4, 512)            0         ['batch_normalization_13[0][0]\n",
            " g2D)                                                               ']                            \n",
            "                                                                                                  \n",
            " dropout_7 (Dropout)         (None, 4, 4, 512)            0         ['max_pooling2d_5[0][0]']     \n",
            "                                                                                                  \n",
            " flatten_1 (Flatten)         (None, 8192)                 0         ['dropout_7[0][0]']           \n",
            "                                                                                                  \n",
            " input_2 (InputLayer)        [(None, 20)]                 0         []                            \n",
            "                                                                                                  \n",
            " concatenate_1 (Concatenate  (None, 8212)                 0         ['flatten_1[0][0]',           \n",
            " )                                                                   'input_2[0][0]']             \n",
            "                                                                                                  \n",
            " dense_3 (Dense)             (None, 1024)                 8410112   ['concatenate_1[0][0]']       \n",
            "                                                                                                  \n",
            " batch_normalization_14 (Ba  (None, 1024)                 4096      ['dense_3[0][0]']             \n",
            " tchNormalization)                                                                                \n",
            "                                                                                                  \n",
            " dropout_8 (Dropout)         (None, 1024)                 0         ['batch_normalization_14[0][0]\n",
            "                                                                    ']                            \n",
            "                                                                                                  \n",
            " dense_4 (Dense)             (None, 512)                  524800    ['dropout_8[0][0]']           \n",
            "                                                                                                  \n",
            " batch_normalization_15 (Ba  (None, 512)                  2048      ['dense_4[0][0]']             \n",
            " tchNormalization)                                                                                \n",
            "                                                                                                  \n",
            " dropout_9 (Dropout)         (None, 512)                  0         ['batch_normalization_15[0][0]\n",
            "                                                                    ']                            \n",
            "                                                                                                  \n",
            " dense_5 (Dense)             (None, 100)                  51300     ['dropout_9[0][0]']           \n",
            "                                                                                                  \n",
            "==================================================================================================\n",
            "Total params: 13575908 (51.79 MB)\n",
            "Trainable params: 13569252 (51.76 MB)\n",
            "Non-trainable params: 6656 (26.00 KB)\n",
            "__________________________________________________________________________________________________\n"
          ]
        }
      ]
    },
    {
      "cell_type": "markdown",
      "source": [
        "\n",
        "**Capas convolucionales:**\n",
        "\n",
        "Los parámetros entrenables incluyen los pesos de los filtros y los sesgos asociados a cada filtro. La cantidad total de parámetros entrenables en una capa convolucional se calcula de la siguiente manera:\n",
        "\n",
        "*Parámetros = (F × F × C + 1) × K*\n",
        "\n",
        "*   K: es el número de filtros\n",
        "*   F × F: es el tamaño del filtro\n",
        "*   C :es el número de canales en la entrada (RGB = 3)\n",
        "* Otros factores que pueden cambiar el número de parámetros son: padding ampliando el tamaño de la imagen original y stride siendo este la velocidad con la que cambia y por la que se dividirian el número de parámetros\n",
        "\n",
        "\n",
        "**Batch_normalization:**\n",
        "\n",
        "La capa de Batch Normalization tiene cuatro parámetros entrenables por cada característica en la capa anterior. La cantidad total de parámetros son:\n",
        "\n",
        "*Parámetros = 4 × C*\n",
        "\n",
        "*   C: número de canales en la entrada.\n",
        "*   Gamma (ganancia): Escala los datos normalizados\n",
        "*   Beta (sesgo): Desplaza los datos normalizados\n",
        "*   Media móvil: Media móvil que se utiliza durante la inferencia para normalizar los datos\n",
        "*   Varianza móvil: Varianza móvil que se utiliza durante la inferencia para normalizar los datos\n",
        "\n",
        "\n",
        "**Capa Densa:**\n",
        "\n",
        " La Capa Densa en nuestro modleo es una capa totalmente conectada (densa), y su fórmula para calcular la cantidad total de parámetros es la siguiente:\n",
        "\n",
        " *Parámetros = ( Número de entradas + 1 ) × Número de neuronas*\n",
        "\n",
        " *  Número de neuronas: es la cantidad de nodos en la capa\n",
        " *  Número de entradas: es la cantidad de nodos en la capa anterior (en este caso, la salida de la capa dropout_18).\n",
        " *  +1: es el sesgo (bias) asociado a cada neurona.\n"
      ],
      "metadata": {
        "id": "pGB1jMIZZ3Qd"
      }
    },
    {
      "cell_type": "markdown",
      "source": [
        "# Parámetros entrenables\n",
        "\n",
        "**Convolutional layer 1**\n",
        "\n",
        "1.   Capa de Entrada: no tiene parámetros entrenables\n",
        "2.   Capa convolucional: (3 × 3 × 3 + 1) × 128 = 3584 parámetros entrenables\n",
        "3.   Bach_normalization: (2 × 128) = 256 parámetros NO entrenables y (2 × 128) = 256 parámetros entrenables\n",
        "4.   Capa convolucional: (3 × 3 × 128 + 1) × 128 = 147584 parámetros entrenables\n",
        "5.   Bach_normalization: (2 × 128) = 256 parámetros NO entrenables y (2 × 128) = 256 parámetros entrenables\n",
        "6.   Max Pooling: no tiene parámetros entrenables. Pero reduce las dimensiones espaciales a la mitad (16 × 16)\n",
        "7.   Dropout: no tiene parámetros entrenables\n",
        "\n",
        "**Convolutional layer 2**\n",
        "\n",
        "8.   Capa convolucional: (3 × 3 × 128 + 1) × 256 = 295.168 parámetros entrenables\n",
        "9.   Bach_normalization: (2 × 256 ) = 512 parámetros NO entrenables y (2 × 256 ) = 512 parámetros entrenables\n",
        "10.   Capa convolucional: (3 × 3 × 256 + 1) × 256 = 590.080 parámetros entrenables\n",
        "11.   Bach_normalization: (2 × 256 ) = 512 parámetros NO entrenables y (2 × 256 ) = 512 parámetros entrenables\n",
        "12.   Max Pooling: no tiene parámetros entrenables\n",
        "13.   Dropout: no tiene parámetros entrenables\n",
        "\n",
        "**Convolutional layer 3**\n",
        "\n",
        "14.   Capa convolucional: (3 × 3 × 256 + 1) × 512 = 1.180.160 parámetros entrenables\n",
        "15.   Bach_normalization: (2 × 512 ) = 1024 parámetros NO entrenables y (2 × 512 ) = 1024 parámetros entrenables\n",
        "16.   Capa convolucional: (3 × 3 × 512 + 1) × 512 = 2.359.808 parámetros entrenables\n",
        "17.   Bach_normalization: (2 × 512 ) = 1024 parámetros NO entrenables y (2 × 512 ) = 1024 parámetros entrenables\n",
        "18.   Max Pooling: no tiene parámetros entrenables\n",
        "19.   Dropout: no tiene parámetros entrenables\n",
        "\n",
        "**Flatten layer**\n",
        "\n",
        "20.   Flatten: no tiene parámetros entrenables\n",
        "\n",
        "**Concatenate the flattened image features with the additional features**\n",
        "\n",
        "21.   Capa de Entrada: no tiene parámetros entrenables\n",
        "22.   Concatenación: no tiene parámetros entrenables\n",
        "\n",
        "**Fully-connected layer 1**\n",
        "\n",
        "23.   Capa Densa: (8192×20 + 1) × 1024  = 8.410.112 parámetros entrenables. Es importante, destacar que hay 20 features y 8192 son los números de entrada, por cada feature.\n",
        "17.   Bach_normalization: (2 × 1024  ) = 2048 parámetros NO entrenables y (2 × 1024  ) = 2048 parámetros entrenables\n",
        "19.   Dropout: no tiene parámetros entrenables\n",
        "\n",
        "**Fully-connected layer 2**\n",
        "\n",
        "23.   Capa Densa: (1024 + 1) × 512  = 524.800 parámetros entrenables.\n",
        "17.   Bach_normalization: (2 × 512 ) = 1024 parámetros NO entrenables y (2 × 512 ) = 1024 parámetros entrenables\n",
        "19.   Dropout: no tiene parámetros entrenables\n",
        "\n",
        "**Output layer**\n",
        "\n",
        "\n",
        "23.   Última capa: (512 + 1) × 100  = 51.300 parámetros entrenables.\n",
        "\n",
        "\n",
        "\n"
      ],
      "metadata": {
        "id": "6f9JnQmtZ7KL"
      }
    },
    {
      "cell_type": "markdown",
      "source": [
        "# Total de parámetros:\n",
        "\n",
        "**Parámetros entrenables**\n",
        "\n",
        "3584 + 256 + 147584 + 256 + 295.168 + 512 + 590.080 + 512 + 1.180.160 + 1024 + 2.359.808 + 1024 + 8.410.112 + 2048 + 524.800 + 1024 + 51.300 = 13569252\n",
        "\n",
        "**Parámetros NO entrenables**\n",
        "\n",
        "256 + 256 + 512 + 512 + 1024 + 1024 + 2048 + 1024 = 6656\n",
        "\n",
        "**Parámetros totales**\n",
        "\n",
        "6656 + 13569252 = 13575908"
      ],
      "metadata": {
        "id": "VocgCmqFaBaK"
      }
    },
    {
      "cell_type": "markdown",
      "source": [
        "# **Conclusión**\n",
        "**Conclusión del modelo:**\n",
        "\n",
        "En esta práctica de redes convolucionales aplicadas sobre el conjunto de datos CIFAR 100, el objetivo era obtener la mayor precisión posible del modelo realizando los cambios necesarios en la estructura de la red y los hiperparámetros (el stride, padding, numero y tipos de capas, función de activación y tasa de droput, entre otros).\n",
        "\n",
        "Antes de la creación del modelo, se han tenido que dividir los datos en los conjuntos de entrenamiento, validación y de prueba. Para ello, se han ido probando distintas combinaciones, de forma que mejore la precisión del modelo. Para ello, se han ido disminuyendo la cantidad de imágenes que se utilizaban para la validación para así añadirlas al conjunto de entrenamiento. Se han ido modificando el tamaño de estos conjuntos de forma que la precisión mejore pero que a la vez sea una cantidad suficientemente representativa, dejando finalmente como la opción más óptima un 80% de las imágenes para entrenamiento y el otro 20% de ellas para validación.\n",
        "\n",
        "También se han normalizado los datos y aleatorizado para aumentar la variabilidad y asegurarnos que no se le pasan al modelo con sesgos. Sin embargo, la clave de esta práctica estaba en la ingeniería de características, pues cuanto mejor y de forma más eficiente se le presenten los datos al modelo, aprenderá más rápido y con mayor precisión. Se han probado muchas transformaciones diferentes, observando como algunas producían mejoras en el modelo como el aumento de datos y otras no.\n",
        "\n",
        "En cuanto a las capas, tras probar diferentes modelos y distintas complejidades, se ha determinado que el más óptimo consiste en tres capas convolucionales y dos capas completamente conectadas. Inicialmente se probó hasta cuatro capas convolucionales pero se determinó que incluir una cuarta no daba buenos resultados. Para las capas completamente conectadas se hizo de manera análoga. También se realizaron pruebas para determinar la dimensión óptima del kernel. Además de todo esto, se probó a añadir la complejidad del modelo con más capas convolucionales de manera paralela, lo cuál mejoraba el modelo cuando había paralelismo entre dos capas.\n",
        "\n",
        "Otra técnica que se emplea para mejorar la precisión es el callback ReduceLROnPlateau, pues permite que la tasa de aprendizaje se vaya cambiando de manera dinámica para que el modelo emplee una tasa de aprendizaje menor si en la época no mejora.\n",
        "\n",
        "Con el primer modelo que se ha creado, se ha podido determinar el mejor valor de la tasa de aprendizaje (0.001 en las 13 primeras y de 0.0001 en las 2 siguientes), así como que el número óptimo de épocas eran 15 al observar las gráficas. Por lo tanto, con dichos valores se crea y entrena el modelo final, sin necesidad de tener el conjunto de datos de validación, pudiendo usarlos dentro del conjunto de entrenamiento.\n",
        "\n",
        "Tras comprobar con lo datos de prueba el modelo entrenado, se obtiene una precisión final del 70% en las clases y un 80% de acierto en las superclases. Además, observando la matriz de confusión se puede confirmar el buen rendimiento del modelo."
      ],
      "metadata": {
        "id": "2cifTfXfV_YU"
      }
    },
    {
      "cell_type": "markdown",
      "source": [
        "**Conclusión de la ingeniería de características:**\n",
        "\n",
        "Durante nuestra práctica, hemos experimentado con diversos kernels, rotaciones, traslaciones y distintas saturaciones, sin embargo, ninguno de estos enfoques ha conducido al éxito deseado, pudiendose ver reflejado en el modleo de entrenamiento. A través de la exploración de diversas imágenes, hemos llegado a comprender la importancia crucial del enfoque y desenfoque, así como la relevancia del número de píxeles, los cuales pueden ser determinantes para mejorar la calidad de los resultados.\n",
        "\n",
        "En nuestro caso, hemos realizado pruebas utilizando dimensiones de imagen de 64x64 y 48x48 en lugar de 32x32. Sin embargo, nos enfrentamos a un desafío significativo en términos de coste computacional. Este coste no estaba asociado únicamente con el redimensionamiento de las imágenes, sino también con la necesidad de modificar por completo nuestro modelo para lograr un aumento en la precisión o una minimización de la pérdida. Conluyendo, en dos grandes desafíos el primero es el ajuste con la memoria RAM y el segundo el timepo de computo que se duplicaba o triplicaba dependiendo del número de neuronas que se le ampliaban.\n",
        "\n",
        "\n",
        "El código que utilizamos fue:\n",
        "\n",
        "```\n",
        "import imgaug.augmenters as iaa\n",
        "import cv2  # Asumiendo que estás trabajando con imágenes usando OpenCV\n",
        "\n",
        "augmentations1 = iaa.Sequential([\n",
        "    # iaa.Crop(px=(0, 16)),  # aumentar\n",
        "    iaa.Fliplr(1),  # espejo *** 100%\n",
        "    # iaa.GaussianBlur(sigma=(0, 3.0)),  # borroso\n",
        "    # iaa.Sharpen(alpha=(0, 0.5), lightness=(0.0, 1.0)), # Te hace bordes\n",
        "    # iaa.Multiply((0.5, 1.5)),  # Te la hace más oscura\n",
        "    # iaa.ContrastNormalization((0, 2.0)), # contraste\n",
        "    # iaa.ElasticTransformation(alpha=(0.5, 3.5), sigma=0.25), # cosas en negro para deformar\n",
        "    iaa.MultiplySaturation((0.5, 1.5)), # efecto sepia o más intenso ***\n",
        "    # iaa.Affine(rotate=(-10, 10)) # rotación\n",
        "], random_order=True)\n",
        "\n",
        "\n",
        "\n",
        "augmented_data = []\n",
        "for i in range(40000):\n",
        "  imgRGB = train_images[i]\n",
        "  augmented_image = augmentations1.augment_image(imgRGB)\n",
        "  augmented_data.append(augmented_image)\n",
        "  ```"
      ],
      "metadata": {
        "id": "54jpch3xfCkf"
      }
    },
    {
      "cell_type": "markdown",
      "source": [
        "# Modelos de prueba"
      ],
      "metadata": {
        "id": "MSeC8xQPssck"
      }
    },
    {
      "cell_type": "markdown",
      "source": [
        "A continuación se expone la evolución que ha sufrido el modelo a lo largo del tiempo."
      ],
      "metadata": {
        "id": "4fXSfsmZ-XPR"
      }
    },
    {
      "cell_type": "markdown",
      "source": [
        "**Modelo base:**\n",
        "\n",
        "En el proceso previo al desarrollo del modelo final, se llevaron a cabo diversas pruebas y evoluciones del modelo base. Este apartado tiene como objetivo destacar los cambios implementados durante esta fase y evaluar la eficacia del modelo en su estado inicial. A lo largo de este análisis, se presentarán las modificaciones realizadas, subrayando su impacto en el rendimiento y resaltando la eficacia del modelo base. Este examen crítico no solo proporcionará una comprensión detallada de la evolución del modelo, sino que también servirá como base para la presentación del modelo final y sus capacidades de mejora."
      ],
      "metadata": {
        "id": "gXwm7xUnth5I"
      }
    },
    {
      "cell_type": "code",
      "execution_count": null,
      "metadata": {
        "id": "GxUyGrSRHu_a",
        "colab": {
          "base_uri": "https://localhost:8080/"
        },
        "outputId": "0b067480-3c6a-49be-c632-94360381a9da"
      },
      "outputs": [
        {
          "output_type": "stream",
          "name": "stdout",
          "text": [
            "Epoch 1/5\n",
            "625/625 [==============================] - 14s 6ms/step - loss: 4.5903 - accuracy: 0.0139 - val_loss: 4.5520 - val_accuracy: 0.0237\n",
            "Epoch 2/5\n",
            "625/625 [==============================] - 4s 6ms/step - loss: 4.3508 - accuracy: 0.0429 - val_loss: 4.1833 - val_accuracy: 0.0748\n",
            "Epoch 3/5\n",
            "625/625 [==============================] - 3s 5ms/step - loss: 4.0681 - accuracy: 0.0814 - val_loss: 3.9777 - val_accuracy: 0.1084\n",
            "Epoch 4/5\n",
            "625/625 [==============================] - 3s 5ms/step - loss: 3.8682 - accuracy: 0.1214 - val_loss: 3.8247 - val_accuracy: 0.1325\n",
            "Epoch 5/5\n",
            "625/625 [==============================] - 3s 5ms/step - loss: 3.7252 - accuracy: 0.1464 - val_loss: 3.7016 - val_accuracy: 0.1537\n"
          ]
        }
      ],
      "source": [
        "model = Sequential()\n",
        "model.add(Conv2D(32, (5, 5), activation='relu', input_shape=(32, 32, 3)))\n",
        "model.add(MaxPooling2D((2, 2)))\n",
        "model.add(Conv2D(64, (5, 5), activation='relu'))\n",
        "model.add(MaxPooling2D((2, 2)))\n",
        "model.add(Flatten())\n",
        "model.add(Dense(100, activation='softmax'))\n",
        "\n",
        "\n",
        "model.compile(optimizer='sgd', loss='categorical_crossentropy', metrics=['accuracy'])\n",
        "\n",
        "\n",
        "history = model.fit(train_images[10000:], train_labels[10000:], batch_size=64,\n",
        "                            epochs=5,\n",
        "                            validation_data=(train_images[:10000], train_labels[:10000]))"
      ]
    },
    {
      "cell_type": "code",
      "source": [
        "evaluacion = model.evaluate(test_images, test_labels)"
      ],
      "metadata": {
        "colab": {
          "base_uri": "https://localhost:8080/"
        },
        "id": "TjIRDYb0AIt1",
        "outputId": "33d6f3d9-465e-4c67-907d-139ec23a9674"
      },
      "execution_count": null,
      "outputs": [
        {
          "output_type": "stream",
          "name": "stdout",
          "text": [
            "313/313 [==============================] - 1s 3ms/step - loss: 3.6864 - accuracy: 0.1551\n"
          ]
        }
      ]
    },
    {
      "cell_type": "markdown",
      "source": [
        "# Modelo Base\n",
        "Observamos que la estructura del modelo es bastante sencilla, compuesta por dos capas de convolución seguidas de capas de pooling y una capa totalmente conectada. A pesar de su simplicidad, la precisión alcanzada en tan solo 5 épocas de entrenamiento es relativamente positiva. Esta primera versión del modelo sirve como una sólida base que muestra su potencial para mejorar con ajustes y refinamientos adicionales.\n",
        "\n",
        "La red neuronal actual ha logrado aprender patrones en los datos de entrenamiento, lo que se refleja en la precisión obtenida. Sin embargo, hay varias estrategias que podrían aplicarse para mejorar aún más el rendimiento del modelo. Algunas sugerencias incluyen:\n",
        "\n",
        "1. **Ajuste de hiperparámetros:** Experimentar con diferentes valores para la tasa de aprendizaje, el tamaño del lote, el número de filtros en las capas convolucionales, y otros hiperparámetros puede conducir a mejoras significativas.\n",
        "\n",
        "2. **Arquitectura del modelo:** Explorar arquitecturas más complejas o agregar capas adicionales podría permitir al modelo capturar patrones más sofisticados y abstracciones en los datos.\n",
        "\n",
        "3. **Más épocas de entrenamiento:** Incrementar el número de épocas podría permitir que el modelo continúe aprendiendo y mejore su desempeño con el tiempo.\n",
        "\n",
        "4. **Aumentar el número de imagenes de entrenamiento:** Para mejorar el rendimiento y la generalización de tu modelo de red neuronal.\n",
        "\n",
        "5. **Exploración de otros optimizadores:** Probar optimizadores diferentes, además del SGD (descenso de gradiente estocástico) utilizado actualmente, podría influir en la velocidad de convergencia y en la calidad de los resultados.\n",
        "\n",
        "# Métrica de validación\n",
        "\n",
        "Por otro lado, es relevante subrayar que la métrica que hemos seleccionado para evaluar nuestro modelo es la precisión (accuracy), y esta elección se basa en tres razones fundamentales. En primer lugar, hemos observado que las clases en nuestro conjunto de datos no presentan un desbalance significativo; es decir, la distribución de instancias entre las diferentes categorías es equitativa.\n",
        "\n",
        "En segundo lugar, los costos asociados a los errores de clasificación en nuestra matriz de confusión son simétricos para todas las clases. Esto implica que no existe una clase particular cuyos errores tengan un impacto más significativo en comparación con las demás, respaldando la idoneidad de la precisión como métrica principal.\n",
        "\n",
        "# Objetivos\n",
        "\n",
        "Además, es importante destacar que nuestro objetivo principal en esta práctica es alcanzar la mejor precisión posible. Considerando que el umbral mínimo a superar es del 0.01, es crucial tener en cuenta que este valor representa la probabilidad de clasificar correctamente una instancia de manera aleatoria. Por lo tanto, la meta es superar este desempeño aleatorio y lograr una precisión sustancialmente mayor en nuestro modelo, lo que garantizará una capacidad predictiva significativa sobre el conjunto de datos.\n",
        "\n",
        "\n",
        "Una vez alcanzado nuestro objetivo inicial de obtener una precisión mínima, hemos asumido retos más ambiciosos en la mejora continua de nuestro modelo. Nos hemos propuesto comprender a fondo el funcionamiento de las capas convolucionales y explorar diversas mejoras, tales como pruning, ReduceLROnPlateau, y la incorporación de técnicas como BatchNormalization.\n",
        "\n",
        "A medida que avanzamos hacia la mejora de la precisión, hemos adoptado un enfoque iterativo, ajustando constantemente los hiperparámetros del modelo para lograr un rendimiento superior. Nuestro siguiente hito es alcanzar una precisión que supere el umbral del 0.4, marcando un avance significativo en la capacidad predictiva de nuestro modelo.\n",
        "\n",
        "Además, nos hemos embarcado en una investigación exhaustiva, explorando papers y literatura especializada para entender las últimas innovaciones y enfoques en el campo de las redes neuronales, especialmente en el contexto de la base de datos desafiante y competitiva de CIFAR-100. Conscientes de que la competición global en torno a este conjunto de datos ha generado una rica literatura, hemos buscado inspiración para implementar mejoras sustanciales en nuestro modelo.\n"
      ],
      "metadata": {
        "id": "am75Aws-alJj"
      }
    },
    {
      "cell_type": "code",
      "source": [
        "# Imprimir las métricas de evaluación (pérdida y precisión, por ejemplo)\n",
        "print(f'Pérdida en datos de prueba: {evaluacion[0]}')\n",
        "print(f'Precisión en datos de prueba: {evaluacion[1]}')\n",
        "\n",
        "# También puedes usar el historial del entrenamiento para visualizar las métricas de entrenamiento y validación a lo largo de las épocas\n",
        "print(history.history.keys())  # Esto te dará las métricas disponibles en el historial\n",
        "\n",
        "# Plotear la pérdida y la precisión durante el entrenamiento y la validación\n",
        "import matplotlib.pyplot as plt\n",
        "\n",
        "plt.plot(history.history['loss'])\n",
        "plt.plot(history.history['val_loss'])\n",
        "plt.title('Pérdida del modelo')\n",
        "plt.ylabel('Pérdida')\n",
        "plt.xlabel('Época')\n",
        "plt.legend(['Entrenamiento', 'Validación'], loc='upper right')\n",
        "plt.show()\n",
        "\n",
        "plt.plot(history.history['accuracy'])\n",
        "plt.plot(history.history['val_accuracy'])\n",
        "plt.title('Precisión del modelo')\n",
        "plt.ylabel('Precisión')\n",
        "plt.xlabel('Época')\n",
        "plt.legend(['Entrenamiento', 'Validación'], loc='lower right')\n",
        "plt.show()\n"
      ],
      "metadata": {
        "colab": {
          "base_uri": "https://localhost:8080/",
          "height": 983
        },
        "id": "GzVZKraaAV27",
        "outputId": "1a4b55da-efe1-4d26-e9bc-fd38638e7bf3"
      },
      "execution_count": null,
      "outputs": [
        {
          "output_type": "stream",
          "name": "stdout",
          "text": [
            "Pérdida en datos de prueba: 3.6864120960235596\n",
            "Precisión en datos de prueba: 0.1551000028848648\n",
            "dict_keys(['loss', 'accuracy', 'val_loss', 'val_accuracy'])\n"
          ]
        },
        {
          "output_type": "display_data",
          "data": {
            "text/plain": [
              "<Figure size 640x480 with 1 Axes>"
            ],
            "image/png": "[encoded data removed]"
          },
          "metadata": {}
        },
        {
          "output_type": "display_data",
          "data": {
            "text/plain": [
              "<Figure size 640x480 with 1 Axes>"
            ],
            "image/png": "[encoded data removed]"
          },
          "metadata": {}
        }
      ]
    },
    {
      "cell_type": "markdown",
      "source": [
        "# Matriz de confusión\n",
        "\n",
        "La matriz de confusión es una herramienta utilizada en el campo de la clasificación para evaluar el rendimiento de un algoritmo. Es especialmente útil cuando se trata de problemas de clasificación multiclase, como el caso de CIFAR-100, que tiene 100 clases diferentes. La matriz organiza las predicciones del modelo en función de las clases reales a las que pertenecen los datos.\n",
        "\n",
        "La diagonal principal representa las predicciones correctas para cada clase, mientras que las entradas fuera de la diagonal principal son los errores de clasificación.\n",
        "\n",
        "Para evaluar la eficacia del modelo, se pueden calcular métricas adicionales a partir de la matriz de confusión, como la precisión, la sensibilidad y la especificidad para cada clase, así como la precisión global del modelo.\n",
        "\n",
        "\n"
      ],
      "metadata": {
        "id": "NIeOSRrTHrEh"
      }
    },
    {
      "cell_type": "code",
      "source": [
        "from sklearn.metrics import confusion_matrix\n",
        "import numpy as np\n",
        "import matplotlib.pyplot as plt\n",
        "import seaborn as sns\n",
        "from tensorflow.keras.models import Sequential\n",
        "from tensorflow.keras.layers import Conv2D, MaxPooling2D, Flatten, Dense\n",
        "from tensorflow.keras.utils import to_categorical\n",
        "\n",
        "# Assuming 'model' is your trained model and 'test_images', 'test_labels' are your test data\n",
        "predictions = model.predict(test_images)\n",
        "predicted_labels = np.argmax(predictions, axis=1)  # Convert probabilities to class labels\n",
        "\n",
        "# Convert one-hot encoded labels to class labels\n",
        "true_labels = np.argmax(test_labels, axis=1)\n",
        "\n",
        "# Create confusion matrix\n",
        "cm = confusion_matrix(true_labels, predicted_labels)\n",
        "\n",
        "# Plot confusion matrix\n",
        "plt.figure(figsize=(10, 6))\n",
        "sns.heatmap(cm, cmap=\"Blues\")\n",
        "plt.xlabel('Predicted')\n",
        "plt.ylabel('True')\n",
        "plt.title('Confusion Matrix')\n",
        "plt.show()\n"
      ],
      "metadata": {
        "colab": {
          "base_uri": "https://localhost:8080/",
          "height": 543
        },
        "id": "USTtPdjoH7K9",
        "outputId": "d251dfd8-3c5f-49ec-9f6c-dce7c965307c"
      },
      "execution_count": null,
      "outputs": [
        {
          "output_type": "stream",
          "name": "stdout",
          "text": [
            "313/313 [==============================] - 1s 2ms/step\n"
          ]
        },
        {
          "output_type": "display_data",
          "data": {
            "text/plain": [
              "<Figure size 1000x600 with 2 Axes>"
            ],
            "image/png": "[encoded data removed]"
          },
          "metadata": {}
        }
      ]
    },
    {
      "cell_type": "markdown",
      "source": [
        "**Mejoras del modelo base**\n",
        "\n",
        "Aunque los resultados obtenidos son superiores a la aleatoriedad (>0.01) no son los mejores posibles por lo que se prueba a añadir capas buscando la mejora.\n"
      ],
      "metadata": {
        "id": "8ixAN9MDtkyM"
      }
    },
    {
      "cell_type": "markdown",
      "source": [
        "```\n",
        "model = Sequential()\n",
        "model.add(Conv2D(32, (5, 5), activation='relu', input_shape=(32, 32, 3)))\n",
        "model.add(MaxPooling2D((2, 2)))\n",
        "model.add(Conv2D(64, (5, 5), activation='relu'))\n",
        "model.add(MaxPooling2D((2, 2)))\n",
        "model.add(Conv2D(128, (5, 5), activation='relu'))\n",
        "model.add(MaxPooling2D((2, 2)))\n",
        "model.add(Flatten())\n",
        "model.add(Dense(100, activation='softmax'))\n",
        "\n",
        "\n",
        "model.compile(optimizer='sgd', loss='categorical_crossentropy', metrics=['accuracy'])\n",
        "\n",
        "\n",
        "history = model.fit(train_images_pure, train_labels_pure, batch_size=64,\n",
        "                            epochs=5,\n",
        "                            validation_data=(validation_images, validation_labels))\n",
        "\n",
        "```"
      ],
      "metadata": {
        "id": "-xNYFoVjtn_5"
      }
    },
    {
      "cell_type": "markdown",
      "source": [
        "Añadir una tercera capa resulta eficiente, pero una cuarta no. Por lo que seleccionamos que el número óptimo de capas convolucionales son 3. Ahora nos queda determinar cual es el mejor valor de paso del kernel para las capas."
      ],
      "metadata": {
        "id": "d2HDSR9O1Ggi"
      }
    },
    {
      "cell_type": "markdown",
      "source": [
        "```\n",
        "model = Sequential()\n",
        "model.add(Conv2D(32, (3, 3), activation='relu', input_shape=(32, 32, 3)))\n",
        "model.add(MaxPooling2D((2, 2)))\n",
        "model.add(Conv2D(64, (3, 3), activation='relu'))\n",
        "model.add(MaxPooling2D((2, 2)))\n",
        "model.add(Conv2D(128, (3, 3), activation='relu'))\n",
        "model.add(MaxPooling2D((3, 3)))\n",
        "model.add(Flatten())\n",
        "model.add(Dense(100, activation='softmax'))\n",
        "\n",
        "\n",
        "model.compile(optimizer='sgd', loss='categorical_crossentropy', metrics=['accuracy'])\n",
        "\n",
        "\n",
        "history = model.fit(train_images_pure, train_labels_pure, batch_size=64,\n",
        "                            epochs=5,\n",
        "                            validation_data=(validation_images, validation_labels))\n",
        "\n",
        "```"
      ],
      "metadata": {
        "id": "jyg8K2Lh1Huj"
      }
    },
    {
      "cell_type": "markdown",
      "source": [
        "3x3 resulta ser la dimensión que mejor aprende. Ahora se prueban con otros optimizadores que no sean sgd, como son adam y rmsprop"
      ],
      "metadata": {
        "id": "RSbdItVV1LX3"
      }
    },
    {
      "cell_type": "markdown",
      "source": [
        "```\n",
        "model = Sequential()\n",
        "model.add(Conv2D(32, (3, 3), activation='relu', input_shape=(32, 32, 3)))\n",
        "model.add(MaxPooling2D((2, 2)))\n",
        "model.add(Conv2D(64, (3, 3), activation='relu'))\n",
        "model.add(MaxPooling2D((2, 2)))\n",
        "model.add(Conv2D(128, (3, 3), activation='relu'))\n",
        "model.add(MaxPooling2D((3, 3)))\n",
        "model.add(Flatten())\n",
        "model.add(Dense(100, activation='softmax'))\n",
        "\n",
        "\n",
        "model.compile(optimizer='Adam', loss='categorical_crossentropy', metrics=['accuracy'])\n",
        "\n",
        "\n",
        "history = model.fit(train_images_pure, train_labels_pure, batch_size=64,\n",
        "                            epochs=5,\n",
        "                            validation_data=(validation_images, validation_labels))\n",
        "\n",
        "```"
      ],
      "metadata": {
        "id": "EtlELt411M_U"
      }
    },
    {
      "cell_type": "markdown",
      "source": [
        "Adam resulta ser el optimizador que mejor funciona. Ahora se prueba a añadir una capa dense mas buscando buscar mayor profundidad. Además, para un mayor analisis de los resultados, ampliamos el numero de épocas.\n"
      ],
      "metadata": {
        "id": "RcvMUWlo1Yvt"
      }
    },
    {
      "cell_type": "markdown",
      "source": [
        "```\n",
        "model = Sequential()\n",
        "model.add(Conv2D(32, (3, 3), activation='relu', input_shape=(32, 32, 3)))\n",
        "model.add(MaxPooling2D((2, 2)))\n",
        "model.add(Conv2D(64, (3, 3), activation='relu'))\n",
        "model.add(MaxPooling2D((2, 2)))\n",
        "model.add(Conv2D(128, (3, 3), activation='relu'))\n",
        "model.add(MaxPooling2D((3, 3)))\n",
        "model.add(Flatten())\n",
        "model.add(Dense(128, activation='relu'))\n",
        "model.add(Dense(100, activation='softmax'))\n",
        "\n",
        "\n",
        "model.compile(optimizer='Adam', loss='categorical_crossentropy', metrics=['accuracy'])\n",
        "\n",
        "\n",
        "history = model.fit(train_images_pure, train_labels_pure, batch_size=64,\n",
        "                            epochs=15,\n",
        "                            validation_data=(validation_images, validation_labels))\n",
        "\n",
        "```"
      ],
      "metadata": {
        "id": "st6pEb9Z1ali"
      }
    },
    {
      "cell_type": "markdown",
      "source": [
        "Añadir una capa dense extra resulta mejorar el modelo, por lo que se prueba a añadir aun mas capas de este tipo. Determinamos que el número optimo de estas capas anterior a la capa de salida es de 2."
      ],
      "metadata": {
        "id": "HU7YB5BQ1g-t"
      }
    },
    {
      "cell_type": "markdown",
      "source": [
        "```\n",
        "model = Sequential()\n",
        "model.add(Conv2D(32, (3, 3), activation='relu', input_shape=(32, 32, 3)))\n",
        "model.add(MaxPooling2D((2, 2)))\n",
        "model.add(Conv2D(64, (3, 3), activation='relu'))\n",
        "model.add(MaxPooling2D((2, 2)))\n",
        "model.add(Conv2D(128, (3, 3), activation='relu'))\n",
        "model.add(MaxPooling2D((3, 3)))\n",
        "model.add(Flatten())\n",
        "model.add(Dense(256, activation='relu'))\n",
        "model.add(Dense(128, activation='relu'))\n",
        "model.add(Dense(100, activation='softmax'))\n",
        "\n",
        "\n",
        "model.compile(optimizer='Adam', loss='categorical_crossentropy', metrics=['accuracy'])\n",
        "\n",
        "\n",
        "history = model.fit(train_images_pure, train_labels_pure, batch_size=64,\n",
        "                            epochs=15,\n",
        "                            validation_data=(validation_images, validation_labels))\n",
        "```"
      ],
      "metadata": {
        "id": "0g6NEgf61jM5"
      }
    },
    {
      "cell_type": "markdown",
      "source": [
        "Ahora buscamos crear un modelo aun mas complejo para ver si su funcionamiento es mejor. Para ello empezaremos añadiendo mas capas convolucionales, pero esta vez de manera paralela. El crecimiento del validation accuracy se amplia de nuevo, por lo que requerimos mas épocas para el análisis.\n"
      ],
      "metadata": {
        "id": "7Ou9g4mo1lPR"
      }
    },
    {
      "cell_type": "markdown",
      "source": [
        "```\n",
        "model = Sequential()\n",
        "model.add(Conv2D(32, (3, 3), activation='relu', input_shape=(32, 32, 3)))\n",
        "model.add(Conv2D(32, (3, 3), activation='relu'))\n",
        "model.add(MaxPooling2D((2, 2)))\n",
        "model.add(Conv2D(64, (3, 3), activation='relu'))\n",
        "model.add(Conv2D(64, (3, 3), activation='relu'))\n",
        "model.add(MaxPooling2D((2, 2)))\n",
        "model.add(Conv2D(128, (3, 3), activation='relu'))\n",
        "model.add(Conv2D(128, (3, 3), activation='relu'))\n",
        "model.add(MaxPooling2D((3, 3)))\n",
        "model.add(Flatten())\n",
        "model.add(Dense(256, activation='relu'))\n",
        "model.add(Dense(128, activation='relu'))\n",
        "model.add(Dense(100, activation='softmax'))\n",
        "\n",
        "\n",
        "model.compile(optimizer='Adam', loss='categorical_crossentropy', metrics=['accuracy'])\n",
        "\n",
        "\n",
        "history = model.fit(train_images_pure, train_labels_pure, batch_size=64,\n",
        "                            epochs=50,\n",
        "                            validation_data=(validation_images, validation_labels))\n",
        "```"
      ],
      "metadata": {
        "id": "yCHI_d9x1n5w"
      }
    },
    {
      "cell_type": "markdown",
      "source": [
        "Al añadir el paralelismo el modelo funciona de manera contundente, ante la mejora se prueba a añadir aun mas paralelismos pero el modelo no mejora, por lo que se emplea solamente paralelismo entre dos capas.\n",
        "\n",
        "La siguiente prueba a realizar para hacer mas complejo el modelo es evitar el sobreentrenamiento, para ello se prueba a aplicar l1, l2, l1_l2 y dropout.\n"
      ],
      "metadata": {
        "id": "AyRuZH_J14i-"
      }
    },
    {
      "cell_type": "markdown",
      "source": [
        "```\n",
        "model = Sequential()\n",
        "model.add(Conv2D(32, (3, 3), activation='relu', input_shape=(32, 32, 3)))\n",
        "model.add(Conv2D(32, (3, 3), activation='relu'))\n",
        "model.add(MaxPooling2D((2, 2)))\n",
        "model.add(Dropout(0.3))\n",
        "model.add(Conv2D(64, (3, 3), activation='relu'))\n",
        "model.add(Conv2D(64, (3, 3), activation='relu'))\n",
        "model.add(MaxPooling2D((2, 2)))\n",
        "model.add(Dropout(0.4))\n",
        "model.add(Conv2D(128, (3, 3), activation='relu'))\n",
        "model.add(Conv2D(128, (3, 3), activation='relu'))\n",
        "model.add(MaxPooling2D((3, 3)))\n",
        "model.add(Dropout(0.5))\n",
        "model.add(Flatten())\n",
        "model.add(Dense(256, activation='relu'))\n",
        "model.add(Dropout(0.5))\n",
        "model.add(Dense(128, activation='relu'))\n",
        "model.add(Dropout(0.5))\n",
        "model.add(Dense(100, activation='softmax'))\n",
        "\n",
        "\n",
        "model.compile(optimizer='Adam', loss='categorical_crossentropy', metrics=['accuracy'])\n",
        "\n",
        "\n",
        "history = model.fit(train_images_pure, train_labels_pure, batch_size=64,\n",
        "                            epochs=50,\n",
        "                            validation_data=(validation_images, validation_labels))\n",
        "```"
      ],
      "metadata": {
        "id": "6_WsrBaX15L4"
      }
    },
    {
      "cell_type": "markdown",
      "source": [
        "El dropout resulta ser el que mejor funciona y ademas mejora el modelo por lo que se emplea. Ahora se busca realizar una normalización de los datos despues de las capas, para ello se prueban la BatchNormalization, LayerNormalization, UnitNormalization y GroupNormalization.\n"
      ],
      "metadata": {
        "id": "ctpj5Fu818n_"
      }
    },
    {
      "cell_type": "markdown",
      "source": [
        "```\n",
        "model = Sequential()\n",
        "model.add(Conv2D(32, (3, 3), activation='relu', input_shape=(32, 32, 3)))\n",
        "model.add(BatchNormalization())\n",
        "model.add(Conv2D(32, (3, 3), activation='relu'))\n",
        "model.add(BatchNormalization())\n",
        "model.add(MaxPooling2D((2, 2)))\n",
        "model.add(Dropout(0.3))\n",
        "model.add(Conv2D(64, (3, 3), activation='relu'))\n",
        "model.add(BatchNormalization())\n",
        "model.add(Conv2D(64, (3, 3), activation='relu'))\n",
        "model.add(BatchNormalization())\n",
        "model.add(MaxPooling2D((2, 2)))\n",
        "model.add(Dropout(0.4))\n",
        "model.add(Conv2D(128, (3, 3), activation='relu'))\n",
        "model.add(BatchNormalization())\n",
        "model.add(Conv2D(128, (3, 3), activation='relu'))\n",
        "model.add(BatchNormalization())\n",
        "model.add(MaxPooling2D((3, 3)))\n",
        "model.add(Dropout(0.5))\n",
        "model.add(Flatten())\n",
        "model.add(Dense(256, activation='relu'))\n",
        "model.add(BatchNormalization())\n",
        "model.add(Dropout(0.5))\n",
        "model.add(Dense(128, activation='relu'))\n",
        "model.add(BatchNormalization())\n",
        "model.add(Dropout(0.5))\n",
        "model.add(Dense(100, activation='softmax'))\n",
        "\n",
        "\n",
        "model.compile(optimizer='Adam', loss='categorical_crossentropy', metrics=['accuracy'])\n",
        "\n",
        "\n",
        "history = model.fit(train_images_pure, train_labels_pure, batch_size=64,\n",
        "                            epochs=50,\n",
        "                            validation_data=(validation_images, validation_labels))\n",
        "```"
      ],
      "metadata": {
        "id": "7mbBwjE11-Jw"
      }
    },
    {
      "cell_type": "markdown",
      "source": [
        "BatchNormalization resulta ser el que mejor funciona.\n",
        "\n",
        "Una vez habiendo realizado un aumento de la complejidad del modelo que conlleve una mejora significativa probamos a modificar los hiperparametros, para ello modificaremos el learning rate haciendolo reducir su valor segun la conveniencia de la época."
      ],
      "metadata": {
        "id": "gcLnK_2t2BG_"
      }
    },
    {
      "cell_type": "markdown",
      "source": [
        "```\n",
        "model = Sequential()\n",
        "model.add(Conv2D(32, (3, 3), activation='relu', input_shape=(32, 32, 3)))\n",
        "model.add(BatchNormalization())\n",
        "model.add(Conv2D(32, (3, 3), activation='relu'))\n",
        "model.add(BatchNormalization())\n",
        "model.add(MaxPooling2D((2, 2)))\n",
        "model.add(Dropout(0.3))\n",
        "model.add(Conv2D(64, (3, 3), activation='relu'))\n",
        "model.add(BatchNormalization())\n",
        "model.add(Conv2D(64, (3, 3), activation='relu'))\n",
        "model.add(BatchNormalization())\n",
        "model.add(MaxPooling2D((2, 2)))\n",
        "model.add(Dropout(0.4))\n",
        "model.add(Conv2D(128, (3, 3), activation='relu'))\n",
        "model.add(BatchNormalization())\n",
        "model.add(Conv2D(128, (3, 3), activation='relu'))\n",
        "model.add(BatchNormalization())\n",
        "model.add(MaxPooling2D((3, 3)))\n",
        "model.add(Dropout(0.5))\n",
        "model.add(Flatten())\n",
        "model.add(Dense(256, activation='relu'))\n",
        "model.add(BatchNormalization())\n",
        "model.add(Dropout(0.5))\n",
        "model.add(Dense(128, activation='relu'))\n",
        "model.add(BatchNormalization())\n",
        "model.add(Dropout(0.5))\n",
        "model.add(Dense(100, activation='softmax'))\n",
        "\n",
        "\n",
        "optimizer = tf.keras.optimizers.Adam(learning_rate=0.001)\n",
        "model.compile(optimizer=optimizer, loss='categorical_crossentropy', metrics=['accuracy'])\n",
        "reduce_lr = ReduceLROnPlateau(monitor='val_accuracy',\n",
        "                              factor=0.2,\n",
        "                              patience=2,\n",
        "                              min_lr=1e-5)\n",
        "\n",
        "\n",
        "history = model.fit(train_images_pure, train_labels_pure, batch_size=64,\n",
        "                            epochs=50,\n",
        "                            validation_data=(validation_images, validation_labels),\n",
        "                            callbacks=[reduce_lr])\n",
        "```"
      ],
      "metadata": {
        "id": "tNFNSRcV2CiQ"
      }
    },
    {
      "cell_type": "markdown",
      "source": [
        "Tras numerosas pruebas se determina que el learning rate de inicio debe ser de 0.001, con un descenso al 20% cada vez que las epocas empeoren 2 veces seguidas.\n",
        "\n",
        "Ahora trabajaremos con los inputs que tenemos. Para ello aplicaremos features(caracteristicas) sobre las imagenes.\n"
      ],
      "metadata": {
        "id": "1y2kyBfC2F2U"
      }
    },
    {
      "cell_type": "markdown",
      "source": [
        "```\n",
        "num_features = 20\n",
        "\n",
        "\n",
        "# Create a separate input layer for the additional features\n",
        "additional_input = Input(shape=(num_features,))\n",
        "\n",
        "\n",
        "# Create the image model\n",
        "model = Sequential()\n",
        "\n",
        "\n",
        "# Convolutional layer 1\n",
        "model.add(Conv2D(128, (3, 3), strides=(1, 1), padding='same', input_shape=(32, 32, 3), activation='elu'))\n",
        "model.add(BatchNormalization())\n",
        "model.add(Conv2D(128, (3, 3), strides=(1, 1), padding='same', activation='elu'))\n",
        "model.add(BatchNormalization())\n",
        "model.add(MaxPooling2D(pool_size=(2, 2)))\n",
        "model.add(Dropout(0.3))\n",
        "\n",
        "\n",
        "# Convolutional layer 2\n",
        "model.add(Conv2D(256, (3, 3), strides=(1, 1), padding='same', activation='elu'))\n",
        "model.add(BatchNormalization())\n",
        "model.add(Conv2D(256, (3, 3), strides=(1, 1), padding='same', activation='elu'))\n",
        "model.add(BatchNormalization())\n",
        "model.add(MaxPooling2D(pool_size=(2, 2)))\n",
        "model.add(Dropout(0.4))\n",
        "\n",
        "\n",
        "# Convolutional layer 3\n",
        "model.add(Conv2D(512, (3, 3), strides=(1, 1), padding='same', activation='elu'))\n",
        "model.add(BatchNormalization())\n",
        "model.add(Conv2D(512, (3, 3), strides=(1, 1), padding='same', activation='elu'))\n",
        "model.add(BatchNormalization())\n",
        "model.add(MaxPooling2D(pool_size=(2, 2)))\n",
        "model.add(Dropout(0.5))\n",
        "\n",
        "\n",
        "# Flatten layer\n",
        "model.add(Flatten())\n",
        "\n",
        "\n",
        "# Concatenate the flattened image features with the additional features\n",
        "combined_model = Concatenate()([model.output, additional_input])\n",
        "\n",
        "\n",
        "# Fully-connected layer 1\n",
        "combined_model = Dense(1024, activation='elu')(combined_model)\n",
        "combined_model = BatchNormalization()(combined_model)\n",
        "combined_model = Dropout(0.5)(combined_model)\n",
        "\n",
        "\n",
        "# Fully-connected layer 2\n",
        "combined_model = Dense(512, activation='elu')(combined_model)\n",
        "combined_model = BatchNormalization()(combined_model)\n",
        "combined_model = Dropout(0.5)(combined_model)\n",
        "\n",
        "\n",
        "# Output layer with softmax activation for 100 classes in CIFAR-100\n",
        "combined_model = Dense(100, activation='softmax')(combined_model)\n",
        "\n",
        "\n",
        "# Create the combined model\n",
        "final_model = tf.keras.Model(inputs=[model.input, additional_input], outputs=combined_model)\n",
        "\n",
        "\n",
        "# Configure the optimizer with the learning rate\n",
        "optimizer = tf.keras.optimizers.Adam(learning_rate=0.001)\n",
        "\n",
        "\n",
        "# Compile the model\n",
        "final_model.compile(optimizer=optimizer, loss='categorical_crossentropy', metrics=['accuracy'])\n",
        "\n",
        "\n",
        "# Configure the ReduceLROnPlateau callback\n",
        "reduce_lr = ReduceLROnPlateau(monitor='val_accuracy',\n",
        "                              factor=0.2,\n",
        "                              patience=2,\n",
        "                              min_lr=1e-5)\n",
        "\n",
        "\n",
        "# Assuming you have the additional features in a numpy array called additional_features\n",
        "# Make sure to preprocess them appropriately\n",
        "train_additional_features = np.random.random((len(train_images), num_features))\n",
        "test_additional_features = np.random.random((len(test_images), num_features))\n",
        "\n",
        "\n",
        "# Training the model with the callback ReduceLROnPlateau\n",
        "history2 = final_model.fit([train_images, train_additional_features], train_labels, batch_size=64,\n",
        "                            epochs=50,\n",
        "                            validation_data=([test_images, test_additional_features], test_labels),\n",
        "                            callbacks=[reduce_lr])\n",
        "```"
      ],
      "metadata": {
        "id": "cJtJgr0n2Hig"
      }
    },
    {
      "cell_type": "markdown",
      "source": [
        "Tras numerosas pruebas determinamos que el numero optimo de features es de 20. Esto nos da la oportunidad de ir mucho mas rápido durante las primeras épocas."
      ],
      "metadata": {
        "id": "tsHcmC70dLSH"
      }
    },
    {
      "cell_type": "markdown",
      "source": [
        "Se añade otro modificador de learning rate centrado en la perdida de la validación"
      ],
      "metadata": {
        "id": "UI3qLDDT-jzI"
      }
    },
    {
      "cell_type": "markdown",
      "source": [
        "# Trabajo en equipo"
      ],
      "metadata": {
        "id": "wjKQ3UVHhyD-"
      }
    },
    {
      "cell_type": "markdown",
      "source": [
        "La división del trabajo fue bastante equitativa y se pudo concentrar en diferentes campos. En un inicio fueron **Sandra** y **Natalia** quienes cargaron la base de datos desde la web, y fue **Ángel** quien le realizó las transformaciones de dimensiones para su correcta representación.\n",
        "\n",
        "\n",
        "Durante la búsqueda de un modelo adecuado todos estuvimos buscando a través de diferentes fuentes de internet, sonsacando y uniendo la información que sacamos entre todos. De la misma manera se trabajó buscando una **buena representación de los datos** de entrada o mediante **data augmentation**, aunque al final estas técnicas no llegaron a ser empleadas más allá de los **features**.\n",
        "\n",
        "\n",
        "Durante los últimos días el desarrollo del modelo ya estaba prácticamente completo y aunque se continuaban realizando investigaciones para una posible mejora nos centramos más en una correcta presentación del documento. Para ello **Natalia** se centró de manera principal en la **descripción teórica y técnica** de los pasos que íbamos realizando y el porqué. **Sandra** se encargó de los **parámetros**, la descripción del **modelo base**, y de **aspectos técnicos** del modelo final. **Ángel** se encargó principalmente del **desarrollo del modelo**, la **adecuación de los datos** y **análisis** de los resultados obtenidos.\n"
      ],
      "metadata": {
        "id": "-GOzol4oh0Zi"
      }
    }
  ]
}