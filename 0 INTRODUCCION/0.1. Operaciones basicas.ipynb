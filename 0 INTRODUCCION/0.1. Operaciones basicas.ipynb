{
  "cells": [
    {
      "cell_type": "markdown",
      "metadata": {
        "id": "view-in-github",
        "colab_type": "text"
      },
      "source": [
        "<a href=\"https://colab.research.google.com/github/Maxindrull2/APRENDIZAJE_AUTOMATICO_23_24/blob/main/0%20INTRODUCCION/0.1.%20Operaciones%20basicas.ipynb\" target=\"_parent\"><img src=\"https://colab.research.google.com/assets/colab-badge.svg\" alt=\"Open In Colab\"/></a>"
      ]
    },
    {
      "cell_type": "markdown",
      "metadata": {
        "pycharm": {
          "name": "#%% md\n"
        },
        "id": "RYnPba-KPqZC"
      },
      "source": [
        "# Titulo"
      ]
    },
    {
      "cell_type": "markdown",
      "metadata": {
        "pycharm": {
          "name": "#%% md\n"
        },
        "id": "LBw8jC75PqZD"
      },
      "source": [
        "## subtitulo"
      ]
    },
    {
      "cell_type": "markdown",
      "metadata": {
        "pycharm": {
          "name": "#%% md\n"
        },
        "id": "aHnLwZuuPqZD"
      },
      "source": [
        "Texto normal"
      ]
    },
    {
      "cell_type": "markdown",
      "metadata": {
        "pycharm": {
          "name": "#%% md\n"
        },
        "id": "B_HSvwuqPqZD"
      },
      "source": [
        "<b>negrita</b>"
      ]
    },
    {
      "cell_type": "markdown",
      "metadata": {
        "pycharm": {
          "name": "#%% md\n"
        },
        "id": "7B9X3SPxPqZD"
      },
      "source": [
        "<big><big>grande</big></big> normal"
      ]
    },
    {
      "cell_type": "markdown",
      "metadata": {
        "pycharm": {
          "name": "#%% md\n"
        },
        "id": "SHa2iajrPqZD"
      },
      "source": [
        "<i>cursiva</i>"
      ]
    },
    {
      "cell_type": "markdown",
      "metadata": {
        "pycharm": {
          "name": "#%% md\n"
        },
        "id": "Anz7YLU_PqZD"
      },
      "source": [
        "<u>subrayado</u>"
      ]
    },
    {
      "cell_type": "markdown",
      "metadata": {
        "pycharm": {
          "name": "#%% md\n"
        },
        "id": "ot0xK0XgPqZD"
      },
      "source": [
        "<font color='red'>rojo</font>"
      ]
    },
    {
      "cell_type": "markdown",
      "metadata": {
        "pycharm": {
          "name": "#%% md\n"
        },
        "id": "5j9cTCK8PqZD"
      },
      "source": [
        "<a href='http://www.ceiec.es/'>CEIEC</a>"
      ]
    },
    {
      "cell_type": "markdown",
      "metadata": {
        "pycharm": {
          "name": "#%% md\n"
        },
        "id": "dUcHK22hPqZD"
      },
      "source": [
        "<img src = \"http://www.ceiec.es/wp-content/uploads/2018/07/Logo_CEIEC_Apaisado_RGB.jpg\">"
      ]
    },
    {
      "cell_type": "code",
      "execution_count": 148,
      "metadata": {
        "pycharm": {
          "name": "#%%\n"
        },
        "id": "GlDcGiFGPqZD"
      },
      "outputs": [],
      "source": [
        "#Comentario una linea."
      ]
    },
    {
      "cell_type": "code",
      "execution_count": 149,
      "metadata": {
        "pycharm": {
          "name": "#%%\n"
        },
        "id": "WZZ579lPPqZE",
        "outputId": "3877d0f9-ffa1-4530-c64a-1763abf8f1fd",
        "colab": {
          "base_uri": "https://localhost:8080/"
        }
      },
      "outputs": [
        {
          "output_type": "execute_result",
          "data": {
            "text/plain": [
              "2"
            ]
          },
          "metadata": {},
          "execution_count": 149
        }
      ],
      "source": [
        "2"
      ]
    },
    {
      "cell_type": "code",
      "execution_count": 150,
      "metadata": {
        "pycharm": {
          "name": "#%%\n"
        },
        "id": "mErmKawYPqZE",
        "outputId": "0bb5633a-cd9b-4068-9a80-da9a6501d139",
        "colab": {
          "base_uri": "https://localhost:8080/"
        }
      },
      "outputs": [
        {
          "output_type": "execute_result",
          "data": {
            "text/plain": [
              "5"
            ]
          },
          "metadata": {},
          "execution_count": 150
        }
      ],
      "source": [
        "2+3"
      ]
    },
    {
      "cell_type": "code",
      "execution_count": 151,
      "metadata": {
        "pycharm": {
          "name": "#%%\n"
        },
        "id": "5VdT3No5PqZE"
      },
      "outputs": [],
      "source": [
        "x=2\n",
        "y=3"
      ]
    },
    {
      "cell_type": "code",
      "execution_count": 152,
      "metadata": {
        "pycharm": {
          "name": "#%%\n"
        },
        "id": "I71OEE_PPqZE",
        "outputId": "fc3b2147-7b9a-41ef-99ac-22cdf87da3b4",
        "colab": {
          "base_uri": "https://localhost:8080/"
        }
      },
      "outputs": [
        {
          "output_type": "execute_result",
          "data": {
            "text/plain": [
              "5"
            ]
          },
          "metadata": {},
          "execution_count": 152
        }
      ],
      "source": [
        "x+y"
      ]
    },
    {
      "cell_type": "code",
      "execution_count": 153,
      "metadata": {
        "pycharm": {
          "name": "#%%\n"
        },
        "id": "jRgcjhnvPqZE"
      },
      "outputs": [],
      "source": [
        "z=x+y"
      ]
    },
    {
      "cell_type": "code",
      "execution_count": 154,
      "metadata": {
        "pycharm": {
          "name": "#%%\n"
        },
        "id": "gsTu8eCJPqZE",
        "outputId": "0330075c-a060-45a3-efaf-44e0d36f29b6",
        "colab": {
          "base_uri": "https://localhost:8080/"
        }
      },
      "outputs": [
        {
          "output_type": "execute_result",
          "data": {
            "text/plain": [
              "5"
            ]
          },
          "metadata": {},
          "execution_count": 154
        }
      ],
      "source": [
        "z"
      ]
    },
    {
      "cell_type": "code",
      "execution_count": 155,
      "metadata": {
        "pycharm": {
          "name": "#%%\n"
        },
        "id": "MkdEj9IhPqZE",
        "outputId": "af0381ad-af8d-4670-9b25-e249fe5b28df",
        "colab": {
          "base_uri": "https://localhost:8080/"
        }
      },
      "outputs": [
        {
          "output_type": "execute_result",
          "data": {
            "text/plain": [
              "5.5"
            ]
          },
          "metadata": {},
          "execution_count": 155
        }
      ],
      "source": [
        "x=2.3\n",
        "y=3.2\n",
        "x+y"
      ]
    },
    {
      "cell_type": "code",
      "execution_count": 156,
      "metadata": {
        "pycharm": {
          "name": "#%%\n"
        },
        "id": "CQ5S4hr5PqZE",
        "outputId": "e06fdf0a-ea44-42dd-bb51-5d319f810d6e",
        "colab": {
          "base_uri": "https://localhost:8080/"
        }
      },
      "outputs": [
        {
          "output_type": "execute_result",
          "data": {
            "text/plain": [
              "3"
            ]
          },
          "metadata": {},
          "execution_count": 156
        }
      ],
      "source": [
        "x=5\n",
        "y=2\n",
        "\n",
        "x-y"
      ]
    },
    {
      "cell_type": "code",
      "execution_count": 157,
      "metadata": {
        "pycharm": {
          "name": "#%%\n"
        },
        "id": "ekhzb2fGPqZE",
        "outputId": "bd51ba1c-3d54-40f7-9d61-1bb58da1205a",
        "colab": {
          "base_uri": "https://localhost:8080/"
        }
      },
      "outputs": [
        {
          "output_type": "execute_result",
          "data": {
            "text/plain": [
              "10"
            ]
          },
          "metadata": {},
          "execution_count": 157
        }
      ],
      "source": [
        "x*y"
      ]
    },
    {
      "cell_type": "code",
      "execution_count": 158,
      "metadata": {
        "pycharm": {
          "name": "#%%\n"
        },
        "id": "z0EI7xHPPqZE",
        "outputId": "7f8aa3d8-7934-46e2-d215-7b633d86d10e",
        "colab": {
          "base_uri": "https://localhost:8080/"
        }
      },
      "outputs": [
        {
          "output_type": "execute_result",
          "data": {
            "text/plain": [
              "2.5"
            ]
          },
          "metadata": {},
          "execution_count": 158
        }
      ],
      "source": [
        "x/y"
      ]
    },
    {
      "cell_type": "code",
      "execution_count": 159,
      "metadata": {
        "pycharm": {
          "name": "#%%\n"
        },
        "id": "vnktfMzpPqZE",
        "outputId": "c24f9eb5-d39f-4d2c-dc7f-64b15eb59a89",
        "colab": {
          "base_uri": "https://localhost:8080/"
        }
      },
      "outputs": [
        {
          "output_type": "execute_result",
          "data": {
            "text/plain": [
              "2.5"
            ]
          },
          "metadata": {},
          "execution_count": 159
        }
      ],
      "source": [
        "x=5.0\n",
        "y=2.0\n",
        "x/y"
      ]
    },
    {
      "cell_type": "code",
      "execution_count": 160,
      "metadata": {
        "pycharm": {
          "name": "#%%\n"
        },
        "id": "cruL063ZPqZF",
        "outputId": "0ed73269-98d3-413d-cc54-4552337bd440",
        "colab": {
          "base_uri": "https://localhost:8080/"
        }
      },
      "outputs": [
        {
          "output_type": "execute_result",
          "data": {
            "text/plain": [
              "2.0"
            ]
          },
          "metadata": {},
          "execution_count": 160
        }
      ],
      "source": [
        "x//y"
      ]
    },
    {
      "cell_type": "code",
      "execution_count": 161,
      "metadata": {
        "pycharm": {
          "name": "#%%\n"
        },
        "id": "4sdP1NOLPqZF",
        "outputId": "a6cfcdf6-b2f7-4191-b026-a128a1f1b7d8",
        "colab": {
          "base_uri": "https://localhost:8080/"
        }
      },
      "outputs": [
        {
          "output_type": "execute_result",
          "data": {
            "text/plain": [
              "1.0"
            ]
          },
          "metadata": {},
          "execution_count": 161
        }
      ],
      "source": [
        "x%y"
      ]
    },
    {
      "cell_type": "code",
      "execution_count": 162,
      "metadata": {
        "pycharm": {
          "name": "#%%\n"
        },
        "id": "0HvDogyrPqZF",
        "outputId": "900ae2ca-048e-48a9-b5aa-1a697ade0be0",
        "colab": {
          "base_uri": "https://localhost:8080/"
        }
      },
      "outputs": [
        {
          "output_type": "execute_result",
          "data": {
            "text/plain": [
              "4"
            ]
          },
          "metadata": {},
          "execution_count": 162
        }
      ],
      "source": [
        "x=2\n",
        "x**2"
      ]
    },
    {
      "cell_type": "code",
      "execution_count": 163,
      "metadata": {
        "pycharm": {
          "name": "#%%\n"
        },
        "id": "QCRbn1fxPqZF",
        "outputId": "39c7459a-1450-4b6d-ac31-d5680ca03be9",
        "colab": {
          "base_uri": "https://localhost:8080/"
        }
      },
      "outputs": [
        {
          "output_type": "execute_result",
          "data": {
            "text/plain": [
              "2.5"
            ]
          },
          "metadata": {},
          "execution_count": 163
        }
      ],
      "source": [
        "((2.0+3)/4)*2"
      ]
    },
    {
      "cell_type": "code",
      "execution_count": 164,
      "metadata": {
        "pycharm": {
          "name": "#%%\n"
        },
        "id": "nj1WBHnWPqZF",
        "outputId": "8086ca0d-7fdc-46a5-a846-57d955aa49d2",
        "colab": {
          "base_uri": "https://localhost:8080/"
        }
      },
      "outputs": [
        {
          "output_type": "stream",
          "name": "stdout",
          "text": [
            "Sacar por pantalla\n"
          ]
        }
      ],
      "source": [
        "print (\"Sacar por pantalla\")"
      ]
    },
    {
      "cell_type": "code",
      "execution_count": 165,
      "metadata": {
        "pycharm": {
          "name": "#%%\n"
        },
        "id": "joJZzG_IPqZF",
        "outputId": "cba40cde-efb9-4219-ab81-43d9dfa4fbff",
        "colab": {
          "base_uri": "https://localhost:8080/"
        }
      },
      "outputs": [
        {
          "output_type": "stream",
          "name": "stdout",
          "text": [
            "El resultado es 2\n"
          ]
        }
      ],
      "source": [
        "print (\"El resultado es \"+str(x))"
      ]
    },
    {
      "cell_type": "code",
      "execution_count": 166,
      "metadata": {
        "pycharm": {
          "name": "#%%\n"
        },
        "id": "O3TH3e5PPqZF",
        "outputId": "b9351158-4b1d-417b-918a-85015ac7c905",
        "colab": {
          "base_uri": "https://localhost:8080/"
        }
      },
      "outputs": [
        {
          "output_type": "execute_result",
          "data": {
            "text/plain": [
              "5"
            ]
          },
          "metadata": {},
          "execution_count": 166
        }
      ],
      "source": [
        "x = 2\n",
        "y = 3\n",
        "x + y"
      ]
    },
    {
      "cell_type": "code",
      "execution_count": 167,
      "metadata": {
        "pycharm": {
          "name": "#%%\n"
        },
        "id": "2b0q6bAtPqZF",
        "outputId": "bf0b08b2-297b-4974-ebe6-5ba9f5e1cc28",
        "colab": {
          "base_uri": "https://localhost:8080/"
        }
      },
      "outputs": [
        {
          "output_type": "execute_result",
          "data": {
            "text/plain": [
              "True"
            ]
          },
          "metadata": {},
          "execution_count": 167
        }
      ],
      "source": [
        "x=True\n",
        "x"
      ]
    },
    {
      "cell_type": "code",
      "execution_count": 168,
      "metadata": {
        "pycharm": {
          "name": "#%%\n"
        },
        "id": "Ub31ucKqPqZF",
        "outputId": "17bc520b-77a6-4ee9-c472-632b387c8fc5",
        "colab": {
          "base_uri": "https://localhost:8080/"
        }
      },
      "outputs": [
        {
          "output_type": "execute_result",
          "data": {
            "text/plain": [
              "False"
            ]
          },
          "metadata": {},
          "execution_count": 168
        }
      ],
      "source": [
        "y=False\n",
        "y"
      ]
    },
    {
      "cell_type": "code",
      "execution_count": 169,
      "metadata": {
        "pycharm": {
          "name": "#%%\n"
        },
        "id": "4Mxfz6P8PqZF",
        "outputId": "a584a811-eba6-4637-95a9-e3d343b62b54",
        "colab": {
          "base_uri": "https://localhost:8080/"
        }
      },
      "outputs": [
        {
          "output_type": "execute_result",
          "data": {
            "text/plain": [
              "False"
            ]
          },
          "metadata": {},
          "execution_count": 169
        }
      ],
      "source": [
        "x==y"
      ]
    },
    {
      "cell_type": "code",
      "execution_count": 170,
      "metadata": {
        "pycharm": {
          "name": "#%%\n"
        },
        "id": "fgwuPA-4PqZF",
        "outputId": "d4884dc8-99dc-4c48-e3c9-bf72679f2a1f",
        "colab": {
          "base_uri": "https://localhost:8080/"
        }
      },
      "outputs": [
        {
          "output_type": "execute_result",
          "data": {
            "text/plain": [
              "False"
            ]
          },
          "metadata": {},
          "execution_count": 170
        }
      ],
      "source": [
        "x=2\n",
        "y=3\n",
        "x==y"
      ]
    },
    {
      "cell_type": "code",
      "execution_count": 171,
      "metadata": {
        "pycharm": {
          "name": "#%%\n"
        },
        "id": "FFWjDthbPqZF",
        "outputId": "db4cf711-63be-4f93-fd6d-088b4daa1a9c",
        "colab": {
          "base_uri": "https://localhost:8080/"
        }
      },
      "outputs": [
        {
          "output_type": "execute_result",
          "data": {
            "text/plain": [
              "True"
            ]
          },
          "metadata": {},
          "execution_count": 171
        }
      ],
      "source": [
        "x!=y"
      ]
    },
    {
      "cell_type": "code",
      "execution_count": 172,
      "metadata": {
        "pycharm": {
          "name": "#%%\n"
        },
        "id": "Vr8KIM_vPqZF",
        "outputId": "522fd549-737c-4861-d10f-322ea0eb5dd5",
        "colab": {
          "base_uri": "https://localhost:8080/"
        }
      },
      "outputs": [
        {
          "output_type": "execute_result",
          "data": {
            "text/plain": [
              "True"
            ]
          },
          "metadata": {},
          "execution_count": 172
        }
      ],
      "source": [
        "x<y"
      ]
    },
    {
      "cell_type": "code",
      "execution_count": 173,
      "metadata": {
        "pycharm": {
          "name": "#%%\n"
        },
        "id": "8BThbGHvPqZF",
        "outputId": "e30ba210-71d0-4b43-c314-adce4f5e1cca",
        "colab": {
          "base_uri": "https://localhost:8080/"
        }
      },
      "outputs": [
        {
          "output_type": "execute_result",
          "data": {
            "text/plain": [
              "False"
            ]
          },
          "metadata": {},
          "execution_count": 173
        }
      ],
      "source": [
        "x>y"
      ]
    },
    {
      "cell_type": "code",
      "execution_count": 174,
      "metadata": {
        "pycharm": {
          "name": "#%%\n"
        },
        "id": "2YNgooyyPqZF",
        "outputId": "aa72f8dc-e1bc-4dd2-f3a1-63bf23183141",
        "colab": {
          "base_uri": "https://localhost:8080/"
        }
      },
      "outputs": [
        {
          "output_type": "execute_result",
          "data": {
            "text/plain": [
              "True"
            ]
          },
          "metadata": {},
          "execution_count": 174
        }
      ],
      "source": [
        "x<=y"
      ]
    },
    {
      "cell_type": "code",
      "execution_count": 175,
      "metadata": {
        "pycharm": {
          "name": "#%%\n"
        },
        "id": "R96oKBICPqZF",
        "outputId": "ad0aa0a8-0ee4-4e8d-9ac6-c0734c2c1060",
        "colab": {
          "base_uri": "https://localhost:8080/"
        }
      },
      "outputs": [
        {
          "output_type": "execute_result",
          "data": {
            "text/plain": [
              "False"
            ]
          },
          "metadata": {},
          "execution_count": 175
        }
      ],
      "source": [
        "x>=y"
      ]
    },
    {
      "cell_type": "code",
      "execution_count": 176,
      "metadata": {
        "pycharm": {
          "name": "#%%\n"
        },
        "id": "a1rbHBkePqZF",
        "outputId": "c791ffb2-116c-40bf-c480-5efe37c7e3ab",
        "colab": {
          "base_uri": "https://localhost:8080/"
        }
      },
      "outputs": [
        {
          "output_type": "stream",
          "name": "stdout",
          "text": [
            "<class 'int'>\n",
            "<class 'float'>\n",
            "<class 'str'>\n",
            "<class 'bool'>\n"
          ]
        }
      ],
      "source": [
        "x = 2\n",
        "y = 3.4\n",
        "z = 'Hola'\n",
        "w = True\n",
        "\n",
        "print (type(x))\n",
        "print (type(y))\n",
        "print (type(z))\n",
        "print (type(w))\n"
      ]
    },
    {
      "cell_type": "code",
      "execution_count": 177,
      "metadata": {
        "pycharm": {
          "name": "#%%\n"
        },
        "id": "oMJyxvKHPqZG"
      },
      "outputs": [],
      "source": [
        "def suma(x,y):\n",
        "    return x+y"
      ]
    },
    {
      "cell_type": "code",
      "execution_count": 178,
      "outputs": [
        {
          "output_type": "execute_result",
          "data": {
            "text/plain": [
              "5.4"
            ]
          },
          "metadata": {},
          "execution_count": 178
        }
      ],
      "source": [
        "suma(x,y)"
      ],
      "metadata": {
        "pycharm": {
          "name": "#%%\n"
        },
        "id": "z5tOceHjPqZG",
        "outputId": "7db0ff41-c7b4-4547-a1d8-f21a13f39a7b",
        "colab": {
          "base_uri": "https://localhost:8080/"
        }
      }
    },
    {
      "cell_type": "markdown",
      "source": [
        "## EJERCICIO"
      ],
      "metadata": {
        "id": "-nhftk-EU5JA"
      }
    },
    {
      "cell_type": "markdown",
      "source": [
        "Desarrolla una función **fibonacci()** que calcule el número de Fibonacci en una posición **n** dada.\n",
        "\n",
        "**NOTA:**La secuencia de Fibonacci comienza con 0 y 1, y cada número siguiente es la suma de los dos anteriores: 0, 1, 1, 2, 3, 5, 8, 13, 21, ...\n",
        "\n",
        "**Requisitos:**\n",
        "Implementa la función fibonacci(n: int) -> int que retorne el n-ésimo número de Fibonacci. Asegúrate de manejar los casos base para n=0 y n=1.\n",
        "\n",
        "* Utiliza la función fibonacci para generar una lista o array de los 20 primeros números de Fibonacci.\n"
      ],
      "metadata": {
        "id": "rIEBrALBVKEG"
      }
    },
    {
      "cell_type": "code",
      "source": [
        "# Implementación de la función de Fibonacci\n",
        "def fibonacci(n):\n",
        "  # Definir la función\n",
        "  num = [0]\n",
        "  if n>1:\n",
        "    num.append(1)\n",
        "    if n>2:\n",
        "      for i in range(n-2):\n",
        "        num.append(num[len(num)-1]+num[len(num)-2])\n",
        "  return num"
      ],
      "metadata": {
        "id": "NiGmVJ8GVk2k"
      },
      "execution_count": 179,
      "outputs": []
    },
    {
      "cell_type": "code",
      "source": [
        "import numpy as np\n",
        "# Cargar la variable primeros_20_fibonacci con un array de los 20 primeros números fibonacci"
      ],
      "metadata": {
        "id": "E4X10p1vV7Ir"
      },
      "execution_count": 180,
      "outputs": []
    },
    {
      "cell_type": "code",
      "source": [
        "# Los 100 primeros números de Fibonacci \"hardcodeados\"\n",
        "veinte_primeros_fibonacci_hardcoded = [\n",
        "    0, 1, 1, 2, 3, 5, 8, 13, 21, 34,\n",
        "    55, 89, 144, 233, 377, 610, 987, 1597, 2584, 4181\n",
        "]\n",
        "primeros_20_fibonacci = fibonacci(20)\n",
        "# Usamos assert para comparar los dos arrays\n",
        "assert np.array_equal(primeros_20_fibonacci, veinte_primeros_fibonacci_hardcoded), \"Los arrays no son iguales\""
      ],
      "metadata": {
        "id": "sEys782MWfEN"
      },
      "execution_count": 181,
      "outputs": []
    },
    {
      "cell_type": "markdown",
      "source": [],
      "metadata": {
        "id": "HeQhLQiXWJO1"
      }
    }
  ],
  "metadata": {
    "kernelspec": {
      "display_name": "Python 3",
      "language": "python",
      "name": "python3"
    },
    "language_info": {
      "codemirror_mode": {
        "name": "ipython",
        "version": 3
      },
      "file_extension": ".py",
      "mimetype": "text/x-python",
      "name": "python",
      "nbconvert_exporter": "python",
      "pygments_lexer": "ipython3",
      "version": "3.6.5"
    },
    "colab": {
      "provenance": [],
      "toc_visible": true,
      "include_colab_link": true
    }
  },
  "nbformat": 4,
  "nbformat_minor": 0
}